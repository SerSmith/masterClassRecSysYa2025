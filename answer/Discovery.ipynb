{
 "cells": [
  {
   "cell_type": "markdown",
   "id": "06d87a85",
   "metadata": {},
   "source": [
    "# Графики"
   ]
  },
  {
   "cell_type": "code",
   "execution_count": null,
   "id": "81df0ddf",
   "metadata": {},
   "outputs": [],
   "source": [
    "from tqdm import tqdm\n",
    "quant_hist = 2\n",
    "\n",
    "splitter = TimeRangeSplitter(\n",
    "    test_size=\"7D\",\n",
    "    n_splits=quant_hist,\n",
    "    filter_already_seen=True,\n",
    ")\n",
    "\n",
    "\n",
    "splits = splitter.get_test_fold_borders(dataset.interactions)\n",
    "\n",
    "print(splits)\n",
    "\n",
    "first_date = splits[0][0]\n",
    "\n",
    "# Настраиваем стиль (опционально)\n",
    "sns.set_style(\"whitegrid\")\n",
    "sns.set_palette(\"bright\")\n",
    "\n",
    "# Создаем фигуру и оси\n",
    "fig, ax = plt.subplots(figsize=(10, 6))\n",
    "\n",
    "recoms_list = []\n",
    "for i in tqdm(range(quant_hist)):\n",
    "    second_date = splits[i][1]\n",
    "    print(second_date)\n",
    "    als_dataset =  Dataset.construct(\n",
    "    interactions_df=interactions_first_period[(pd.to_datetime(interactions_first_period['datetime']) <= pd.to_datetime(first_date)) & (pd.to_datetime(interactions_first_period['datetime']) <= pd.to_datetime(second_date))],\n",
    "    )\n",
    "\n",
    "\n",
    "    als_model = als.fit(dataset)\n",
    "    recoms = als_model.recommend(users=dataset.user_id_map.external_ids[:30], dataset=dataset, filter_viewed=True, k=100)\n",
    "    recoms_list.append(recoms[\"score\"])\n",
    "    # Строим первую гистограмму с прозрачностью\n",
    "    sns.histplot(recoms[\"score\"], ax=ax, label=f'Распределение скоров {i}',  kde=True, bins=50) # Добавлен kde=True для сглаживания\n",
    "\n",
    "\n",
    "\n",
    "# Добавляем заголовок, подписи осей и легенду\n",
    "ax.set_title('Несколько гистограмм на одном графике')\n",
    "ax.set_xlabel('Значения')\n",
    "ax.set_ylabel('Частота')\n",
    "ax.legend()\n",
    "\n",
    "# Отображаем график\n",
    "plt.show()\n"
   ]
  },
  {
   "cell_type": "markdown",
   "id": "cc0bab17",
   "metadata": {},
   "source": [
    "# Calc NDCG"
   ]
  },
  {
   "cell_type": "code",
   "execution_count": null,
   "id": "93c467a4",
   "metadata": {},
   "outputs": [],
   "source": [
    "from sklearn.metrics import ndcg_score\n",
    "import numpy as np\n",
    "\n",
    "true_relevance = pd.read_csv(\"data/true_relevance.csv\")\n",
    "\n",
    "val_scores = X_val[[\"user_id\", \"item_id\"]]\n",
    "val_scores['prediction'] = model.predict(val_pool)\n",
    "\n",
    "all_scores = val_scores.merge(true_relevance, on=[\"user_id\", \"item_id\"])\n",
    "grouped = all_scores.groupby(\"user_id\").aggregate(lambda x: list(x))\n",
    "\n",
    "\n",
    "pred = []\n",
    "true_pred = []\n",
    "for a in grouped.itertuples():\n",
    "    pred.append(a.prediction)\n",
    "    true_pred.append(a.true_relevance)\n",
    "\n",
    "ndcg_score(true_pred, pred)"
   ]
  },
  {
   "cell_type": "markdown",
   "id": "a6e2437c",
   "metadata": {},
   "source": [
    "# True scores"
   ]
  },
  {
   "cell_type": "code",
   "execution_count": null,
   "id": "3bc80516",
   "metadata": {},
   "outputs": [],
   "source": []
  },
  {
   "cell_type": "markdown",
   "id": "c01de1b9",
   "metadata": {},
   "source": [
    "# SHAP"
   ]
  },
  {
   "cell_type": "code",
   "execution_count": null,
   "id": "68efedb7",
   "metadata": {},
   "outputs": [],
   "source": [
    "import shap\n",
    "\n",
    "# Создайте экземпляр SHAP\n",
    "explainer = shap.TreeExplainer(model)\n",
    "\n",
    "# Получите SHAP-значения для данных\n",
    "shap_values = explainer(X_val.drop(columns=[\"user_id\", \"item_id\"]))\n",
    "\n",
    "# Постройте SHAP-график\n",
    "shap.plots.beeswarm(shap_values)\n"
   ]
  },
  {
   "cell_type": "markdown",
   "id": "a3bc6087",
   "metadata": {},
   "source": [
    "# Правильный датасет"
   ]
  },
  {
   "cell_type": "code",
   "execution_count": null,
   "id": "4ef162c3",
   "metadata": {},
   "outputs": [],
   "source": [
    "target_df = interactions_second_period[[\"user_id\", \"item_id\"]].drop_duplicates()\n",
    "target_df[\"target\"] = interactions_second_period[\"action\"].map({\"click\": 1, \"show\": 0})\n",
    "\n",
    "\n",
    "all_features = pd.merge(users[\"user_id\"], items[\"item_id\"], how=\"cross\")"
   ]
  },
  {
   "cell_type": "markdown",
   "id": "6e194dcc",
   "metadata": {},
   "source": [
    "# Рассчет фичей"
   ]
  },
  {
   "cell_type": "code",
   "execution_count": null,
   "id": "aab37746",
   "metadata": {},
   "outputs": [],
   "source": [
    "def calc_counters(interactions, user_df, item_df):\n",
    "    \"\"\"\n",
    "    Calculates features for each user-item pair in the dataframe.\n",
    "    \"\"\"\n",
    "    \n",
    "    # target_df = interactions[[\"user_id\", \"item_id\"]]\n",
    "    # target_df[\"target\"] = interactions[\"action\"].map({\"click\": 1, \"show\": 0})\n",
    "    \n",
    "    # print(target_df)\n",
    "    \n",
    "    # user_counters = interactions[\"user_id\"].value_counts().reset_index().rename(columns={\"count\": \"user_count\"})\n",
    "    # item_counters = target_df.drop(columns=\"user_id\").groupby(\"item_id\").mean().rename(columns={\"target\": \"ctr\"})\n",
    "\n",
    "    # target_df.drop(columns=\"user_id\").groupby(\"item_id\").mean().rename(columns={\"target\": \"ctr\"})\n",
    "    \n",
    "    # features_users = user_df.merge(user_counters, on=\"user_id\")\n",
    "    # features_items = item_df.merge(item_counters, on=\"item_id\")\n",
    "    \n",
    "    # return features_users, features_items\n",
    "    \n",
    "    return user_df, item_df\n"
   ]
  }
 ],
 "metadata": {
  "language_info": {
   "name": "python"
  }
 },
 "nbformat": 4,
 "nbformat_minor": 5
}
