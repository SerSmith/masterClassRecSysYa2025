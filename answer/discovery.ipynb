{
 "cells": [
  {
   "cell_type": "markdown",
   "id": "06d87a85",
   "metadata": {},
   "source": [
    "# Графики"
   ]
  },
  {
   "cell_type": "code",
   "execution_count": null,
   "id": "81df0ddf",
   "metadata": {},
   "outputs": [],
   "source": [
    "from tqdm import tqdm\n",
    "quant_hist = 2\n",
    "\n",
    "data = dataset.interactions.df\n",
    "\n",
    "# создадим 2 сплита 1 день - 60 день и 1 день - 120 день\n",
    "splitter = TimeRangeSplitter(\n",
    "    test_size=\"60D\",\n",
    "    n_splits=quant_hist,\n",
    "    filter_already_seen=True,\n",
    ")\n",
    "\n",
    "splits = splitter.get_test_fold_borders(dataset.interactions)\n",
    "\n",
    "first_date = splits[0][0]\n",
    "\n",
    "sns.set_style(\"whitegrid\")\n",
    "sns.set_palette(\"bright\")\n",
    "\n",
    "fig, ax = plt.subplots(figsize=(10, 6))\n",
    "\n",
    "als_ = ImplicitALSWrapperModel(AlternatingLeastSquares(factors=32, num_threads=7))\n",
    "\n",
    "recoms_list = []\n",
    "for i in tqdm(range(quant_hist)):\n",
    "    second_date = splits[i][1]\n",
    "    # Фильтруем данные по splitter dates\n",
    "    als_df = data[(pd.to_datetime(data['datetime']) >= pd.to_datetime(first_date)) & (pd.to_datetime(data['datetime']) <= pd.to_datetime(second_date))]\n",
    "    als_dataset =  Dataset.construct(\n",
    "    interactions_df=als_df,\n",
    "    )\n",
    "    als_model = als_.fit(als_dataset)\n",
    "    recoms = als_model.recommend(users=als_dataset.user_id_map.external_ids, dataset=als_dataset, filter_viewed=True, k=100)\n",
    "    print(recoms[\"score\"].describe())\n",
    "    recoms_list.append(recoms[\"score\"])\n",
    "\n",
    "    sns.histplot(recoms[\"score\"], ax=ax, label=f'Распределение скоров {i}',  kde=True, bins=50) # Добавлен kde=True для сглаживания\n",
    "\n",
    "\n",
    "\n",
    "ax.set_title('Несколько гистограмм на одном графике')\n",
    "ax.set_xlabel('Значения')\n",
    "ax.set_ylabel('Частота')\n",
    "ax.legend()\n",
    "\n",
    "# Отображаем график\n",
    "plt.show()\n"
   ]
  },
  {
   "cell_type": "markdown",
   "id": "a6e2437c",
   "metadata": {},
   "source": [
    "# Нормировка"
   ]
  },
  {
   "cell_type": "code",
   "execution_count": null,
   "id": "3bc80516",
   "metadata": {},
   "outputs": [],
   "source": [
    "# Добавим нормировку\n",
    "def normalize(data):\n",
    "    return (data - data.mean()) / data.std()\n",
    "\n",
    "recom_sasrec[\"sasrec_score\"] = normalize(recom_sasrec[\"sasrec_score\"])\n",
    "recom_ease[\"ease_score\"] = normalize(recom_ease[\"ease_score\"])\n",
    "recom_als[\"als_score\"] = normalize(recom_als[\"als_score\"])"
   ]
  },
  {
   "cell_type": "markdown",
   "id": "c01de1b9",
   "metadata": {},
   "source": [
    "# SHAP"
   ]
  },
  {
   "cell_type": "code",
   "execution_count": null,
   "id": "68efedb7",
   "metadata": {},
   "outputs": [],
   "source": [
    "import shap\n",
    "\n",
    "# Создайте экземпляр SHAP\n",
    "explainer = shap.TreeExplainer(model)\n",
    "\n",
    "# Получите SHAP-значения для данных\n",
    "shap_values = explainer(X_val.drop(columns=[\"user_id\", \"item_id\"]))\n",
    "\n",
    "# Постройте SHAP-график\n",
    "shap.plots.beeswarm(shap_values)\n"
   ]
  },
  {
   "cell_type": "markdown",
   "id": "cc0bab17",
   "metadata": {},
   "source": [
    "# Calc NDCG"
   ]
  },
  {
   "cell_type": "code",
   "execution_count": null,
   "id": "1bf16b7e",
   "metadata": {},
   "outputs": [],
   "source": [
    "from sklearn.metrics import ndcg_score\n",
    "import numpy as np\n",
    "from tqdm import tqdm\n",
    "\n",
    "true_relevance = pd.read_csv(\"data/true_relevance.csv\")\n",
    "\n",
    "val_scores = X_val[[\"user_id\", \"item_id\"]]\n",
    "val_scores['prediction'] = model.predict(val_pool)\n",
    "\n",
    "all_scores = val_scores.merge(true_relevance, on=[\"user_id\", \"item_id\"])\n",
    "\n",
    "all_ndcg = []\n",
    "\n",
    "for user in tqdm(all_scores[\"user_id\"].unique()):\n",
    "    if all_scores[all_scores[\"user_id\"] == user].shape[0] > 1:\n",
    "        sc = ndcg_score(all_scores.loc[all_scores[\"user_id\"] == user, \"true_relevance\"].to_numpy().reshape(1, -1), all_scores.loc[all_scores[\"user_id\"] == user, \"prediction\"].to_numpy().reshape(1, -1), k=6)\n",
    "        all_ndcg.append(sc)\n",
    "\n",
    "print(np.mean(all_ndcg))"
   ]
  },
  {
   "cell_type": "markdown",
   "id": "a3bc6087",
   "metadata": {},
   "source": [
    "# Правильный датасет"
   ]
  },
  {
   "cell_type": "code",
   "execution_count": null,
   "id": "4ef162c3",
   "metadata": {},
   "outputs": [],
   "source": [
    "# Обучаемся - на логах\n",
    "target_df = interactions_second_period[[\"user_id\", \"item_id\"]].drop_duplicates()\n",
    "target_df[\"target\"] = interactions_second_period[\"action\"].map({\"click\": 1, \"show\": 0})\n",
    "\n",
    "\n",
    "all_features = pd.merge(users[\"user_id\"], items[\"item_id\"], how=\"cross\")\n",
    "all_features = all_features.merge(target_df, on=[\"user_id\", \"item_id\"], how=\"left\")\n",
    "all_features = all_features.fillna(0)\n"
   ]
  }
 ],
 "metadata": {
  "language_info": {
   "name": "python"
  }
 },
 "nbformat": 4,
 "nbformat_minor": 5
}
