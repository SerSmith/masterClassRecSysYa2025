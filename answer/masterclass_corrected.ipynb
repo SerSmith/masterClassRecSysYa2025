{
 "cells": [
  {
   "cell_type": "code",
   "execution_count": 1,
   "metadata": {},
   "outputs": [],
   "source": [
    "import os\n",
    "os.environ[\"OPENBLAS_NUM_THREADS\"] = \"1\"\n",
    "os.environ[\"OMP_NUM_THREADS\"] = \"1\"\n",
    "\n",
    "import threadpoolctl\n",
    "threadpoolctl.threadpool_limits(1, \"blas\")\n",
    "\n",
    "import warnings\n",
    "warnings.filterwarnings('ignore')\n",
    "\n",
    "\n",
    "import pandas as pd\n",
    "import seaborn as sns\n",
    "import matplotlib.pyplot as plt\n",
    "\n",
    "\n",
    "from sklearn.model_selection import train_test_split\n",
    "\n",
    "from rectools.dataset import Dataset\n",
    "from rectools.metrics import (\n",
    "    NDCG,\n",
    "    CoveredUsers,\n",
    "    AvgRecPopularity,\n",
    "    Intersection,\n",
    "    HitRate,\n",
    "    Serendipity,\n",
    "    CatalogCoverage\n",
    ")\n",
    "from rectools.models import PopularModel, EASEModel, SASRecModel, ImplicitALSWrapperModel\n",
    "from rectools.model_selection import TimeRangeSplitter, cross_validate\n",
    "\n",
    "from implicit.als import AlternatingLeastSquares\n",
    "from catboost import CatBoostRanker, Pool\n"
   ]
  },
  {
   "cell_type": "code",
   "execution_count": 2,
   "metadata": {},
   "outputs": [],
   "source": [
    "interactions = pd.read_csv(\"../data/interactions.csv\")\n",
    "items = pd.read_csv(\"../data/items.csv\")\n",
    "users = pd.read_csv(\"../data/users.csv\")"
   ]
  },
  {
   "cell_type": "markdown",
   "metadata": {},
   "source": [
    "# EDA"
   ]
  },
  {
   "cell_type": "markdown",
   "metadata": {},
   "source": [
    "Посмотрим на данные"
   ]
  },
  {
   "cell_type": "code",
   "execution_count": 3,
   "metadata": {},
   "outputs": [
    {
     "data": {
      "text/html": [
       "<div>\n",
       "<style scoped>\n",
       "    .dataframe tbody tr th:only-of-type {\n",
       "        vertical-align: middle;\n",
       "    }\n",
       "\n",
       "    .dataframe tbody tr th {\n",
       "        vertical-align: top;\n",
       "    }\n",
       "\n",
       "    .dataframe thead th {\n",
       "        text-align: right;\n",
       "    }\n",
       "</style>\n",
       "<table border=\"1\" class=\"dataframe\">\n",
       "  <thead>\n",
       "    <tr style=\"text-align: right;\">\n",
       "      <th></th>\n",
       "      <th>user_id</th>\n",
       "      <th>item_id</th>\n",
       "      <th>datetime</th>\n",
       "      <th>action</th>\n",
       "    </tr>\n",
       "  </thead>\n",
       "  <tbody>\n",
       "    <tr>\n",
       "      <th>0</th>\n",
       "      <td>0</td>\n",
       "      <td>11.0</td>\n",
       "      <td>2025-05-28 07:36:48.225275608</td>\n",
       "      <td>click</td>\n",
       "    </tr>\n",
       "    <tr>\n",
       "      <th>1</th>\n",
       "      <td>0</td>\n",
       "      <td>73.0</td>\n",
       "      <td>2025-07-21 17:26:51.803754354</td>\n",
       "      <td>click</td>\n",
       "    </tr>\n",
       "    <tr>\n",
       "      <th>2</th>\n",
       "      <td>0</td>\n",
       "      <td>51.0</td>\n",
       "      <td>2025-05-05 20:20:44.838313014</td>\n",
       "      <td>click</td>\n",
       "    </tr>\n",
       "    <tr>\n",
       "      <th>3</th>\n",
       "      <td>0</td>\n",
       "      <td>74.0</td>\n",
       "      <td>2025-04-29 05:29:06.051551314</td>\n",
       "      <td>click</td>\n",
       "    </tr>\n",
       "    <tr>\n",
       "      <th>4</th>\n",
       "      <td>0</td>\n",
       "      <td>38.0</td>\n",
       "      <td>2025-04-07 14:57:00.062975580</td>\n",
       "      <td>click</td>\n",
       "    </tr>\n",
       "    <tr>\n",
       "      <th>...</th>\n",
       "      <td>...</td>\n",
       "      <td>...</td>\n",
       "      <td>...</td>\n",
       "      <td>...</td>\n",
       "    </tr>\n",
       "    <tr>\n",
       "      <th>3941443</th>\n",
       "      <td>9999</td>\n",
       "      <td>6.0</td>\n",
       "      <td>2025-07-12 18:48:25.630890802</td>\n",
       "      <td>show</td>\n",
       "    </tr>\n",
       "    <tr>\n",
       "      <th>3941444</th>\n",
       "      <td>9999</td>\n",
       "      <td>29.0</td>\n",
       "      <td>2025-07-12 18:48:25.630890802</td>\n",
       "      <td>show</td>\n",
       "    </tr>\n",
       "    <tr>\n",
       "      <th>3941445</th>\n",
       "      <td>9999</td>\n",
       "      <td>58.0</td>\n",
       "      <td>2025-07-12 18:48:25.630890802</td>\n",
       "      <td>show</td>\n",
       "    </tr>\n",
       "    <tr>\n",
       "      <th>3941446</th>\n",
       "      <td>9999</td>\n",
       "      <td>NaN</td>\n",
       "      <td>2025-07-05 06:57:18.551431996</td>\n",
       "      <td>show</td>\n",
       "    </tr>\n",
       "    <tr>\n",
       "      <th>3941447</th>\n",
       "      <td>9999</td>\n",
       "      <td>NaN</td>\n",
       "      <td>2025-04-06 06:03:33.936542636</td>\n",
       "      <td>show</td>\n",
       "    </tr>\n",
       "  </tbody>\n",
       "</table>\n",
       "<p>3941448 rows × 4 columns</p>\n",
       "</div>"
      ],
      "text/plain": [
       "         user_id  item_id                       datetime action\n",
       "0              0     11.0  2025-05-28 07:36:48.225275608  click\n",
       "1              0     73.0  2025-07-21 17:26:51.803754354  click\n",
       "2              0     51.0  2025-05-05 20:20:44.838313014  click\n",
       "3              0     74.0  2025-04-29 05:29:06.051551314  click\n",
       "4              0     38.0  2025-04-07 14:57:00.062975580  click\n",
       "...          ...      ...                            ...    ...\n",
       "3941443     9999      6.0  2025-07-12 18:48:25.630890802   show\n",
       "3941444     9999     29.0  2025-07-12 18:48:25.630890802   show\n",
       "3941445     9999     58.0  2025-07-12 18:48:25.630890802   show\n",
       "3941446     9999      NaN  2025-07-05 06:57:18.551431996   show\n",
       "3941447     9999      NaN  2025-04-06 06:03:33.936542636   show\n",
       "\n",
       "[3941448 rows x 4 columns]"
      ]
     },
     "execution_count": 3,
     "metadata": {},
     "output_type": "execute_result"
    }
   ],
   "source": [
    "interactions"
   ]
  },
  {
   "cell_type": "code",
   "execution_count": 4,
   "metadata": {},
   "outputs": [
    {
     "data": {
      "text/plain": [
       "action\n",
       "show     3861511\n",
       "click      79937\n",
       "Name: count, dtype: int64"
      ]
     },
     "execution_count": 4,
     "metadata": {},
     "output_type": "execute_result"
    }
   ],
   "source": [
    "interactions['action'].value_counts()"
   ]
  },
  {
   "cell_type": "code",
   "execution_count": 5,
   "metadata": {},
   "outputs": [
    {
     "data": {
      "image/png": "[encoded data removed]",
      "text/plain": [
       "<Figure size 1000x1000 with 1 Axes>"
      ]
     },
     "metadata": {},
     "output_type": "display_data"
    }
   ],
   "source": [
    "interactions_plot_df = interactions.copy()\n",
    "interactions_plot_df[\"date\"] = pd.to_datetime(interactions_plot_df[\"datetime\"]).dt.date\n",
    "\n",
    "interactions_plot_df = interactions_plot_df.groupby([\"date\"])[interactions_plot_df.columns[0]].count().reset_index()\n",
    "\n",
    "\n",
    "plt.figure(figsize=(10,10))\n",
    "sns.barplot(x='date', y='user_id', data=interactions_plot_df)\n",
    "plt.xlabel('Дата')\n",
    "plt.xticks([])\n",
    "plt.ylabel('Количество интеракций')\n",
    "plt.title('Количество интеракций в день')\n",
    "plt.grid(True)\n",
    "plt.show()"
   ]
  },
  {
   "cell_type": "code",
   "execution_count": 6,
   "metadata": {},
   "outputs": [
    {
     "data": {
      "text/html": [
       "<div>\n",
       "<style scoped>\n",
       "    .dataframe tbody tr th:only-of-type {\n",
       "        vertical-align: middle;\n",
       "    }\n",
       "\n",
       "    .dataframe tbody tr th {\n",
       "        vertical-align: top;\n",
       "    }\n",
       "\n",
       "    .dataframe thead th {\n",
       "        text-align: right;\n",
       "    }\n",
       "</style>\n",
       "<table border=\"1\" class=\"dataframe\">\n",
       "  <thead>\n",
       "    <tr style=\"text-align: right;\">\n",
       "      <th></th>\n",
       "      <th>item_id</th>\n",
       "      <th>genre</th>\n",
       "      <th>mean_users_score</th>\n",
       "    </tr>\n",
       "  </thead>\n",
       "  <tbody>\n",
       "    <tr>\n",
       "      <th>0</th>\n",
       "      <td>0</td>\n",
       "      <td>Комедия</td>\n",
       "      <td>1.872701</td>\n",
       "    </tr>\n",
       "    <tr>\n",
       "      <th>1</th>\n",
       "      <td>1</td>\n",
       "      <td>Драма</td>\n",
       "      <td>4.753572</td>\n",
       "    </tr>\n",
       "    <tr>\n",
       "      <th>2</th>\n",
       "      <td>2</td>\n",
       "      <td>Мелодрама</td>\n",
       "      <td>3.659970</td>\n",
       "    </tr>\n",
       "    <tr>\n",
       "      <th>3</th>\n",
       "      <td>3</td>\n",
       "      <td>Драма</td>\n",
       "      <td>2.993292</td>\n",
       "    </tr>\n",
       "    <tr>\n",
       "      <th>4</th>\n",
       "      <td>4</td>\n",
       "      <td>Фантастика</td>\n",
       "      <td>0.780093</td>\n",
       "    </tr>\n",
       "    <tr>\n",
       "      <th>...</th>\n",
       "      <td>...</td>\n",
       "      <td>...</td>\n",
       "      <td>...</td>\n",
       "    </tr>\n",
       "    <tr>\n",
       "      <th>95</th>\n",
       "      <td>95</td>\n",
       "      <td>Мелодрама</td>\n",
       "      <td>2.468978</td>\n",
       "    </tr>\n",
       "    <tr>\n",
       "      <th>96</th>\n",
       "      <td>96</td>\n",
       "      <td>Драма</td>\n",
       "      <td>2.613664</td>\n",
       "    </tr>\n",
       "    <tr>\n",
       "      <th>97</th>\n",
       "      <td>97</td>\n",
       "      <td>Мелодрама</td>\n",
       "      <td>2.137705</td>\n",
       "    </tr>\n",
       "    <tr>\n",
       "      <th>98</th>\n",
       "      <td>98</td>\n",
       "      <td>Мелодрама</td>\n",
       "      <td>0.127096</td>\n",
       "    </tr>\n",
       "    <tr>\n",
       "      <th>99</th>\n",
       "      <td>99</td>\n",
       "      <td>Мелодрама</td>\n",
       "      <td>0.539457</td>\n",
       "    </tr>\n",
       "  </tbody>\n",
       "</table>\n",
       "<p>100 rows × 3 columns</p>\n",
       "</div>"
      ],
      "text/plain": [
       "    item_id       genre  mean_users_score\n",
       "0         0     Комедия          1.872701\n",
       "1         1       Драма          4.753572\n",
       "2         2   Мелодрама          3.659970\n",
       "3         3       Драма          2.993292\n",
       "4         4  Фантастика          0.780093\n",
       "..      ...         ...               ...\n",
       "95       95   Мелодрама          2.468978\n",
       "96       96       Драма          2.613664\n",
       "97       97   Мелодрама          2.137705\n",
       "98       98   Мелодрама          0.127096\n",
       "99       99   Мелодрама          0.539457\n",
       "\n",
       "[100 rows x 3 columns]"
      ]
     },
     "execution_count": 6,
     "metadata": {},
     "output_type": "execute_result"
    }
   ],
   "source": [
    "items"
   ]
  },
  {
   "cell_type": "code",
   "execution_count": 7,
   "metadata": {},
   "outputs": [
    {
     "data": {
      "text/plain": [
       "genre\n",
       "Мелодрама     27\n",
       "Драма         23\n",
       "Триллер       18\n",
       "Комедия       16\n",
       "Фантастика    16\n",
       "Name: count, dtype: int64"
      ]
     },
     "execution_count": 7,
     "metadata": {},
     "output_type": "execute_result"
    }
   ],
   "source": [
    "items.value_counts(\"genre\")"
   ]
  },
  {
   "cell_type": "code",
   "execution_count": 8,
   "metadata": {},
   "outputs": [
    {
     "data": {
      "text/html": [
       "<div>\n",
       "<style scoped>\n",
       "    .dataframe tbody tr th:only-of-type {\n",
       "        vertical-align: middle;\n",
       "    }\n",
       "\n",
       "    .dataframe tbody tr th {\n",
       "        vertical-align: top;\n",
       "    }\n",
       "\n",
       "    .dataframe thead th {\n",
       "        text-align: right;\n",
       "    }\n",
       "</style>\n",
       "<table border=\"1\" class=\"dataframe\">\n",
       "  <thead>\n",
       "    <tr style=\"text-align: right;\">\n",
       "      <th></th>\n",
       "      <th>user_id</th>\n",
       "      <th>sex_type</th>\n",
       "    </tr>\n",
       "  </thead>\n",
       "  <tbody>\n",
       "    <tr>\n",
       "      <th>0</th>\n",
       "      <td>0</td>\n",
       "      <td>M</td>\n",
       "    </tr>\n",
       "    <tr>\n",
       "      <th>1</th>\n",
       "      <td>1</td>\n",
       "      <td>F</td>\n",
       "    </tr>\n",
       "    <tr>\n",
       "      <th>2</th>\n",
       "      <td>2</td>\n",
       "      <td>M</td>\n",
       "    </tr>\n",
       "    <tr>\n",
       "      <th>3</th>\n",
       "      <td>3</td>\n",
       "      <td>M</td>\n",
       "    </tr>\n",
       "    <tr>\n",
       "      <th>4</th>\n",
       "      <td>4</td>\n",
       "      <td>M</td>\n",
       "    </tr>\n",
       "    <tr>\n",
       "      <th>...</th>\n",
       "      <td>...</td>\n",
       "      <td>...</td>\n",
       "    </tr>\n",
       "    <tr>\n",
       "      <th>9995</th>\n",
       "      <td>9995</td>\n",
       "      <td>M</td>\n",
       "    </tr>\n",
       "    <tr>\n",
       "      <th>9996</th>\n",
       "      <td>9996</td>\n",
       "      <td>F</td>\n",
       "    </tr>\n",
       "    <tr>\n",
       "      <th>9997</th>\n",
       "      <td>9997</td>\n",
       "      <td>M</td>\n",
       "    </tr>\n",
       "    <tr>\n",
       "      <th>9998</th>\n",
       "      <td>9998</td>\n",
       "      <td>M</td>\n",
       "    </tr>\n",
       "    <tr>\n",
       "      <th>9999</th>\n",
       "      <td>9999</td>\n",
       "      <td>M</td>\n",
       "    </tr>\n",
       "  </tbody>\n",
       "</table>\n",
       "<p>10000 rows × 2 columns</p>\n",
       "</div>"
      ],
      "text/plain": [
       "      user_id sex_type\n",
       "0           0        M\n",
       "1           1        F\n",
       "2           2        M\n",
       "3           3        M\n",
       "4           4        M\n",
       "...       ...      ...\n",
       "9995     9995        M\n",
       "9996     9996        F\n",
       "9997     9997        M\n",
       "9998     9998        M\n",
       "9999     9999        M\n",
       "\n",
       "[10000 rows x 2 columns]"
      ]
     },
     "execution_count": 8,
     "metadata": {},
     "output_type": "execute_result"
    }
   ],
   "source": [
    "users"
   ]
  },
  {
   "cell_type": "code",
   "execution_count": 9,
   "metadata": {},
   "outputs": [
    {
     "data": {
      "text/plain": [
       "sex_type\n",
       "F    5005\n",
       "M    4995\n",
       "Name: count, dtype: int64"
      ]
     },
     "execution_count": 9,
     "metadata": {},
     "output_type": "execute_result"
    }
   ],
   "source": [
    "users.value_counts(\"sex_type\")"
   ]
  },
  {
   "cell_type": "markdown",
   "metadata": {},
   "source": [
    "# Готовим модели"
   ]
  },
  {
   "cell_type": "markdown",
   "metadata": {},
   "source": [
    "Разделим выборку на 2 части  по времени:\n",
    "\n",
    "\n",
    "На 1 - ой части мы будем обучать модели, доступные из коробки в rectools, а также считать фичи для катбуста\n",
    "\n",
    "На 2 - ой части мы будем стакать результаты моделей в катбуст"
   ]
  },
  {
   "cell_type": "code",
   "execution_count": 10,
   "metadata": {},
   "outputs": [],
   "source": [
    "interactions[\"weight\"] = 1.0\n",
    "\n",
    "def split_time(datetimes, test_size=0.5):\n",
    "    datetimes_sorted = datetimes.sort_values().reset_index(drop=True)\n",
    "    split_date = datetimes_sorted[int(datetimes_sorted.shape[0] * test_size)]\n",
    "    return datetimes_sorted[datetimes_sorted < split_date].reset_index(drop=True), datetimes_sorted[datetimes_sorted >= split_date].reset_index(drop=True)\n",
    "    \n",
    "first_part, second_part = split_time(interactions[\"datetime\"])\n",
    "\n",
    "interactions_first_period = interactions[interactions[\"datetime\"].isin(first_part)]\n",
    "interactions_second_period = interactions[interactions[\"datetime\"].isin(second_part)]\n",
    "\n",
    "# Для некоторых моделе нужны только позитивные взаимодействия\n",
    "positive_interactions_first_period = interactions_first_period[interactions_first_period[\"action\"] == \"click\"]\n"
   ]
  },
  {
   "cell_type": "markdown",
   "metadata": {},
   "source": [
    "Инициируем рекоменедателные модели"
   ]
  },
  {
   "cell_type": "code",
   "execution_count": 11,
   "metadata": {},
   "outputs": [
    {
     "name": "stderr",
     "output_type": "stream",
     "text": [
      "GPU available: False, used: False\n",
      "TPU available: False, using: 0 TPU cores\n",
      "HPU available: False, using: 0 HPUs\n"
     ]
    }
   ],
   "source": [
    "dataset = Dataset.construct(\n",
    "    interactions_df=positive_interactions_first_period,\n",
    ")\n",
    "\n",
    "sasrec = SASRecModel(\n",
    "    session_max_len=20,\n",
    "    loss=\"softmax\",\n",
    "    n_factors=64,\n",
    "    n_blocks=1,\n",
    "    n_heads=4,\n",
    "    dropout_rate=0.2,\n",
    "    lr=0.001,\n",
    "    batch_size=128,\n",
    "    epochs=1,\n",
    "    verbose=1,\n",
    "    deterministic=True,\n",
    ")\n",
    "ease = EASEModel()\n",
    "als = ImplicitALSWrapperModel(AlternatingLeastSquares(factors=32, num_threads=7))"
   ]
  },
  {
   "cell_type": "markdown",
   "metadata": {},
   "source": [
    "Посомтрим качество базовых моделей"
   ]
  },
  {
   "cell_type": "code",
   "execution_count": 12,
   "metadata": {},
   "outputs": [
    {
     "name": "stderr",
     "output_type": "stream",
     "text": [
      "\n",
      "  | Name        | Type                     | Params | Mode \n",
      "-----------------------------------------------------------------\n",
      "0 | torch_model | TransformerTorchBackbone | 33.1 K | train\n",
      "-----------------------------------------------------------------\n",
      "33.1 K    Trainable params\n",
      "0         Non-trainable params\n",
      "33.1 K    Total params\n",
      "0.132     Total estimated model params size (MB)\n",
      "23        Modules in train mode\n",
      "0         Modules in eval mode\n"
     ]
    },
    {
     "name": "stdout",
     "output_type": "stream",
     "text": [
      "Epoch 0: 100%|██████████| 42/42 [00:01<00:00, 30.70it/s, v_num=13, train_loss=4.900]"
     ]
    },
    {
     "name": "stderr",
     "output_type": "stream",
     "text": [
      "`Trainer.fit` stopped: `max_epochs=1` reached.\n"
     ]
    },
    {
     "name": "stdout",
     "output_type": "stream",
     "text": [
      "Epoch 0: 100%|██████████| 42/42 [00:01<00:00, 30.63it/s, v_num=13, train_loss=4.900]\n"
     ]
    },
    {
     "name": "stderr",
     "output_type": "stream",
     "text": [
      "\n",
      "  | Name        | Type                     | Params | Mode \n",
      "-----------------------------------------------------------------\n",
      "0 | torch_model | TransformerTorchBackbone | 33.1 K | train\n",
      "-----------------------------------------------------------------\n",
      "33.1 K    Trainable params\n",
      "0         Non-trainable params\n",
      "33.1 K    Total params\n",
      "0.132     Total estimated model params size (MB)\n",
      "23        Modules in train mode\n",
      "0         Modules in eval mode\n"
     ]
    },
    {
     "name": "stdout",
     "output_type": "stream",
     "text": [
      "Epoch 0: 100%|██████████| 51/51 [00:01<00:00, 30.40it/s, v_num=14, train_loss=4.880]"
     ]
    },
    {
     "name": "stderr",
     "output_type": "stream",
     "text": [
      "`Trainer.fit` stopped: `max_epochs=1` reached.\n"
     ]
    },
    {
     "name": "stdout",
     "output_type": "stream",
     "text": [
      "Epoch 0: 100%|██████████| 51/51 [00:01<00:00, 30.35it/s, v_num=14, train_loss=4.880]\n"
     ]
    },
    {
     "name": "stderr",
     "output_type": "stream",
     "text": [
      "\n",
      "  | Name        | Type                     | Params | Mode \n",
      "-----------------------------------------------------------------\n",
      "0 | torch_model | TransformerTorchBackbone | 33.1 K | train\n",
      "-----------------------------------------------------------------\n",
      "33.1 K    Trainable params\n",
      "0         Non-trainable params\n",
      "33.1 K    Total params\n",
      "0.132     Total estimated model params size (MB)\n",
      "23        Modules in train mode\n",
      "0         Modules in eval mode\n"
     ]
    },
    {
     "name": "stdout",
     "output_type": "stream",
     "text": [
      "Epoch 0: 100%|██████████| 59/59 [00:01<00:00, 30.70it/s, v_num=15, train_loss=4.860]"
     ]
    },
    {
     "name": "stderr",
     "output_type": "stream",
     "text": [
      "`Trainer.fit` stopped: `max_epochs=1` reached.\n"
     ]
    },
    {
     "name": "stdout",
     "output_type": "stream",
     "text": [
      "Epoch 0: 100%|██████████| 59/59 [00:01<00:00, 30.66it/s, v_num=15, train_loss=4.860]\n"
     ]
    },
    {
     "name": "stderr",
     "output_type": "stream",
     "text": [
      "\n",
      "  | Name        | Type                     | Params | Mode \n",
      "-----------------------------------------------------------------\n",
      "0 | torch_model | TransformerTorchBackbone | 33.1 K | train\n",
      "-----------------------------------------------------------------\n",
      "33.1 K    Trainable params\n",
      "0         Non-trainable params\n",
      "33.1 K    Total params\n",
      "0.132     Total estimated model params size (MB)\n",
      "23        Modules in train mode\n",
      "0         Modules in eval mode\n"
     ]
    },
    {
     "name": "stdout",
     "output_type": "stream",
     "text": [
      "Epoch 0: 100%|██████████| 64/64 [00:02<00:00, 30.40it/s, v_num=16, train_loss=4.840]"
     ]
    },
    {
     "name": "stderr",
     "output_type": "stream",
     "text": [
      "`Trainer.fit` stopped: `max_epochs=1` reached.\n"
     ]
    },
    {
     "name": "stdout",
     "output_type": "stream",
     "text": [
      "Epoch 0: 100%|██████████| 64/64 [00:02<00:00, 30.36it/s, v_num=16, train_loss=4.840]\n"
     ]
    },
    {
     "name": "stderr",
     "output_type": "stream",
     "text": [
      "\n",
      "  | Name        | Type                     | Params | Mode \n",
      "-----------------------------------------------------------------\n",
      "0 | torch_model | TransformerTorchBackbone | 33.1 K | train\n",
      "-----------------------------------------------------------------\n",
      "33.1 K    Trainable params\n",
      "0         Non-trainable params\n",
      "33.1 K    Total params\n",
      "0.132     Total estimated model params size (MB)\n",
      "23        Modules in train mode\n",
      "0         Modules in eval mode\n"
     ]
    },
    {
     "name": "stdout",
     "output_type": "stream",
     "text": [
      "Epoch 0: 100%|██████████| 68/68 [00:02<00:00, 29.85it/s, v_num=17, train_loss=4.840]"
     ]
    },
    {
     "name": "stderr",
     "output_type": "stream",
     "text": [
      "`Trainer.fit` stopped: `max_epochs=1` reached.\n"
     ]
    },
    {
     "name": "stdout",
     "output_type": "stream",
     "text": [
      "Epoch 0: 100%|██████████| 68/68 [00:02<00:00, 29.82it/s, v_num=17, train_loss=4.840]\n"
     ]
    },
    {
     "data": {
      "text/html": [
       "<div>\n",
       "<style scoped>\n",
       "    .dataframe tbody tr th:only-of-type {\n",
       "        vertical-align: middle;\n",
       "    }\n",
       "\n",
       "    .dataframe tbody tr th {\n",
       "        vertical-align: top;\n",
       "    }\n",
       "\n",
       "    .dataframe thead th {\n",
       "        text-align: right;\n",
       "    }\n",
       "</style>\n",
       "<table border=\"1\" class=\"dataframe\">\n",
       "  <thead>\n",
       "    <tr style=\"text-align: right;\">\n",
       "      <th></th>\n",
       "      <th>HitRate@6</th>\n",
       "      <th>NDCG@6</th>\n",
       "      <th>CatalogCoverage@6</th>\n",
       "      <th>AvgRecPopularity@6</th>\n",
       "      <th>Serendipity@6</th>\n",
       "      <th>Intersection@6_popular</th>\n",
       "    </tr>\n",
       "    <tr>\n",
       "      <th>model</th>\n",
       "      <th></th>\n",
       "      <th></th>\n",
       "      <th></th>\n",
       "      <th></th>\n",
       "      <th></th>\n",
       "      <th></th>\n",
       "    </tr>\n",
       "  </thead>\n",
       "  <tbody>\n",
       "    <tr>\n",
       "      <th>popular</th>\n",
       "      <td>0.092792</td>\n",
       "      <td>0.015584</td>\n",
       "      <td>0.090</td>\n",
       "      <td>338.883261</td>\n",
       "      <td>0.000016</td>\n",
       "      <td>1.000000</td>\n",
       "    </tr>\n",
       "    <tr>\n",
       "      <th>ease</th>\n",
       "      <td>0.098184</td>\n",
       "      <td>0.016712</td>\n",
       "      <td>1.000</td>\n",
       "      <td>297.286664</td>\n",
       "      <td>0.002996</td>\n",
       "      <td>0.116155</td>\n",
       "    </tr>\n",
       "    <tr>\n",
       "      <th>sasrec</th>\n",
       "      <td>0.091055</td>\n",
       "      <td>0.015382</td>\n",
       "      <td>0.472</td>\n",
       "      <td>318.757592</td>\n",
       "      <td>0.001580</td>\n",
       "      <td>0.234701</td>\n",
       "    </tr>\n",
       "    <tr>\n",
       "      <th>als</th>\n",
       "      <td>0.096425</td>\n",
       "      <td>0.016308</td>\n",
       "      <td>0.710</td>\n",
       "      <td>303.505297</td>\n",
       "      <td>0.003004</td>\n",
       "      <td>0.054727</td>\n",
       "    </tr>\n",
       "  </tbody>\n",
       "</table>\n",
       "</div>"
      ],
      "text/plain": [
       "         HitRate@6    NDCG@6  CatalogCoverage@6  AvgRecPopularity@6  \\\n",
       "model                                                                 \n",
       "popular   0.092792  0.015584              0.090          338.883261   \n",
       "ease      0.098184  0.016712              1.000          297.286664   \n",
       "sasrec    0.091055  0.015382              0.472          318.757592   \n",
       "als       0.096425  0.016308              0.710          303.505297   \n",
       "\n",
       "         Serendipity@6  Intersection@6_popular  \n",
       "model                                           \n",
       "popular       0.000016                1.000000  \n",
       "ease          0.002996                0.116155  \n",
       "sasrec        0.001580                0.234701  \n",
       "als           0.003004                0.054727  "
      ]
     },
     "execution_count": 12,
     "metadata": {},
     "output_type": "execute_result"
    }
   ],
   "source": [
    "splitter = TimeRangeSplitter(\n",
    "    test_size=\"14D\",\n",
    "    n_splits=5,\n",
    "    filter_already_seen=True,\n",
    ")\n",
    "\n",
    "models = {\n",
    "    \"popular\": PopularModel(),\n",
    "    \"ease\": ease,\n",
    "    \"sasrec\": sasrec,\n",
    "    \"als\": als\n",
    "}\n",
    "\n",
    "metrics = {\n",
    "    \"HitRate@6\": HitRate(k=6),\n",
    "    \"NDCG@6\": NDCG(k=6),\n",
    "    \"CatalogCoverage@6\": CatalogCoverage(k=6, normalize=True), # Процент объектов из каталога, которые попали в топ 6 рекомендаций хоть кому-то\n",
    "    \"AvgRecPopularity@6\": AvgRecPopularity(k=6),  # Средняя популярность по топ 6 объектам\n",
    "    \"Intersection@6\": Intersection(k=6),  # Процент объектов в рекомендациях, которая пересекается с топ 6\n",
    "    \"Serendipity@6\": Serendipity(k=6),\n",
    "}\n",
    "\n",
    "K_RECS = 10\n",
    "\n",
    "cv_results = cross_validate(\n",
    "    dataset=dataset,\n",
    "    splitter=splitter,\n",
    "    models=models,\n",
    "    metrics=metrics,\n",
    "    k=K_RECS,\n",
    "    filter_viewed=True,\n",
    "    ref_models=[\"popular\"],  # Модель с которой считаем пересечение\n",
    "    validate_ref_models=True\n",
    ")\n",
    "\n",
    "pivot_results = (\n",
    "    pd.DataFrame(cv_results[\"metrics\"])\n",
    "    .drop(columns=\"i_split\")\n",
    "    .groupby([\"model\"], sort=False)\n",
    "    .agg([\"mean\"])\n",
    ")\n",
    "pivot_results.columns = pivot_results.columns.droplevel(1)\n",
    "pivot_results"
   ]
  },
  {
   "cell_type": "markdown",
   "metadata": {},
   "source": [
    "Обучаем наши модели на 1-ой части данных"
   ]
  },
  {
   "cell_type": "code",
   "execution_count": 13,
   "metadata": {},
   "outputs": [
    {
     "name": "stderr",
     "output_type": "stream",
     "text": [
      "\n",
      "  | Name        | Type                     | Params | Mode \n",
      "-----------------------------------------------------------------\n",
      "0 | torch_model | TransformerTorchBackbone | 33.1 K | train\n",
      "-----------------------------------------------------------------\n",
      "33.1 K    Trainable params\n",
      "0         Non-trainable params\n",
      "33.1 K    Total params\n",
      "0.132     Total estimated model params size (MB)\n",
      "23        Modules in train mode\n",
      "0         Modules in eval mode\n"
     ]
    },
    {
     "name": "stdout",
     "output_type": "stream",
     "text": [
      "Epoch 0: 100%|██████████| 72/72 [00:02<00:00, 30.04it/s, v_num=18, train_loss=4.830]"
     ]
    },
    {
     "name": "stderr",
     "output_type": "stream",
     "text": [
      "`Trainer.fit` stopped: `max_epochs=1` reached.\n"
     ]
    },
    {
     "name": "stdout",
     "output_type": "stream",
     "text": [
      "Epoch 0: 100%|██████████| 72/72 [00:02<00:00, 30.00it/s, v_num=18, train_loss=4.830]\n",
      "CPU times: user 3.45 s, sys: 394 ms, total: 3.84 s\n",
      "Wall time: 3.37 s\n"
     ]
    },
    {
     "data": {
      "text/plain": [
       "<rectools.models.implicit_als.ImplicitALSWrapperModel at 0x11f8362a0>"
      ]
     },
     "execution_count": 13,
     "metadata": {},
     "output_type": "execute_result"
    }
   ],
   "source": [
    "%%time\n",
    "sasrec.fit(dataset)\n",
    "ease.fit(dataset)\n",
    "als.fit(dataset)"
   ]
  },
  {
   "cell_type": "markdown",
   "metadata": {},
   "source": [
    "Посмотрим на изменеие распределения als скоров. Как мы видим - оно имеет свойство смещаться, поэтому при стакинге лучше добавить нормализацию"
   ]
  },
  {
   "cell_type": "code",
   "execution_count": 14,
   "metadata": {},
   "outputs": [
    {
     "name": "stderr",
     "output_type": "stream",
     "text": [
      "  0%|          | 0/2 [00:00<?, ?it/s]"
     ]
    },
    {
     "name": "stdout",
     "output_type": "stream",
     "text": [
      "count    823589.000000\n",
      "mean          0.012435\n",
      "std           0.056660\n",
      "min          -0.450926\n",
      "25%          -0.009893\n",
      "50%           0.008937\n",
      "75%           0.034929\n",
      "max           0.530360\n",
      "Name: score, dtype: float64\n"
     ]
    },
    {
     "name": "stderr",
     "output_type": "stream",
     "text": [
      " 50%|█████     | 1/2 [00:03<00:03,  3.77s/it]"
     ]
    },
    {
     "name": "stdout",
     "output_type": "stream",
     "text": [
      "count    941119.000000\n",
      "mean          0.022853\n",
      "std           0.080311\n",
      "min          -0.510170\n",
      "25%          -0.013720\n",
      "50%           0.018961\n",
      "75%           0.059244\n",
      "max           0.666890\n",
      "Name: score, dtype: float64\n"
     ]
    },
    {
     "name": "stderr",
     "output_type": "stream",
     "text": [
      "100%|██████████| 2/2 [00:08<00:00,  4.04s/it]\n"
     ]
    },
    {
     "data": {
      "image/png": "[encoded data removed]",
      "text/plain": [
       "<Figure size 1000x600 with 1 Axes>"
      ]
     },
     "metadata": {},
     "output_type": "display_data"
    }
   ],
   "source": [
    "from tqdm import tqdm\n",
    "quant_hist = 2\n",
    "\n",
    "data = dataset.interactions.df\n",
    "\n",
    "# создадим 2 сплита 1 день - 60 день и 1 день - 120 день\n",
    "splitter = TimeRangeSplitter(\n",
    "    test_size=\"60D\",\n",
    "    n_splits=quant_hist,\n",
    "    filter_already_seen=True,\n",
    ")\n",
    "\n",
    "splits = splitter.get_test_fold_borders(dataset.interactions)\n",
    "\n",
    "first_date = splits[0][0]\n",
    "\n",
    "sns.set_style(\"whitegrid\")\n",
    "sns.set_palette(\"bright\")\n",
    "\n",
    "fig, ax = plt.subplots(figsize=(10, 6))\n",
    "als_ = ImplicitALSWrapperModel(AlternatingLeastSquares(factors=32, num_threads=7))\n",
    "\n",
    "recoms_list = []\n",
    "for i in tqdm(range(quant_hist)):\n",
    "    second_date = splits[i][1]\n",
    "    # Фильтруем данные по splitter dates\n",
    "    als_df = data[(pd.to_datetime(data['datetime']) >= pd.to_datetime(first_date)) & (pd.to_datetime(data['datetime']) <= pd.to_datetime(second_date))]\n",
    "    als_dataset =  Dataset.construct(\n",
    "    interactions_df=als_df,\n",
    "    )\n",
    "    als_model = als_.fit(als_dataset)\n",
    "    recoms = als_model.recommend(users=als_dataset.user_id_map.external_ids, dataset=als_dataset, filter_viewed=True, k=100)\n",
    "    print(recoms[\"score\"].describe())\n",
    "    recoms_list.append(recoms[\"score\"])\n",
    "\n",
    "    sns.histplot(recoms[\"score\"], ax=ax, label=f'Распределение скоров {i}',  kde=True, bins=50) # Добавлен kde=True для сглаживания\n",
    "\n",
    "\n",
    "\n",
    "ax.set_title('Несколько гистограмм на одном графике')\n",
    "ax.set_xlabel('Значения')\n",
    "ax.set_ylabel('Частота')\n",
    "ax.legend()\n",
    "\n",
    "# Отображаем график\n",
    "plt.show()\n"
   ]
  },
  {
   "cell_type": "code",
   "execution_count": 15,
   "metadata": {},
   "outputs": [
    {
     "data": {
      "text/html": [
       "<div>\n",
       "<style scoped>\n",
       "    .dataframe tbody tr th:only-of-type {\n",
       "        vertical-align: middle;\n",
       "    }\n",
       "\n",
       "    .dataframe tbody tr th {\n",
       "        vertical-align: top;\n",
       "    }\n",
       "\n",
       "    .dataframe thead th {\n",
       "        text-align: right;\n",
       "    }\n",
       "</style>\n",
       "<table border=\"1\" class=\"dataframe\">\n",
       "  <thead>\n",
       "    <tr style=\"text-align: right;\">\n",
       "      <th></th>\n",
       "      <th>user_id</th>\n",
       "      <th>item_id</th>\n",
       "      <th>target</th>\n",
       "      <th>sex_type</th>\n",
       "      <th>genre</th>\n",
       "      <th>mean_users_score</th>\n",
       "      <th>sasrec_score</th>\n",
       "      <th>ease_score</th>\n",
       "      <th>als_score</th>\n",
       "    </tr>\n",
       "  </thead>\n",
       "  <tbody>\n",
       "    <tr>\n",
       "      <th>0</th>\n",
       "      <td>0</td>\n",
       "      <td>0</td>\n",
       "      <td>0.0</td>\n",
       "      <td>M</td>\n",
       "      <td>Комедия</td>\n",
       "      <td>1.872701</td>\n",
       "      <td>-0.726727</td>\n",
       "      <td>0.954731</td>\n",
       "      <td>0.357371</td>\n",
       "    </tr>\n",
       "    <tr>\n",
       "      <th>1</th>\n",
       "      <td>0</td>\n",
       "      <td>1</td>\n",
       "      <td>0.0</td>\n",
       "      <td>M</td>\n",
       "      <td>Драма</td>\n",
       "      <td>4.753572</td>\n",
       "      <td>0.608348</td>\n",
       "      <td>1.720800</td>\n",
       "      <td>0.904289</td>\n",
       "    </tr>\n",
       "    <tr>\n",
       "      <th>2</th>\n",
       "      <td>0</td>\n",
       "      <td>2</td>\n",
       "      <td>0.0</td>\n",
       "      <td>M</td>\n",
       "      <td>Мелодрама</td>\n",
       "      <td>3.659970</td>\n",
       "      <td>-1.141547</td>\n",
       "      <td>2.252170</td>\n",
       "      <td>1.090909</td>\n",
       "    </tr>\n",
       "    <tr>\n",
       "      <th>3</th>\n",
       "      <td>0</td>\n",
       "      <td>3</td>\n",
       "      <td>0.0</td>\n",
       "      <td>M</td>\n",
       "      <td>Драма</td>\n",
       "      <td>2.993292</td>\n",
       "      <td>-1.137793</td>\n",
       "      <td>-0.065691</td>\n",
       "      <td>0.023023</td>\n",
       "    </tr>\n",
       "    <tr>\n",
       "      <th>4</th>\n",
       "      <td>0</td>\n",
       "      <td>4</td>\n",
       "      <td>0.0</td>\n",
       "      <td>M</td>\n",
       "      <td>Фантастика</td>\n",
       "      <td>0.780093</td>\n",
       "      <td>0.000000</td>\n",
       "      <td>0.000000</td>\n",
       "      <td>0.000000</td>\n",
       "    </tr>\n",
       "    <tr>\n",
       "      <th>...</th>\n",
       "      <td>...</td>\n",
       "      <td>...</td>\n",
       "      <td>...</td>\n",
       "      <td>...</td>\n",
       "      <td>...</td>\n",
       "      <td>...</td>\n",
       "      <td>...</td>\n",
       "      <td>...</td>\n",
       "      <td>...</td>\n",
       "    </tr>\n",
       "    <tr>\n",
       "      <th>999995</th>\n",
       "      <td>9999</td>\n",
       "      <td>95</td>\n",
       "      <td>0.0</td>\n",
       "      <td>M</td>\n",
       "      <td>Мелодрама</td>\n",
       "      <td>2.468978</td>\n",
       "      <td>1.184929</td>\n",
       "      <td>0.035745</td>\n",
       "      <td>-1.478446</td>\n",
       "    </tr>\n",
       "    <tr>\n",
       "      <th>999996</th>\n",
       "      <td>9999</td>\n",
       "      <td>96</td>\n",
       "      <td>0.0</td>\n",
       "      <td>M</td>\n",
       "      <td>Драма</td>\n",
       "      <td>2.613664</td>\n",
       "      <td>0.877062</td>\n",
       "      <td>0.556249</td>\n",
       "      <td>1.315728</td>\n",
       "    </tr>\n",
       "    <tr>\n",
       "      <th>999997</th>\n",
       "      <td>9999</td>\n",
       "      <td>97</td>\n",
       "      <td>0.0</td>\n",
       "      <td>M</td>\n",
       "      <td>Мелодрама</td>\n",
       "      <td>2.137705</td>\n",
       "      <td>-0.267010</td>\n",
       "      <td>-0.904800</td>\n",
       "      <td>-1.925629</td>\n",
       "    </tr>\n",
       "    <tr>\n",
       "      <th>999998</th>\n",
       "      <td>9999</td>\n",
       "      <td>98</td>\n",
       "      <td>1.0</td>\n",
       "      <td>M</td>\n",
       "      <td>Мелодрама</td>\n",
       "      <td>0.127096</td>\n",
       "      <td>0.174877</td>\n",
       "      <td>0.408203</td>\n",
       "      <td>1.070449</td>\n",
       "    </tr>\n",
       "    <tr>\n",
       "      <th>999999</th>\n",
       "      <td>9999</td>\n",
       "      <td>99</td>\n",
       "      <td>0.0</td>\n",
       "      <td>M</td>\n",
       "      <td>Мелодрама</td>\n",
       "      <td>0.539457</td>\n",
       "      <td>-1.665269</td>\n",
       "      <td>-0.892066</td>\n",
       "      <td>-0.435762</td>\n",
       "    </tr>\n",
       "  </tbody>\n",
       "</table>\n",
       "<p>1000000 rows × 9 columns</p>\n",
       "</div>"
      ],
      "text/plain": [
       "        user_id  item_id  target sex_type       genre  mean_users_score  \\\n",
       "0             0        0     0.0        M     Комедия          1.872701   \n",
       "1             0        1     0.0        M       Драма          4.753572   \n",
       "2             0        2     0.0        M   Мелодрама          3.659970   \n",
       "3             0        3     0.0        M       Драма          2.993292   \n",
       "4             0        4     0.0        M  Фантастика          0.780093   \n",
       "...         ...      ...     ...      ...         ...               ...   \n",
       "999995     9999       95     0.0        M   Мелодрама          2.468978   \n",
       "999996     9999       96     0.0        M       Драма          2.613664   \n",
       "999997     9999       97     0.0        M   Мелодрама          2.137705   \n",
       "999998     9999       98     1.0        M   Мелодрама          0.127096   \n",
       "999999     9999       99     0.0        M   Мелодрама          0.539457   \n",
       "\n",
       "        sasrec_score  ease_score  als_score  \n",
       "0          -0.726727    0.954731   0.357371  \n",
       "1           0.608348    1.720800   0.904289  \n",
       "2          -1.141547    2.252170   1.090909  \n",
       "3          -1.137793   -0.065691   0.023023  \n",
       "4           0.000000    0.000000   0.000000  \n",
       "...              ...         ...        ...  \n",
       "999995      1.184929    0.035745  -1.478446  \n",
       "999996      0.877062    0.556249   1.315728  \n",
       "999997     -0.267010   -0.904800  -1.925629  \n",
       "999998      0.174877    0.408203   1.070449  \n",
       "999999     -1.665269   -0.892066  -0.435762  \n",
       "\n",
       "[1000000 rows x 9 columns]"
      ]
     },
     "execution_count": 15,
     "metadata": {},
     "output_type": "execute_result"
    }
   ],
   "source": [
    "# Скорим базовые модели\n",
    "recom_sasrec = sasrec.recommend(users=dataset.user_id_map.external_ids, dataset=dataset, filter_viewed=True, k=100).drop(columns=['rank']).rename(columns={\"score\": \"sasrec_score\"})\n",
    "recom_ease = ease.recommend(users=dataset.user_id_map.external_ids, dataset=dataset, filter_viewed=True, k=100).drop(columns=['rank']).rename(columns={\"score\": \"ease_score\"})\n",
    "recom_als = als.recommend(users=dataset.user_id_map.external_ids, dataset=dataset, filter_viewed=True, k=100).drop(columns=['rank']).rename(columns={\"score\": \"als_score\"})\n",
    "\n",
    "# Добавим нормировку\n",
    "def normalize(data):\n",
    "    return (data - data.mean()) / data.std()\n",
    "\n",
    "recom_sasrec[\"sasrec_score\"] = normalize(recom_sasrec[\"sasrec_score\"])\n",
    "recom_ease[\"ease_score\"] = normalize(recom_ease[\"ease_score\"])\n",
    "recom_als[\"als_score\"] = normalize(recom_als[\"als_score\"])\n",
    "\n",
    "# Обучаемся - на логах\n",
    "target_df = interactions_second_period[[\"user_id\", \"item_id\"]].drop_duplicates()\n",
    "target_df[\"target\"] = interactions_second_period[\"action\"].map({\"click\": 1, \"show\": 0})\n",
    "\n",
    "\n",
    "all_features = pd.merge(users[\"user_id\"], items[\"item_id\"], how=\"cross\")\n",
    "all_features = all_features.merge(target_df, on=[\"user_id\", \"item_id\"], how=\"left\")\n",
    "all_features = all_features.fillna(0)\n",
    "\n",
    "all_features = all_features.merge(users, on=[\"user_id\"], how=\"left\")\n",
    "all_features = all_features.merge(items, on=[\"item_id\"], how=\"left\")\n",
    "all_features = all_features.merge(recom_sasrec, on=[\"user_id\", \"item_id\"], how=\"left\")\n",
    "all_features = all_features.merge(recom_ease, on=[\"user_id\", \"item_id\"], how=\"left\")\n",
    "all_features = all_features.merge(recom_als, on=[\"user_id\", \"item_id\"], how=\"left\")\n",
    "\n",
    "all_features = all_features.fillna(0)\n",
    "\n",
    "all_features"
   ]
  },
  {
   "cell_type": "code",
   "execution_count": 16,
   "metadata": {},
   "outputs": [],
   "source": [
    "# Разделяем пользователей на тренировочную и валидационную выборки - важно что бы пользователь полностью попал либо в трейн, kb,j d dfkblfwb.\n",
    "train_users, val_users = train_test_split(all_features[\"user_id\"].drop_duplicates(), test_size=0.25, random_state=42)\n",
    "\n",
    "data_train = all_features[all_features[\"user_id\"].isin(train_users)].sort_values(\"user_id\")\n",
    "data_val = all_features[all_features[\"user_id\"].isin(val_users)].sort_values(\"user_id\")\n",
    "\n",
    "X_train = data_train.drop(columns=\"target\")\n",
    "X_val = data_val.drop(columns=\"target\")\n",
    "y_train = data_train[\"target\"]\n",
    "y_val = data_val[\"target\"]"
   ]
  },
  {
   "cell_type": "code",
   "execution_count": 17,
   "metadata": {},
   "outputs": [
    {
     "name": "stdout",
     "output_type": "stream",
     "text": [
      "Groupwise loss function. OneHotMaxSize set to 10\n",
      "0:\ttest: 0.1336171\tbest: 0.1336171 (0)\ttotal: 487ms\tremaining: 48.2s\n",
      "1:\ttest: 0.1692219\tbest: 0.1692219 (1)\ttotal: 863ms\tremaining: 42.3s\n",
      "2:\ttest: 0.1722200\tbest: 0.1722200 (2)\ttotal: 1.34s\tremaining: 43.3s\n",
      "3:\ttest: 0.2021288\tbest: 0.2021288 (3)\ttotal: 1.69s\tremaining: 40.5s\n",
      "4:\ttest: 0.2273737\tbest: 0.2273737 (4)\ttotal: 2.01s\tremaining: 38.2s\n",
      "5:\ttest: 0.2506253\tbest: 0.2506253 (5)\ttotal: 2.31s\tremaining: 36.3s\n",
      "6:\ttest: 0.2555963\tbest: 0.2555963 (6)\ttotal: 2.62s\tremaining: 34.8s\n",
      "7:\ttest: 0.2680749\tbest: 0.2680749 (7)\ttotal: 2.92s\tremaining: 33.6s\n",
      "8:\ttest: 0.2738467\tbest: 0.2738467 (8)\ttotal: 3.21s\tremaining: 32.5s\n",
      "9:\ttest: 0.2792350\tbest: 0.2792350 (9)\ttotal: 3.52s\tremaining: 31.6s\n",
      "10:\ttest: 0.2825259\tbest: 0.2825259 (10)\ttotal: 3.84s\tremaining: 31.1s\n",
      "11:\ttest: 0.2847169\tbest: 0.2847169 (11)\ttotal: 4.16s\tremaining: 30.5s\n",
      "12:\ttest: 0.2878845\tbest: 0.2878845 (12)\ttotal: 4.46s\tremaining: 29.8s\n",
      "13:\ttest: 0.2892229\tbest: 0.2892229 (13)\ttotal: 4.78s\tremaining: 29.3s\n",
      "14:\ttest: 0.2911227\tbest: 0.2911227 (14)\ttotal: 5.1s\tremaining: 28.9s\n",
      "15:\ttest: 0.2890485\tbest: 0.2911227 (14)\ttotal: 5.43s\tremaining: 28.5s\n",
      "16:\ttest: 0.2908112\tbest: 0.2911227 (14)\ttotal: 5.77s\tremaining: 28.2s\n",
      "17:\ttest: 0.2901624\tbest: 0.2911227 (14)\ttotal: 6.12s\tremaining: 27.9s\n",
      "Stopped by overfitting detector  (3 iterations wait)\n",
      "\n",
      "bestTest = 0.2911226921\n",
      "bestIteration = 14\n",
      "\n",
      "Shrink model to first 15 iterations.\n"
     ]
    },
    {
     "data": {
      "text/plain": [
       "<catboost.core.CatBoostRanker at 0x120ab1b20>"
      ]
     },
     "execution_count": 17,
     "metadata": {},
     "output_type": "execute_result"
    }
   ],
   "source": [
    "train_pool = Pool(data=X_train.drop(columns=[\"user_id\", \"item_id\"]), label=y_train, group_id=X_train[\"user_id\"], cat_features=['sex_type', 'genre'])\n",
    "val_pool = Pool(data=X_val.drop(columns=[\"user_id\", \"item_id\"]), label=y_val, group_id=X_val[\"user_id\"], cat_features=['sex_type', 'genre'])\n",
    "\n",
    "\n",
    "model = CatBoostRanker(\n",
    "    iterations=100,             \n",
    "    learning_rate=0.1,          \n",
    "    depth=6,                    \n",
    "    early_stopping_rounds=3\n",
    ")\n",
    "\n",
    "model.fit(train_pool, eval_set=val_pool) \n"
   ]
  },
  {
   "cell_type": "markdown",
   "metadata": {},
   "source": [
    "Проанализируем логику работы модели"
   ]
  },
  {
   "cell_type": "code",
   "execution_count": 18,
   "metadata": {},
   "outputs": [
    {
     "data": {
      "image/png": "[encoded data removed]",
      "text/plain": [
       "<Figure size 800x390 with 2 Axes>"
      ]
     },
     "metadata": {},
     "output_type": "display_data"
    }
   ],
   "source": [
    "import shap\n",
    "\n",
    "# Создайте экземпляр SHAP\n",
    "explainer = shap.TreeExplainer(model)\n",
    "\n",
    "# Получите SHAP-значения для данных\n",
    "shap_values = explainer(X_val.drop(columns=[\"user_id\", \"item_id\"]))\n",
    "\n",
    "# Постройте SHAP-график\n",
    "shap.plots.beeswarm(shap_values)\n"
   ]
  },
  {
   "cell_type": "markdown",
   "metadata": {},
   "source": [
    "Посчитаем истинный NDCG"
   ]
  },
  {
   "cell_type": "code",
   "execution_count": null,
   "metadata": {},
   "outputs": [
    {
     "name": "stderr",
     "output_type": "stream",
     "text": [
      "  8%|▊         | 207/2500 [00:00<00:05, 408.96it/s]"
     ]
    }
   ],
   "source": [
    "from sklearn.metrics import ndcg_score\n",
    "import numpy as np\n",
    "from tqdm import tqdm\n",
    "\n",
    "true_relevance = pd.read_csv(\"../data/true_relevance.csv\")\n",
    "\n",
    "val_scores = X_val[[\"user_id\", \"item_id\"]]\n",
    "val_scores['prediction'] = model.predict(val_pool)\n",
    "\n",
    "all_scores = val_scores.merge(true_relevance, on=[\"user_id\", \"item_id\"])\n",
    "\n",
    "all_ndcg = []\n",
    "\n",
    "for user in tqdm(all_scores[\"user_id\"].unique()):\n",
    "    if all_scores[all_scores[\"user_id\"] == user].shape[0] > 1:\n",
    "        sc = ndcg_score(all_scores.loc[all_scores[\"user_id\"] == user, \"true_relevance\"].to_numpy().reshape(1, -1), all_scores.loc[all_scores[\"user_id\"] == user, \"prediction\"].to_numpy().reshape(1, -1), k=6)\n",
    "        all_ndcg.append(sc)\n",
    "\n",
    "print(np.mean(all_ndcg))"
   ]
  }
 ],
 "metadata": {
  "kernelspec": {
   "display_name": "ya_masterclass_12",
   "language": "python",
   "name": "python3"
  },
  "language_info": {
   "codemirror_mode": {
    "name": "ipython",
    "version": 3
   },
   "file_extension": ".py",
   "mimetype": "text/x-python",
   "name": "python",
   "nbconvert_exporter": "python",
   "pygments_lexer": "ipython3",
   "version": "3.12.11"
  }
 },
 "nbformat": 4,
 "nbformat_minor": 2
}
