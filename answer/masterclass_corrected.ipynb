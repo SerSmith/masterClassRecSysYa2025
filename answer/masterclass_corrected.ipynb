{
 "cells": [
  {
   "cell_type": "code",
   "execution_count": 1,
   "metadata": {},
   "outputs": [],
   "source": [
    "import os\n",
    "os.environ[\"OPENBLAS_NUM_THREADS\"] = \"1\"\n",
    "os.environ[\"OMP_NUM_THREADS\"] = \"1\"\n",
    "\n",
    "import threadpoolctl\n",
    "threadpoolctl.threadpool_limits(1, \"blas\")\n",
    "\n",
    "import warnings\n",
    "warnings.filterwarnings('ignore')\n",
    "\n",
    "\n",
    "import gdown\n",
    "import pandas as pd\n",
    "import seaborn as sns\n",
    "import matplotlib.pyplot as plt\n",
    "\n",
    "\n",
    "from sklearn.model_selection import train_test_split\n",
    "\n",
    "from rectools.dataset import Dataset\n",
    "from rectools.metrics import (\n",
    "    NDCG,\n",
    "    AvgRecPopularity,\n",
    "    Intersection,\n",
    "    HitRate,\n",
    "    Serendipity,\n",
    "    CatalogCoverage\n",
    ")\n",
    "from rectools.models import PopularModel, EASEModel, SASRecModel, ImplicitALSWrapperModel\n",
    "from rectools.model_selection import TimeRangeSplitter, cross_validate\n",
    "\n",
    "from implicit.als import AlternatingLeastSquares\n",
    "from catboost import CatBoostRanker, Pool\n"
   ]
  },
  {
   "cell_type": "code",
   "execution_count": 3,
   "metadata": {},
   "outputs": [
    {
     "data": {
      "text/plain": [
       "'../data/interactions.csv'"
      ]
     },
     "execution_count": 3,
     "metadata": {},
     "output_type": "execute_result"
    }
   ],
   "source": [
    "\n",
    "gdown.download(url=\"https://drive.google.com/uc?export=download&id=19yJocNbDNTQUDYGPHk00whKtrE2uQU9i\", output=\"../data/interactions.csv\", quiet=True)\n"
   ]
  },
  {
   "cell_type": "code",
   "execution_count": 4,
   "metadata": {},
   "outputs": [],
   "source": [
    "interactions = pd.read_csv(\"../data/interactions.csv\")\n",
    "items = pd.read_csv(\"../data/items.csv\")\n",
    "users = pd.read_csv(\"../data/users.csv\")"
   ]
  },
  {
   "cell_type": "markdown",
   "metadata": {},
   "source": [
    "# EDA"
   ]
  },
  {
   "cell_type": "markdown",
   "metadata": {},
   "source": [
    "Посмотрим на данные"
   ]
  },
  {
   "cell_type": "code",
   "execution_count": 5,
   "metadata": {},
   "outputs": [
    {
     "data": {
      "application/vnd.microsoft.datawrangler.viewer.v0+json": {
       "columns": [
        {
         "name": "index",
         "rawType": "int64",
         "type": "integer"
        },
        {
         "name": "user_id",
         "rawType": "int64",
         "type": "integer"
        },
        {
         "name": "item_id",
         "rawType": "float64",
         "type": "float"
        },
        {
         "name": "datetime",
         "rawType": "object",
         "type": "string"
        },
        {
         "name": "action",
         "rawType": "object",
         "type": "string"
        }
       ],
       "ref": "f48d129a-5013-4d5e-95d8-33a77359b8e8",
       "rows": [
        [
         "0",
         "0",
         "11.0",
         "2025-05-28 07:36:48.225275608",
         "click"
        ],
        [
         "1",
         "0",
         "73.0",
         "2025-07-21 17:26:51.803754354",
         "click"
        ],
        [
         "2",
         "0",
         "51.0",
         "2025-05-05 20:20:44.838313014",
         "click"
        ],
        [
         "3",
         "0",
         "74.0",
         "2025-04-29 05:29:06.051551314",
         "click"
        ],
        [
         "4",
         "0",
         "38.0",
         "2025-04-07 14:57:00.062975580",
         "click"
        ],
        [
         "5",
         "0",
         "45.0",
         "2025-02-21 09:55:56.209414605",
         "click"
        ],
        [
         "6",
         "0",
         "19.0",
         "2025-02-13 04:12:50.207997084",
         "click"
        ],
        [
         "7",
         "0",
         "31.0",
         "2025-08-05 20:03:19.774734692",
         "click"
        ],
        [
         "8",
         "0",
         "4.0",
         "2025-02-01 20:00:18.882919865",
         "click"
        ],
        [
         "9",
         "0",
         "5.0",
         "2025-03-20 22:48:47.021005170",
         "click"
        ],
        [
         "10",
         "0",
         "40.0",
         "2025-07-23 02:06:27.067619620",
         "click"
        ],
        [
         "11",
         "0",
         "83.0",
         "2025-07-28 10:19:21.143266610",
         "click"
        ],
        [
         "12",
         "0",
         "58.0",
         "2025-03-22 20:03:11.492253218",
         "click"
        ],
        [
         "13",
         "1",
         "88.0",
         "2025-05-08 00:31:15.787331722",
         "click"
        ],
        [
         "14",
         "1",
         "76.0",
         "2025-05-12 13:16:12.066709432",
         "click"
        ],
        [
         "15",
         "1",
         "38.0",
         "2025-07-03 23:37:06.070832968",
         "click"
        ],
        [
         "16",
         "1",
         "18.0",
         "2025-07-17 00:32:13.430337138",
         "click"
        ],
        [
         "17",
         "1",
         "23.0",
         "2025-08-05 16:51:35.483215620",
         "click"
        ],
        [
         "18",
         "1",
         "61.0",
         "2025-03-09 23:03:56.885289867",
         "click"
        ],
        [
         "19",
         "1",
         "42.0",
         "2025-06-28 05:44:31.061972216",
         "click"
        ],
        [
         "20",
         "1",
         "72.0",
         "2025-01-20 18:09:09.299875360",
         "click"
        ],
        [
         "21",
         "2",
         "1.0",
         "2025-06-18 01:50:26.674453230",
         "click"
        ],
        [
         "22",
         "2",
         "33.0",
         "2025-08-14 21:24:01.589250692",
         "click"
        ],
        [
         "23",
         "2",
         "25.0",
         "2025-02-06 05:05:40.853421721",
         "click"
        ],
        [
         "24",
         "2",
         "75.0",
         "2025-05-09 07:44:41.050228014",
         "click"
        ],
        [
         "25",
         "2",
         "91.0",
         "2025-05-22 14:26:54.924687044",
         "click"
        ],
        [
         "26",
         "2",
         "96.0",
         "2025-04-03 05:54:54.687947469",
         "click"
        ],
        [
         "27",
         "2",
         "18.0",
         "2025-06-02 11:24:32.632378900",
         "click"
        ],
        [
         "28",
         "2",
         "16.0",
         "2025-03-31 09:00:52.756015485",
         "click"
        ],
        [
         "29",
         "2",
         "19.0",
         "2025-07-29 13:43:32.839121276",
         "click"
        ],
        [
         "30",
         "2",
         "71.0",
         "2025-06-08 02:28:55.468327136",
         "click"
        ],
        [
         "31",
         "2",
         "15.0",
         "2025-07-15 13:45:06.219389092",
         "click"
        ],
        [
         "32",
         "2",
         "4.0",
         "2025-03-07 05:51:35.495467999",
         "click"
        ],
        [
         "33",
         "3",
         "69.0",
         "2025-01-24 20:54:37.376718652",
         "click"
        ],
        [
         "34",
         "4",
         "11.0",
         "2025-05-05 02:18:47.326882408",
         "click"
        ],
        [
         "35",
         "4",
         "34.0",
         "2025-07-08 09:05:00.394138974",
         "click"
        ],
        [
         "36",
         "4",
         "1.0",
         "2025-06-08 12:03:43.451077586",
         "click"
        ],
        [
         "37",
         "4",
         "73.0",
         "2025-01-07 02:28:59.489945040",
         "click"
        ],
        [
         "38",
         "4",
         "45.0",
         "2025-08-20 09:59:13.465722612",
         "click"
        ],
        [
         "39",
         "4",
         "93.0",
         "2025-08-09 20:17:00.545174448",
         "click"
        ],
        [
         "40",
         "4",
         "66.0",
         "2025-08-15 20:37:31.505709540",
         "click"
        ],
        [
         "41",
         "4",
         "37.0",
         "2025-01-30 19:59:54.438212984",
         "click"
        ],
        [
         "42",
         "4",
         "83.0",
         "2025-02-12 02:26:41.687982896",
         "click"
        ],
        [
         "43",
         "5",
         "70.0",
         "2025-02-12 17:07:00.387127546",
         "click"
        ],
        [
         "44",
         "5",
         "76.0",
         "2025-02-18 11:03:06.466734206",
         "click"
        ],
        [
         "45",
         "5",
         "86.0",
         "2025-03-27 09:31:12.791395448",
         "click"
        ],
        [
         "46",
         "5",
         "17.0",
         "2025-03-17 19:25:47.043558293",
         "click"
        ],
        [
         "47",
         "5",
         "41.0",
         "2025-06-07 04:47:26.382889792",
         "click"
        ],
        [
         "48",
         "5",
         "97.0",
         "2025-06-22 13:19:49.483686600",
         "click"
        ],
        [
         "49",
         "5",
         "46.0",
         "2025-05-21 05:24:56.387137744",
         "click"
        ]
       ],
       "shape": {
        "columns": 4,
        "rows": 3941448
       }
      },
      "text/html": [
       "<div>\n",
       "<style scoped>\n",
       "    .dataframe tbody tr th:only-of-type {\n",
       "        vertical-align: middle;\n",
       "    }\n",
       "\n",
       "    .dataframe tbody tr th {\n",
       "        vertical-align: top;\n",
       "    }\n",
       "\n",
       "    .dataframe thead th {\n",
       "        text-align: right;\n",
       "    }\n",
       "</style>\n",
       "<table border=\"1\" class=\"dataframe\">\n",
       "  <thead>\n",
       "    <tr style=\"text-align: right;\">\n",
       "      <th></th>\n",
       "      <th>user_id</th>\n",
       "      <th>item_id</th>\n",
       "      <th>datetime</th>\n",
       "      <th>action</th>\n",
       "    </tr>\n",
       "  </thead>\n",
       "  <tbody>\n",
       "    <tr>\n",
       "      <th>0</th>\n",
       "      <td>0</td>\n",
       "      <td>11.0</td>\n",
       "      <td>2025-05-28 07:36:48.225275608</td>\n",
       "      <td>click</td>\n",
       "    </tr>\n",
       "    <tr>\n",
       "      <th>1</th>\n",
       "      <td>0</td>\n",
       "      <td>73.0</td>\n",
       "      <td>2025-07-21 17:26:51.803754354</td>\n",
       "      <td>click</td>\n",
       "    </tr>\n",
       "    <tr>\n",
       "      <th>2</th>\n",
       "      <td>0</td>\n",
       "      <td>51.0</td>\n",
       "      <td>2025-05-05 20:20:44.838313014</td>\n",
       "      <td>click</td>\n",
       "    </tr>\n",
       "    <tr>\n",
       "      <th>3</th>\n",
       "      <td>0</td>\n",
       "      <td>74.0</td>\n",
       "      <td>2025-04-29 05:29:06.051551314</td>\n",
       "      <td>click</td>\n",
       "    </tr>\n",
       "    <tr>\n",
       "      <th>4</th>\n",
       "      <td>0</td>\n",
       "      <td>38.0</td>\n",
       "      <td>2025-04-07 14:57:00.062975580</td>\n",
       "      <td>click</td>\n",
       "    </tr>\n",
       "    <tr>\n",
       "      <th>...</th>\n",
       "      <td>...</td>\n",
       "      <td>...</td>\n",
       "      <td>...</td>\n",
       "      <td>...</td>\n",
       "    </tr>\n",
       "    <tr>\n",
       "      <th>3941443</th>\n",
       "      <td>9999</td>\n",
       "      <td>6.0</td>\n",
       "      <td>2025-07-12 18:48:25.630890802</td>\n",
       "      <td>show</td>\n",
       "    </tr>\n",
       "    <tr>\n",
       "      <th>3941444</th>\n",
       "      <td>9999</td>\n",
       "      <td>29.0</td>\n",
       "      <td>2025-07-12 18:48:25.630890802</td>\n",
       "      <td>show</td>\n",
       "    </tr>\n",
       "    <tr>\n",
       "      <th>3941445</th>\n",
       "      <td>9999</td>\n",
       "      <td>58.0</td>\n",
       "      <td>2025-07-12 18:48:25.630890802</td>\n",
       "      <td>show</td>\n",
       "    </tr>\n",
       "    <tr>\n",
       "      <th>3941446</th>\n",
       "      <td>9999</td>\n",
       "      <td>NaN</td>\n",
       "      <td>2025-07-05 06:57:18.551431996</td>\n",
       "      <td>show</td>\n",
       "    </tr>\n",
       "    <tr>\n",
       "      <th>3941447</th>\n",
       "      <td>9999</td>\n",
       "      <td>NaN</td>\n",
       "      <td>2025-04-06 06:03:33.936542636</td>\n",
       "      <td>show</td>\n",
       "    </tr>\n",
       "  </tbody>\n",
       "</table>\n",
       "<p>3941448 rows × 4 columns</p>\n",
       "</div>"
      ],
      "text/plain": [
       "         user_id  item_id                       datetime action\n",
       "0              0     11.0  2025-05-28 07:36:48.225275608  click\n",
       "1              0     73.0  2025-07-21 17:26:51.803754354  click\n",
       "2              0     51.0  2025-05-05 20:20:44.838313014  click\n",
       "3              0     74.0  2025-04-29 05:29:06.051551314  click\n",
       "4              0     38.0  2025-04-07 14:57:00.062975580  click\n",
       "...          ...      ...                            ...    ...\n",
       "3941443     9999      6.0  2025-07-12 18:48:25.630890802   show\n",
       "3941444     9999     29.0  2025-07-12 18:48:25.630890802   show\n",
       "3941445     9999     58.0  2025-07-12 18:48:25.630890802   show\n",
       "3941446     9999      NaN  2025-07-05 06:57:18.551431996   show\n",
       "3941447     9999      NaN  2025-04-06 06:03:33.936542636   show\n",
       "\n",
       "[3941448 rows x 4 columns]"
      ]
     },
     "execution_count": 5,
     "metadata": {},
     "output_type": "execute_result"
    }
   ],
   "source": [
    "interactions"
   ]
  },
  {
   "cell_type": "code",
   "execution_count": 6,
   "metadata": {},
   "outputs": [
    {
     "data": {
      "application/vnd.microsoft.datawrangler.viewer.v0+json": {
       "columns": [
        {
         "name": "action",
         "rawType": "object",
         "type": "string"
        },
        {
         "name": "count",
         "rawType": "int64",
         "type": "integer"
        }
       ],
       "ref": "6360346a-5870-4743-9501-c8dcaa852869",
       "rows": [
        [
         "show",
         "3861511"
        ],
        [
         "click",
         "79937"
        ]
       ],
       "shape": {
        "columns": 1,
        "rows": 2
       }
      },
      "text/plain": [
       "action\n",
       "show     3861511\n",
       "click      79937\n",
       "Name: count, dtype: int64"
      ]
     },
     "execution_count": 6,
     "metadata": {},
     "output_type": "execute_result"
    }
   ],
   "source": [
    "interactions['action'].value_counts()"
   ]
  },
  {
   "cell_type": "code",
   "execution_count": 7,
   "metadata": {},
   "outputs": [
    {
     "data": {
      "image/png": "[encoded data removed]",
      "text/plain": [
       "<Figure size 1000x1000 with 1 Axes>"
      ]
     },
     "metadata": {},
     "output_type": "display_data"
    }
   ],
   "source": [
    "interactions_plot_df = interactions.copy()\n",
    "interactions_plot_df[\"date\"] = pd.to_datetime(interactions_plot_df[\"datetime\"]).dt.date\n",
    "\n",
    "interactions_plot_df = interactions_plot_df.groupby([\"date\"])[interactions_plot_df.columns[0]].count().reset_index()\n",
    "\n",
    "\n",
    "plt.figure(figsize=(10,10))\n",
    "sns.barplot(x='date', y='user_id', data=interactions_plot_df)\n",
    "plt.xlabel('Дата')\n",
    "plt.xticks([])\n",
    "plt.ylabel('Количество интеракций')\n",
    "plt.title('Количество интеракций в день')\n",
    "plt.grid(True)\n",
    "plt.show()"
   ]
  },
  {
   "cell_type": "code",
   "execution_count": 8,
   "metadata": {},
   "outputs": [
    {
     "data": {
      "application/vnd.microsoft.datawrangler.viewer.v0+json": {
       "columns": [
        {
         "name": "index",
         "rawType": "int64",
         "type": "integer"
        },
        {
         "name": "item_id",
         "rawType": "int64",
         "type": "integer"
        },
        {
         "name": "genre",
         "rawType": "object",
         "type": "string"
        },
        {
         "name": "mean_users_score",
         "rawType": "float64",
         "type": "float"
        }
       ],
       "ref": "160db715-8b59-416d-8503-e863ca1a1954",
       "rows": [
        [
         "0",
         "0",
         "Комедия",
         "1.8727005942368125"
        ],
        [
         "1",
         "1",
         "Драма",
         "4.75357153204958"
        ],
        [
         "2",
         "2",
         "Мелодрама",
         "3.659969709057026"
        ],
        [
         "3",
         "3",
         "Драма",
         "2.993292420985183"
        ],
        [
         "4",
         "4",
         "Фантастика",
         "0.7800932022121826"
        ],
        [
         "5",
         "5",
         "Фантастика",
         "0.7799726016810132"
        ],
        [
         "6",
         "6",
         "Фантастика",
         "0.2904180608409973"
        ],
        [
         "7",
         "7",
         "Драма",
         "4.330880728874676"
        ],
        [
         "8",
         "8",
         "Драма",
         "3.005575058716044"
        ],
        [
         "9",
         "9",
         "Триллер",
         "3.540362888980227"
        ],
        [
         "10",
         "10",
         "Комедия",
         "0.1029224714790122"
        ],
        [
         "11",
         "11",
         "Триллер",
         "4.8495492608099715"
        ],
        [
         "12",
         "12",
         "Мелодрама",
         "4.162213204002109"
        ],
        [
         "13",
         "13",
         "Мелодрама",
         "1.0616955533913808"
        ],
        [
         "14",
         "14",
         "Драма",
         "0.9091248360355032"
        ],
        [
         "15",
         "15",
         "Триллер",
         "0.9170225492671692"
        ],
        [
         "16",
         "16",
         "Драма",
         "1.5212112147976886"
        ],
        [
         "17",
         "17",
         "Фантастика",
         "2.6237821581611893"
        ],
        [
         "18",
         "18",
         "Драма",
         "2.1597250932105787"
        ],
        [
         "19",
         "19",
         "Мелодрама",
         "1.4561457009902097"
        ],
        [
         "20",
         "20",
         "Мелодрама",
         "3.0592644736118975"
        ],
        [
         "21",
         "21",
         "Фантастика",
         "0.6974693032602092"
        ],
        [
         "22",
         "22",
         "Триллер",
         "1.4607232426760908"
        ],
        [
         "23",
         "23",
         "Комедия",
         "1.8318092164684583"
        ],
        [
         "24",
         "24",
         "Триллер",
         "2.28034992108518"
        ],
        [
         "25",
         "25",
         "Мелодрама",
         "3.925879806965068"
        ],
        [
         "26",
         "26",
         "Комедия",
         "0.9983689107917988"
        ],
        [
         "27",
         "27",
         "Фантастика",
         "2.571172192068058"
        ],
        [
         "28",
         "28",
         "Драма",
         "2.9620728443102124"
        ],
        [
         "29",
         "29",
         "Комедия",
         "0.2322520635999886"
        ],
        [
         "30",
         "30",
         "Мелодрама",
         "3.0377242595071916"
        ],
        [
         "31",
         "31",
         "Триллер",
         "0.8526206184364576"
        ],
        [
         "32",
         "32",
         "Драма",
         "0.3252579649263976"
        ],
        [
         "33",
         "33",
         "Фантастика",
         "4.7444276862666666"
        ],
        [
         "34",
         "34",
         "Фантастика",
         "4.828160165372797"
        ],
        [
         "35",
         "35",
         "Драма",
         "4.041986740582305"
        ],
        [
         "36",
         "36",
         "Комедия",
         "1.523068845866853"
        ],
        [
         "37",
         "37",
         "Комедия",
         "0.4883605700319193"
        ],
        [
         "38",
         "38",
         "Триллер",
         "3.4211651325607844"
        ],
        [
         "39",
         "39",
         "Фантастика",
         "2.2007624686980067"
        ],
        [
         "40",
         "40",
         "Триллер",
         "0.6101911742238941"
        ],
        [
         "41",
         "41",
         "Мелодрама",
         "2.475884550556351"
        ],
        [
         "42",
         "42",
         "Комедия",
         "0.1719426055760919"
        ],
        [
         "43",
         "43",
         "Мелодрама",
         "4.546602010393911"
        ],
        [
         "44",
         "44",
         "Драма",
         "1.2938999080000846"
        ],
        [
         "45",
         "45",
         "Мелодрама",
         "3.31261142176991"
        ],
        [
         "46",
         "46",
         "Мелодрама",
         "1.5585553804470549"
        ],
        [
         "47",
         "47",
         "Фантастика",
         "2.600340105889054"
        ],
        [
         "48",
         "48",
         "Драма",
         "2.7335513967163982"
        ],
        [
         "49",
         "49",
         "Мелодрама",
         "0.9242722776276352"
        ]
       ],
       "shape": {
        "columns": 3,
        "rows": 100
       }
      },
      "text/html": [
       "<div>\n",
       "<style scoped>\n",
       "    .dataframe tbody tr th:only-of-type {\n",
       "        vertical-align: middle;\n",
       "    }\n",
       "\n",
       "    .dataframe tbody tr th {\n",
       "        vertical-align: top;\n",
       "    }\n",
       "\n",
       "    .dataframe thead th {\n",
       "        text-align: right;\n",
       "    }\n",
       "</style>\n",
       "<table border=\"1\" class=\"dataframe\">\n",
       "  <thead>\n",
       "    <tr style=\"text-align: right;\">\n",
       "      <th></th>\n",
       "      <th>item_id</th>\n",
       "      <th>genre</th>\n",
       "      <th>mean_users_score</th>\n",
       "    </tr>\n",
       "  </thead>\n",
       "  <tbody>\n",
       "    <tr>\n",
       "      <th>0</th>\n",
       "      <td>0</td>\n",
       "      <td>Комедия</td>\n",
       "      <td>1.872701</td>\n",
       "    </tr>\n",
       "    <tr>\n",
       "      <th>1</th>\n",
       "      <td>1</td>\n",
       "      <td>Драма</td>\n",
       "      <td>4.753572</td>\n",
       "    </tr>\n",
       "    <tr>\n",
       "      <th>2</th>\n",
       "      <td>2</td>\n",
       "      <td>Мелодрама</td>\n",
       "      <td>3.659970</td>\n",
       "    </tr>\n",
       "    <tr>\n",
       "      <th>3</th>\n",
       "      <td>3</td>\n",
       "      <td>Драма</td>\n",
       "      <td>2.993292</td>\n",
       "    </tr>\n",
       "    <tr>\n",
       "      <th>4</th>\n",
       "      <td>4</td>\n",
       "      <td>Фантастика</td>\n",
       "      <td>0.780093</td>\n",
       "    </tr>\n",
       "    <tr>\n",
       "      <th>...</th>\n",
       "      <td>...</td>\n",
       "      <td>...</td>\n",
       "      <td>...</td>\n",
       "    </tr>\n",
       "    <tr>\n",
       "      <th>95</th>\n",
       "      <td>95</td>\n",
       "      <td>Мелодрама</td>\n",
       "      <td>2.468978</td>\n",
       "    </tr>\n",
       "    <tr>\n",
       "      <th>96</th>\n",
       "      <td>96</td>\n",
       "      <td>Драма</td>\n",
       "      <td>2.613664</td>\n",
       "    </tr>\n",
       "    <tr>\n",
       "      <th>97</th>\n",
       "      <td>97</td>\n",
       "      <td>Мелодрама</td>\n",
       "      <td>2.137705</td>\n",
       "    </tr>\n",
       "    <tr>\n",
       "      <th>98</th>\n",
       "      <td>98</td>\n",
       "      <td>Мелодрама</td>\n",
       "      <td>0.127096</td>\n",
       "    </tr>\n",
       "    <tr>\n",
       "      <th>99</th>\n",
       "      <td>99</td>\n",
       "      <td>Мелодрама</td>\n",
       "      <td>0.539457</td>\n",
       "    </tr>\n",
       "  </tbody>\n",
       "</table>\n",
       "<p>100 rows × 3 columns</p>\n",
       "</div>"
      ],
      "text/plain": [
       "    item_id       genre  mean_users_score\n",
       "0         0     Комедия          1.872701\n",
       "1         1       Драма          4.753572\n",
       "2         2   Мелодрама          3.659970\n",
       "3         3       Драма          2.993292\n",
       "4         4  Фантастика          0.780093\n",
       "..      ...         ...               ...\n",
       "95       95   Мелодрама          2.468978\n",
       "96       96       Драма          2.613664\n",
       "97       97   Мелодрама          2.137705\n",
       "98       98   Мелодрама          0.127096\n",
       "99       99   Мелодрама          0.539457\n",
       "\n",
       "[100 rows x 3 columns]"
      ]
     },
     "execution_count": 8,
     "metadata": {},
     "output_type": "execute_result"
    }
   ],
   "source": [
    "items"
   ]
  },
  {
   "cell_type": "code",
   "execution_count": 9,
   "metadata": {},
   "outputs": [
    {
     "data": {
      "application/vnd.microsoft.datawrangler.viewer.v0+json": {
       "columns": [
        {
         "name": "genre",
         "rawType": "object",
         "type": "string"
        },
        {
         "name": "count",
         "rawType": "int64",
         "type": "integer"
        }
       ],
       "ref": "788c9075-da65-4869-bce2-d23beec58b68",
       "rows": [
        [
         "Мелодрама",
         "27"
        ],
        [
         "Драма",
         "23"
        ],
        [
         "Триллер",
         "18"
        ],
        [
         "Комедия",
         "16"
        ],
        [
         "Фантастика",
         "16"
        ]
       ],
       "shape": {
        "columns": 1,
        "rows": 5
       }
      },
      "text/plain": [
       "genre\n",
       "Мелодрама     27\n",
       "Драма         23\n",
       "Триллер       18\n",
       "Комедия       16\n",
       "Фантастика    16\n",
       "Name: count, dtype: int64"
      ]
     },
     "execution_count": 9,
     "metadata": {},
     "output_type": "execute_result"
    }
   ],
   "source": [
    "items.value_counts(\"genre\")"
   ]
  },
  {
   "cell_type": "code",
   "execution_count": 10,
   "metadata": {},
   "outputs": [
    {
     "data": {
      "application/vnd.microsoft.datawrangler.viewer.v0+json": {
       "columns": [
        {
         "name": "index",
         "rawType": "int64",
         "type": "integer"
        },
        {
         "name": "user_id",
         "rawType": "int64",
         "type": "integer"
        },
        {
         "name": "sex_type",
         "rawType": "object",
         "type": "string"
        }
       ],
       "ref": "0a7142aa-0e0d-4c6c-af7c-1195d6328765",
       "rows": [
        [
         "0",
         "0",
         "M"
        ],
        [
         "1",
         "1",
         "F"
        ],
        [
         "2",
         "2",
         "M"
        ],
        [
         "3",
         "3",
         "M"
        ],
        [
         "4",
         "4",
         "M"
        ],
        [
         "5",
         "5",
         "M"
        ],
        [
         "6",
         "6",
         "F"
        ],
        [
         "7",
         "7",
         "M"
        ],
        [
         "8",
         "8",
         "F"
        ],
        [
         "9",
         "9",
         "F"
        ],
        [
         "10",
         "10",
         "F"
        ],
        [
         "11",
         "11",
         "M"
        ],
        [
         "12",
         "12",
         "M"
        ],
        [
         "13",
         "13",
         "F"
        ],
        [
         "14",
         "14",
         "M"
        ],
        [
         "15",
         "15",
         "M"
        ],
        [
         "16",
         "16",
         "M"
        ],
        [
         "17",
         "17",
         "M"
        ],
        [
         "18",
         "18",
         "F"
        ],
        [
         "19",
         "19",
         "F"
        ],
        [
         "20",
         "20",
         "F"
        ],
        [
         "21",
         "21",
         "F"
        ],
        [
         "22",
         "22",
         "F"
        ],
        [
         "23",
         "23",
         "F"
        ],
        [
         "24",
         "24",
         "M"
        ],
        [
         "25",
         "25",
         "F"
        ],
        [
         "26",
         "26",
         "F"
        ],
        [
         "27",
         "27",
         "F"
        ],
        [
         "28",
         "28",
         "F"
        ],
        [
         "29",
         "29",
         "F"
        ],
        [
         "30",
         "30",
         "M"
        ],
        [
         "31",
         "31",
         "M"
        ],
        [
         "32",
         "32",
         "F"
        ],
        [
         "33",
         "33",
         "M"
        ],
        [
         "34",
         "34",
         "F"
        ],
        [
         "35",
         "35",
         "M"
        ],
        [
         "36",
         "36",
         "F"
        ],
        [
         "37",
         "37",
         "F"
        ],
        [
         "38",
         "38",
         "M"
        ],
        [
         "39",
         "39",
         "F"
        ],
        [
         "40",
         "40",
         "F"
        ],
        [
         "41",
         "41",
         "F"
        ],
        [
         "42",
         "42",
         "M"
        ],
        [
         "43",
         "43",
         "F"
        ],
        [
         "44",
         "44",
         "F"
        ],
        [
         "45",
         "45",
         "M"
        ],
        [
         "46",
         "46",
         "M"
        ],
        [
         "47",
         "47",
         "F"
        ],
        [
         "48",
         "48",
         "F"
        ],
        [
         "49",
         "49",
         "M"
        ]
       ],
       "shape": {
        "columns": 2,
        "rows": 10000
       }
      },
      "text/html": [
       "<div>\n",
       "<style scoped>\n",
       "    .dataframe tbody tr th:only-of-type {\n",
       "        vertical-align: middle;\n",
       "    }\n",
       "\n",
       "    .dataframe tbody tr th {\n",
       "        vertical-align: top;\n",
       "    }\n",
       "\n",
       "    .dataframe thead th {\n",
       "        text-align: right;\n",
       "    }\n",
       "</style>\n",
       "<table border=\"1\" class=\"dataframe\">\n",
       "  <thead>\n",
       "    <tr style=\"text-align: right;\">\n",
       "      <th></th>\n",
       "      <th>user_id</th>\n",
       "      <th>sex_type</th>\n",
       "    </tr>\n",
       "  </thead>\n",
       "  <tbody>\n",
       "    <tr>\n",
       "      <th>0</th>\n",
       "      <td>0</td>\n",
       "      <td>M</td>\n",
       "    </tr>\n",
       "    <tr>\n",
       "      <th>1</th>\n",
       "      <td>1</td>\n",
       "      <td>F</td>\n",
       "    </tr>\n",
       "    <tr>\n",
       "      <th>2</th>\n",
       "      <td>2</td>\n",
       "      <td>M</td>\n",
       "    </tr>\n",
       "    <tr>\n",
       "      <th>3</th>\n",
       "      <td>3</td>\n",
       "      <td>M</td>\n",
       "    </tr>\n",
       "    <tr>\n",
       "      <th>4</th>\n",
       "      <td>4</td>\n",
       "      <td>M</td>\n",
       "    </tr>\n",
       "    <tr>\n",
       "      <th>...</th>\n",
       "      <td>...</td>\n",
       "      <td>...</td>\n",
       "    </tr>\n",
       "    <tr>\n",
       "      <th>9995</th>\n",
       "      <td>9995</td>\n",
       "      <td>M</td>\n",
       "    </tr>\n",
       "    <tr>\n",
       "      <th>9996</th>\n",
       "      <td>9996</td>\n",
       "      <td>F</td>\n",
       "    </tr>\n",
       "    <tr>\n",
       "      <th>9997</th>\n",
       "      <td>9997</td>\n",
       "      <td>M</td>\n",
       "    </tr>\n",
       "    <tr>\n",
       "      <th>9998</th>\n",
       "      <td>9998</td>\n",
       "      <td>M</td>\n",
       "    </tr>\n",
       "    <tr>\n",
       "      <th>9999</th>\n",
       "      <td>9999</td>\n",
       "      <td>M</td>\n",
       "    </tr>\n",
       "  </tbody>\n",
       "</table>\n",
       "<p>10000 rows × 2 columns</p>\n",
       "</div>"
      ],
      "text/plain": [
       "      user_id sex_type\n",
       "0           0        M\n",
       "1           1        F\n",
       "2           2        M\n",
       "3           3        M\n",
       "4           4        M\n",
       "...       ...      ...\n",
       "9995     9995        M\n",
       "9996     9996        F\n",
       "9997     9997        M\n",
       "9998     9998        M\n",
       "9999     9999        M\n",
       "\n",
       "[10000 rows x 2 columns]"
      ]
     },
     "execution_count": 10,
     "metadata": {},
     "output_type": "execute_result"
    }
   ],
   "source": [
    "users"
   ]
  },
  {
   "cell_type": "code",
   "execution_count": 11,
   "metadata": {},
   "outputs": [
    {
     "data": {
      "application/vnd.microsoft.datawrangler.viewer.v0+json": {
       "columns": [
        {
         "name": "sex_type",
         "rawType": "object",
         "type": "string"
        },
        {
         "name": "count",
         "rawType": "int64",
         "type": "integer"
        }
       ],
       "ref": "bd5aed60-afb7-4436-92d7-6d83645e6bd2",
       "rows": [
        [
         "F",
         "5005"
        ],
        [
         "M",
         "4995"
        ]
       ],
       "shape": {
        "columns": 1,
        "rows": 2
       }
      },
      "text/plain": [
       "sex_type\n",
       "F    5005\n",
       "M    4995\n",
       "Name: count, dtype: int64"
      ]
     },
     "execution_count": 11,
     "metadata": {},
     "output_type": "execute_result"
    }
   ],
   "source": [
    "users.value_counts(\"sex_type\")"
   ]
  },
  {
   "cell_type": "markdown",
   "metadata": {},
   "source": [
    "# Готовим модели"
   ]
  },
  {
   "cell_type": "markdown",
   "metadata": {},
   "source": [
    "Разделим выборку на 2 части  по времени:\n",
    "\n",
    "\n",
    "На 1 - ой части мы будем обучать модели, доступные из коробки в rectools, а также считать фичи для катбуста\n",
    "\n",
    "На 2 - ой части мы будем стакать результаты моделей в катбуст"
   ]
  },
  {
   "cell_type": "code",
   "execution_count": 12,
   "metadata": {},
   "outputs": [],
   "source": [
    "interactions[\"weight\"] = 1.0\n",
    "\n",
    "def split_time(datetimes, test_size=0.5):\n",
    "    datetimes_sorted = datetimes.sort_values().reset_index(drop=True)\n",
    "    split_date = datetimes_sorted[int(datetimes_sorted.shape[0] * test_size)]\n",
    "    return datetimes_sorted[datetimes_sorted < split_date].reset_index(drop=True), datetimes_sorted[datetimes_sorted >= split_date].reset_index(drop=True)\n",
    "    \n",
    "first_part, second_part = split_time(interactions[\"datetime\"])\n",
    "\n",
    "interactions_first_period = interactions[interactions[\"datetime\"].isin(first_part)]\n",
    "interactions_second_period = interactions[interactions[\"datetime\"].isin(second_part)]\n",
    "\n",
    "# Для некоторых моделе нужны только позитивные взаимодействия\n",
    "positive_interactions_first_period = interactions_first_period[interactions_first_period[\"action\"] == \"click\"]\n"
   ]
  },
  {
   "cell_type": "markdown",
   "metadata": {},
   "source": [
    "Инициируем рекоменедателные модели"
   ]
  },
  {
   "cell_type": "code",
   "execution_count": 13,
   "metadata": {},
   "outputs": [
    {
     "name": "stderr",
     "output_type": "stream",
     "text": [
      "GPU available: True (mps), used: True\n",
      "TPU available: False, using: 0 TPU cores\n",
      "HPU available: False, using: 0 HPUs\n"
     ]
    }
   ],
   "source": [
    "dataset = Dataset.construct(\n",
    "    interactions_df=positive_interactions_first_period,\n",
    ")\n",
    "\n",
    "sasrec = SASRecModel(\n",
    "    session_max_len=20,\n",
    "    loss=\"softmax\",\n",
    "    n_factors=64,\n",
    "    n_blocks=1,\n",
    "    n_heads=4,\n",
    "    dropout_rate=0.2,\n",
    "    lr=0.001,\n",
    "    batch_size=128,\n",
    "    epochs=1,\n",
    "    verbose=1,\n",
    "    deterministic=True,\n",
    ")\n",
    "ease = EASEModel()\n",
    "als = ImplicitALSWrapperModel(AlternatingLeastSquares(factors=32, num_threads=7))"
   ]
  },
  {
   "cell_type": "markdown",
   "metadata": {},
   "source": [
    "Посомтрим качество базовых моделей"
   ]
  },
  {
   "cell_type": "code",
   "execution_count": 14,
   "metadata": {},
   "outputs": [
    {
     "name": "stderr",
     "output_type": "stream",
     "text": [
      "\n",
      "  | Name        | Type                     | Params | Mode \n",
      "-----------------------------------------------------------------\n",
      "0 | torch_model | TransformerTorchBackbone | 33.1 K | train\n",
      "-----------------------------------------------------------------\n",
      "33.1 K    Trainable params\n",
      "0         Non-trainable params\n",
      "33.1 K    Total params\n",
      "0.132     Total estimated model params size (MB)\n",
      "23        Modules in train mode\n",
      "0         Modules in eval mode\n"
     ]
    },
    {
     "name": "stdout",
     "output_type": "stream",
     "text": [
      "Epoch 0: 100%|██████████| 42/42 [00:06<00:00,  6.08it/s, v_num=0, train_loss=nan.0]"
     ]
    },
    {
     "name": "stderr",
     "output_type": "stream",
     "text": [
      "`Trainer.fit` stopped: `max_epochs=1` reached.\n"
     ]
    },
    {
     "name": "stdout",
     "output_type": "stream",
     "text": [
      "Epoch 0: 100%|██████████| 42/42 [00:06<00:00,  6.08it/s, v_num=0, train_loss=nan.0]\n"
     ]
    },
    {
     "name": "stderr",
     "output_type": "stream",
     "text": [
      "\n",
      "  | Name        | Type                     | Params | Mode \n",
      "-----------------------------------------------------------------\n",
      "0 | torch_model | TransformerTorchBackbone | 33.1 K | train\n",
      "-----------------------------------------------------------------\n",
      "33.1 K    Trainable params\n",
      "0         Non-trainable params\n",
      "33.1 K    Total params\n",
      "0.132     Total estimated model params size (MB)\n",
      "23        Modules in train mode\n",
      "0         Modules in eval mode\n"
     ]
    },
    {
     "name": "stdout",
     "output_type": "stream",
     "text": [
      "Epoch 0: 100%|██████████| 51/51 [00:02<00:00, 22.28it/s, v_num=1, train_loss=nan.0]"
     ]
    },
    {
     "name": "stderr",
     "output_type": "stream",
     "text": [
      "`Trainer.fit` stopped: `max_epochs=1` reached.\n"
     ]
    },
    {
     "name": "stdout",
     "output_type": "stream",
     "text": [
      "Epoch 0: 100%|██████████| 51/51 [00:02<00:00, 22.27it/s, v_num=1, train_loss=nan.0]\n"
     ]
    },
    {
     "name": "stderr",
     "output_type": "stream",
     "text": [
      "\n",
      "  | Name        | Type                     | Params | Mode \n",
      "-----------------------------------------------------------------\n",
      "0 | torch_model | TransformerTorchBackbone | 33.1 K | train\n",
      "-----------------------------------------------------------------\n",
      "33.1 K    Trainable params\n",
      "0         Non-trainable params\n",
      "33.1 K    Total params\n",
      "0.132     Total estimated model params size (MB)\n",
      "23        Modules in train mode\n",
      "0         Modules in eval mode\n"
     ]
    },
    {
     "name": "stdout",
     "output_type": "stream",
     "text": [
      "Epoch 0: 100%|██████████| 59/59 [00:02<00:00, 27.63it/s, v_num=2, train_loss=nan.0]"
     ]
    },
    {
     "name": "stderr",
     "output_type": "stream",
     "text": [
      "`Trainer.fit` stopped: `max_epochs=1` reached.\n"
     ]
    },
    {
     "name": "stdout",
     "output_type": "stream",
     "text": [
      "Epoch 0: 100%|██████████| 59/59 [00:02<00:00, 27.61it/s, v_num=2, train_loss=nan.0]\n"
     ]
    },
    {
     "name": "stderr",
     "output_type": "stream",
     "text": [
      "\n",
      "  | Name        | Type                     | Params | Mode \n",
      "-----------------------------------------------------------------\n",
      "0 | torch_model | TransformerTorchBackbone | 33.1 K | train\n",
      "-----------------------------------------------------------------\n",
      "33.1 K    Trainable params\n",
      "0         Non-trainable params\n",
      "33.1 K    Total params\n",
      "0.132     Total estimated model params size (MB)\n",
      "23        Modules in train mode\n",
      "0         Modules in eval mode\n"
     ]
    },
    {
     "name": "stdout",
     "output_type": "stream",
     "text": [
      "Epoch 0: 100%|██████████| 64/64 [00:02<00:00, 24.43it/s, v_num=3, train_loss=nan.0]"
     ]
    },
    {
     "name": "stderr",
     "output_type": "stream",
     "text": [
      "`Trainer.fit` stopped: `max_epochs=1` reached.\n"
     ]
    },
    {
     "name": "stdout",
     "output_type": "stream",
     "text": [
      "Epoch 0: 100%|██████████| 64/64 [00:02<00:00, 24.41it/s, v_num=3, train_loss=nan.0]\n"
     ]
    },
    {
     "name": "stderr",
     "output_type": "stream",
     "text": [
      "\n",
      "  | Name        | Type                     | Params | Mode \n",
      "-----------------------------------------------------------------\n",
      "0 | torch_model | TransformerTorchBackbone | 33.1 K | train\n",
      "-----------------------------------------------------------------\n",
      "33.1 K    Trainable params\n",
      "0         Non-trainable params\n",
      "33.1 K    Total params\n",
      "0.132     Total estimated model params size (MB)\n",
      "23        Modules in train mode\n",
      "0         Modules in eval mode\n"
     ]
    },
    {
     "name": "stdout",
     "output_type": "stream",
     "text": [
      "Epoch 0: 100%|██████████| 68/68 [00:02<00:00, 23.07it/s, v_num=4, train_loss=nan.0]"
     ]
    },
    {
     "name": "stderr",
     "output_type": "stream",
     "text": [
      "`Trainer.fit` stopped: `max_epochs=1` reached.\n"
     ]
    },
    {
     "name": "stdout",
     "output_type": "stream",
     "text": [
      "Epoch 0: 100%|██████████| 68/68 [00:02<00:00, 23.06it/s, v_num=4, train_loss=nan.0]\n"
     ]
    },
    {
     "data": {
      "application/vnd.microsoft.datawrangler.viewer.v0+json": {
       "columns": [
        {
         "name": "model",
         "rawType": "object",
         "type": "string"
        },
        {
         "name": "HitRate@6",
         "rawType": "float64",
         "type": "float"
        },
        {
         "name": "NDCG@6",
         "rawType": "float64",
         "type": "float"
        },
        {
         "name": "CatalogCoverage@6",
         "rawType": "float64",
         "type": "float"
        },
        {
         "name": "AvgRecPopularity@6",
         "rawType": "float64",
         "type": "float"
        },
        {
         "name": "Serendipity@6",
         "rawType": "float64",
         "type": "float"
        },
        {
         "name": "Intersection@6_popular",
         "rawType": "float64",
         "type": "float"
        }
       ],
       "ref": "a5b18097-c2ad-4684-a536-94b780c678c0",
       "rows": [
        [
         "popular",
         "0.09279172657408426",
         "0.015584437685101649",
         "0.09",
         "338.8832611585718",
         "1.606391918510277e-05",
         "1.0"
        ],
        [
         "ease",
         "0.09818420443029016",
         "0.01671221895123996",
         "1.0",
         "297.2866635051777",
         "0.0029961268910460664",
         "0.1161546889175726"
        ],
        [
         "sasrec",
         "0.0906455300169988",
         "0.015453730046556802",
         "0.532",
         "317.15945163084774",
         "0.001698608643352094",
         "0.27035878232798527"
        ],
        [
         "als",
         "0.09223285514692872",
         "0.015763986270278477",
         "0.714",
         "303.4576652209118",
         "0.0029159962836117067",
         "0.05393322619950054"
        ]
       ],
       "shape": {
        "columns": 6,
        "rows": 4
       }
      },
      "text/html": [
       "<div>\n",
       "<style scoped>\n",
       "    .dataframe tbody tr th:only-of-type {\n",
       "        vertical-align: middle;\n",
       "    }\n",
       "\n",
       "    .dataframe tbody tr th {\n",
       "        vertical-align: top;\n",
       "    }\n",
       "\n",
       "    .dataframe thead th {\n",
       "        text-align: right;\n",
       "    }\n",
       "</style>\n",
       "<table border=\"1\" class=\"dataframe\">\n",
       "  <thead>\n",
       "    <tr style=\"text-align: right;\">\n",
       "      <th></th>\n",
       "      <th>HitRate@6</th>\n",
       "      <th>NDCG@6</th>\n",
       "      <th>CatalogCoverage@6</th>\n",
       "      <th>AvgRecPopularity@6</th>\n",
       "      <th>Serendipity@6</th>\n",
       "      <th>Intersection@6_popular</th>\n",
       "    </tr>\n",
       "    <tr>\n",
       "      <th>model</th>\n",
       "      <th></th>\n",
       "      <th></th>\n",
       "      <th></th>\n",
       "      <th></th>\n",
       "      <th></th>\n",
       "      <th></th>\n",
       "    </tr>\n",
       "  </thead>\n",
       "  <tbody>\n",
       "    <tr>\n",
       "      <th>popular</th>\n",
       "      <td>0.092792</td>\n",
       "      <td>0.015584</td>\n",
       "      <td>0.090</td>\n",
       "      <td>338.883261</td>\n",
       "      <td>0.000016</td>\n",
       "      <td>1.000000</td>\n",
       "    </tr>\n",
       "    <tr>\n",
       "      <th>ease</th>\n",
       "      <td>0.098184</td>\n",
       "      <td>0.016712</td>\n",
       "      <td>1.000</td>\n",
       "      <td>297.286664</td>\n",
       "      <td>0.002996</td>\n",
       "      <td>0.116155</td>\n",
       "    </tr>\n",
       "    <tr>\n",
       "      <th>sasrec</th>\n",
       "      <td>0.090646</td>\n",
       "      <td>0.015454</td>\n",
       "      <td>0.532</td>\n",
       "      <td>317.159452</td>\n",
       "      <td>0.001699</td>\n",
       "      <td>0.270359</td>\n",
       "    </tr>\n",
       "    <tr>\n",
       "      <th>als</th>\n",
       "      <td>0.092233</td>\n",
       "      <td>0.015764</td>\n",
       "      <td>0.714</td>\n",
       "      <td>303.457665</td>\n",
       "      <td>0.002916</td>\n",
       "      <td>0.053933</td>\n",
       "    </tr>\n",
       "  </tbody>\n",
       "</table>\n",
       "</div>"
      ],
      "text/plain": [
       "         HitRate@6    NDCG@6  CatalogCoverage@6  AvgRecPopularity@6  \\\n",
       "model                                                                 \n",
       "popular   0.092792  0.015584              0.090          338.883261   \n",
       "ease      0.098184  0.016712              1.000          297.286664   \n",
       "sasrec    0.090646  0.015454              0.532          317.159452   \n",
       "als       0.092233  0.015764              0.714          303.457665   \n",
       "\n",
       "         Serendipity@6  Intersection@6_popular  \n",
       "model                                           \n",
       "popular       0.000016                1.000000  \n",
       "ease          0.002996                0.116155  \n",
       "sasrec        0.001699                0.270359  \n",
       "als           0.002916                0.053933  "
      ]
     },
     "execution_count": 14,
     "metadata": {},
     "output_type": "execute_result"
    }
   ],
   "source": [
    "splitter = TimeRangeSplitter(\n",
    "    test_size=\"14D\",\n",
    "    n_splits=5,\n",
    "    filter_already_seen=True,\n",
    ")\n",
    "\n",
    "models = {\n",
    "    \"popular\": PopularModel(),\n",
    "    \"ease\": ease,\n",
    "    \"sasrec\": sasrec,\n",
    "    \"als\": als\n",
    "}\n",
    "\n",
    "metrics = {\n",
    "    \"HitRate@6\": HitRate(k=6),\n",
    "    \"NDCG@6\": NDCG(k=6),\n",
    "    \"CatalogCoverage@6\": CatalogCoverage(k=6, normalize=True), # Процент объектов из каталога, которые попали в топ 6 рекомендаций хоть кому-то\n",
    "    \"AvgRecPopularity@6\": AvgRecPopularity(k=6),  # Средняя популярность по топ 6 объектам\n",
    "    \"Intersection@6\": Intersection(k=6),  # Процент объектов в рекомендациях, которая пересекается с топ 6\n",
    "    \"Serendipity@6\": Serendipity(k=6),\n",
    "}\n",
    "\n",
    "K_RECS = 10\n",
    "\n",
    "cv_results = cross_validate(\n",
    "    dataset=dataset,\n",
    "    splitter=splitter,\n",
    "    models=models,\n",
    "    metrics=metrics,\n",
    "    k=K_RECS,\n",
    "    filter_viewed=True,\n",
    "    ref_models=[\"popular\"],  # Модель с которой считаем пересечение\n",
    "    validate_ref_models=True\n",
    ")\n",
    "\n",
    "pivot_results = (\n",
    "    pd.DataFrame(cv_results[\"metrics\"])\n",
    "    .drop(columns=\"i_split\")\n",
    "    .groupby([\"model\"], sort=False)\n",
    "    .agg([\"mean\"])\n",
    ")\n",
    "pivot_results.columns = pivot_results.columns.droplevel(1)\n",
    "pivot_results"
   ]
  },
  {
   "cell_type": "markdown",
   "metadata": {},
   "source": [
    "Обучаем наши модели на 1-ой части данных"
   ]
  },
  {
   "cell_type": "code",
   "execution_count": 15,
   "metadata": {},
   "outputs": [
    {
     "name": "stderr",
     "output_type": "stream",
     "text": [
      "\n",
      "  | Name        | Type                     | Params | Mode \n",
      "-----------------------------------------------------------------\n",
      "0 | torch_model | TransformerTorchBackbone | 33.1 K | train\n",
      "-----------------------------------------------------------------\n",
      "33.1 K    Trainable params\n",
      "0         Non-trainable params\n",
      "33.1 K    Total params\n",
      "0.132     Total estimated model params size (MB)\n",
      "23        Modules in train mode\n",
      "0         Modules in eval mode\n"
     ]
    },
    {
     "name": "stdout",
     "output_type": "stream",
     "text": [
      "Epoch 0: 100%|██████████| 72/72 [00:02<00:00, 26.29it/s, v_num=5, train_loss=nan.0]"
     ]
    },
    {
     "name": "stderr",
     "output_type": "stream",
     "text": [
      "`Trainer.fit` stopped: `max_epochs=1` reached.\n"
     ]
    },
    {
     "name": "stdout",
     "output_type": "stream",
     "text": [
      "Epoch 0: 100%|██████████| 72/72 [00:02<00:00, 26.27it/s, v_num=5, train_loss=nan.0]\n",
      "CPU times: user 2.41 s, sys: 738 ms, total: 3.15 s\n",
      "Wall time: 3.36 s\n"
     ]
    },
    {
     "data": {
      "text/plain": [
       "<rectools.models.implicit_als.ImplicitALSWrapperModel at 0x16a8817f0>"
      ]
     },
     "execution_count": 15,
     "metadata": {},
     "output_type": "execute_result"
    }
   ],
   "source": [
    "%%time\n",
    "sasrec.fit(dataset)\n",
    "ease.fit(dataset)\n",
    "als.fit(dataset)"
   ]
  },
  {
   "cell_type": "markdown",
   "metadata": {},
   "source": [
    "Посмотрим на изменеие распределения als скоров. Как мы видим - оно имеет свойство смещаться, поэтому при стакинге лучше добавить нормализацию"
   ]
  },
  {
   "cell_type": "code",
   "execution_count": 16,
   "metadata": {},
   "outputs": [
    {
     "name": "stderr",
     "output_type": "stream",
     "text": [
      "  0%|          | 0/2 [00:00<?, ?it/s]"
     ]
    },
    {
     "name": "stdout",
     "output_type": "stream",
     "text": [
      "count    823589.000000\n",
      "mean          0.012413\n",
      "std           0.056747\n",
      "min          -0.437861\n",
      "25%          -0.010445\n",
      "50%           0.008538\n",
      "75%           0.034326\n",
      "max           0.511830\n",
      "Name: score, dtype: float64\n"
     ]
    },
    {
     "name": "stderr",
     "output_type": "stream",
     "text": [
      " 50%|█████     | 1/2 [00:01<00:01,  1.38s/it]"
     ]
    },
    {
     "name": "stdout",
     "output_type": "stream",
     "text": [
      "count    941119.000000\n",
      "mean          0.022843\n",
      "std           0.080200\n",
      "min          -0.519983\n",
      "25%          -0.012927\n",
      "50%           0.019354\n",
      "75%           0.058929\n",
      "max           0.719014\n",
      "Name: score, dtype: float64\n"
     ]
    },
    {
     "name": "stderr",
     "output_type": "stream",
     "text": [
      "100%|██████████| 2/2 [00:02<00:00,  1.43s/it]\n"
     ]
    },
    {
     "data": {
      "image/png": "[encoded data removed]",
      "text/plain": [
       "<Figure size 1000x600 with 1 Axes>"
      ]
     },
     "metadata": {},
     "output_type": "display_data"
    }
   ],
   "source": [
    "from tqdm import tqdm\n",
    "quant_hist = 2\n",
    "\n",
    "data = dataset.interactions.df\n",
    "\n",
    "# создадим 2 сплита 1 день - 60 день и 1 день - 120 день\n",
    "splitter = TimeRangeSplitter(\n",
    "    test_size=\"60D\",\n",
    "    n_splits=quant_hist,\n",
    "    filter_already_seen=True,\n",
    ")\n",
    "\n",
    "splits = splitter.get_test_fold_borders(dataset.interactions)\n",
    "\n",
    "first_date = splits[0][0]\n",
    "\n",
    "sns.set_style(\"whitegrid\")\n",
    "sns.set_palette(\"bright\")\n",
    "\n",
    "fig, ax = plt.subplots(figsize=(10, 6))\n",
    "als_ = ImplicitALSWrapperModel(AlternatingLeastSquares(factors=32, num_threads=7))\n",
    "\n",
    "recoms_list = []\n",
    "for i in tqdm(range(quant_hist)):\n",
    "    second_date = splits[i][1]\n",
    "    # Фильтруем данные по splitter dates\n",
    "    als_df = data[(pd.to_datetime(data['datetime']) >= pd.to_datetime(first_date)) & (pd.to_datetime(data['datetime']) <= pd.to_datetime(second_date))]\n",
    "    als_dataset =  Dataset.construct(\n",
    "    interactions_df=als_df,\n",
    "    )\n",
    "    als_model = als_.fit(als_dataset)\n",
    "    recoms = als_model.recommend(users=als_dataset.user_id_map.external_ids, dataset=als_dataset, filter_viewed=True, k=100)\n",
    "    print(recoms[\"score\"].describe())\n",
    "    recoms_list.append(recoms[\"score\"])\n",
    "\n",
    "    sns.histplot(recoms[\"score\"], ax=ax, label=f'Распределение скоров {i}',  kde=True, bins=50) # Добавлен kde=True для сглаживания\n",
    "\n",
    "\n",
    "\n",
    "ax.set_title('Несколько гистограмм на одном графике')\n",
    "ax.set_xlabel('Значения')\n",
    "ax.set_ylabel('Частота')\n",
    "ax.legend()\n",
    "\n",
    "# Отображаем график\n",
    "plt.show()\n"
   ]
  },
  {
   "cell_type": "code",
   "execution_count": 17,
   "metadata": {},
   "outputs": [
    {
     "data": {
      "application/vnd.microsoft.datawrangler.viewer.v0+json": {
       "columns": [
        {
         "name": "index",
         "rawType": "int64",
         "type": "integer"
        },
        {
         "name": "user_id",
         "rawType": "int64",
         "type": "integer"
        },
        {
         "name": "item_id",
         "rawType": "int64",
         "type": "integer"
        },
        {
         "name": "target",
         "rawType": "float64",
         "type": "float"
        },
        {
         "name": "sex_type",
         "rawType": "object",
         "type": "string"
        },
        {
         "name": "genre",
         "rawType": "object",
         "type": "string"
        },
        {
         "name": "mean_users_score",
         "rawType": "float64",
         "type": "float"
        },
        {
         "name": "sasrec_score",
         "rawType": "float32",
         "type": "float"
        },
        {
         "name": "ease_score",
         "rawType": "float32",
         "type": "float"
        },
        {
         "name": "als_score",
         "rawType": "float32",
         "type": "float"
        }
       ],
       "ref": "76b5e4c4-5e48-434f-9f0e-11d8b68f8083",
       "rows": [
        [
         "0",
         "0",
         "0",
         "0.0",
         "M",
         "Комедия",
         "1.8727005942368125",
         "-0.93358755",
         "0.95473117",
         "0.54440045"
        ],
        [
         "1",
         "0",
         "1",
         "0.0",
         "M",
         "Драма",
         "4.75357153204958",
         "0.30419782",
         "1.7208004",
         "0.3973448"
        ],
        [
         "2",
         "0",
         "2",
         "0.0",
         "M",
         "Мелодрама",
         "3.659969709057026",
         "-0.3630935",
         "2.2521703",
         "0.878526"
        ],
        [
         "3",
         "0",
         "3",
         "0.0",
         "M",
         "Драма",
         "2.993292420985183",
         "-1.2586697",
         "-0.06569131",
         "0.20844671"
        ],
        [
         "4",
         "0",
         "4",
         "0.0",
         "M",
         "Фантастика",
         "0.7800932022121826",
         "0.0",
         "0.0",
         "0.0"
        ],
        [
         "5",
         "0",
         "5",
         "0.0",
         "M",
         "Фантастика",
         "0.7799726016810132",
         "0.0",
         "0.0",
         "0.0"
        ],
        [
         "6",
         "0",
         "6",
         "0.0",
         "M",
         "Фантастика",
         "0.2904180608409973",
         "-0.13622607",
         "2.480599",
         "2.4578097"
        ],
        [
         "7",
         "0",
         "7",
         "0.0",
         "M",
         "Драма",
         "4.330880728874676",
         "-1.6190125",
         "-0.06014575",
         "0.027552484"
        ],
        [
         "8",
         "0",
         "8",
         "0.0",
         "M",
         "Драма",
         "3.005575058716044",
         "0.61634237",
         "1.223795",
         "1.2030462"
        ],
        [
         "9",
         "0",
         "9",
         "0.0",
         "M",
         "Триллер",
         "3.540362888980227",
         "0.35366598",
         "1.0603651",
         "0.7418764"
        ],
        [
         "10",
         "0",
         "10",
         "0.0",
         "M",
         "Комедия",
         "0.1029224714790122",
         "1.4441828",
         "0.8192087",
         "-1.7114812"
        ],
        [
         "11",
         "0",
         "11",
         "1.0",
         "M",
         "Триллер",
         "4.8495492608099715",
         "0.640289",
         "1.9864519",
         "1.4723145"
        ],
        [
         "12",
         "0",
         "12",
         "0.0",
         "M",
         "Мелодрама",
         "4.162213204002109",
         "0.408243",
         "0.5252662",
         "-1.063017"
        ],
        [
         "13",
         "0",
         "13",
         "0.0",
         "M",
         "Мелодрама",
         "1.0616955533913808",
         "-1.3460026",
         "0.026774116",
         "-0.058140192"
        ],
        [
         "14",
         "0",
         "14",
         "0.0",
         "M",
         "Драма",
         "0.9091248360355032",
         "0.6833678",
         "1.3979002",
         "1.2093848"
        ],
        [
         "15",
         "0",
         "15",
         "0.0",
         "M",
         "Триллер",
         "0.9170225492671692",
         "-0.23843108",
         "1.2570852",
         "-2.6655867"
        ],
        [
         "16",
         "0",
         "16",
         "0.0",
         "M",
         "Драма",
         "1.5212112147976886",
         "-0.39322618",
         "0.96244895",
         "1.4200544"
        ],
        [
         "17",
         "0",
         "17",
         "0.0",
         "M",
         "Фантастика",
         "2.6237821581611893",
         "1.1180596",
         "1.4537272",
         "-1.6445488"
        ],
        [
         "18",
         "0",
         "18",
         "0.0",
         "M",
         "Драма",
         "2.1597250932105787",
         "0.76606506",
         "3.1472487",
         "-1.6226164"
        ],
        [
         "19",
         "0",
         "19",
         "0.0",
         "M",
         "Мелодрама",
         "1.4561457009902097",
         "0.0",
         "0.0",
         "0.0"
        ],
        [
         "20",
         "0",
         "20",
         "0.0",
         "M",
         "Мелодрама",
         "3.0592644736118975",
         "0.52445036",
         "1.4741882",
         "-1.1104635"
        ],
        [
         "21",
         "0",
         "21",
         "0.0",
         "M",
         "Фантастика",
         "0.6974693032602092",
         "1.5954634",
         "2.7864513",
         "0.44208375"
        ],
        [
         "22",
         "0",
         "22",
         "0.0",
         "M",
         "Триллер",
         "1.4607232426760908",
         "-1.8876473",
         "0.12171279",
         "0.22716783"
        ],
        [
         "23",
         "0",
         "23",
         "0.0",
         "M",
         "Комедия",
         "1.8318092164684583",
         "1.1122805",
         "1.8977556",
         "-0.53757524"
        ],
        [
         "24",
         "0",
         "24",
         "0.0",
         "M",
         "Триллер",
         "2.28034992108518",
         "-0.73854095",
         "0.7900745",
         "0.43201193"
        ],
        [
         "25",
         "0",
         "25",
         "0.0",
         "M",
         "Мелодрама",
         "3.925879806965068",
         "-2.0811756",
         "-0.0014595405",
         "0.179258"
        ],
        [
         "26",
         "0",
         "26",
         "0.0",
         "M",
         "Комедия",
         "0.9983689107917988",
         "-1.4572129",
         "0.5750599",
         "0.21374571"
        ],
        [
         "27",
         "0",
         "27",
         "0.0",
         "M",
         "Фантастика",
         "2.571172192068058",
         "0.76269436",
         "3.1731977",
         "3.3377407"
        ],
        [
         "28",
         "0",
         "28",
         "0.0",
         "M",
         "Драма",
         "2.9620728443102124",
         "0.023212327",
         "1.1209196",
         "0.5802412"
        ],
        [
         "29",
         "0",
         "29",
         "0.0",
         "M",
         "Комедия",
         "0.2322520635999886",
         "-2.455648",
         "-0.039292295",
         "0.1852593"
        ],
        [
         "30",
         "0",
         "30",
         "0.0",
         "M",
         "Мелодрама",
         "3.0377242595071916",
         "0.6836987",
         "1.2833774",
         "-0.19618419"
        ],
        [
         "31",
         "0",
         "31",
         "1.0",
         "M",
         "Триллер",
         "0.8526206184364576",
         "1.0717288",
         "2.3395572",
         "3.7499526"
        ],
        [
         "32",
         "0",
         "32",
         "0.0",
         "M",
         "Драма",
         "0.3252579649263976",
         "-1.7972881",
         "0.17700173",
         "0.060979486"
        ],
        [
         "33",
         "0",
         "33",
         "0.0",
         "M",
         "Фантастика",
         "4.7444276862666666",
         "0.3040846",
         "2.0113502",
         "0.47731662"
        ],
        [
         "34",
         "0",
         "34",
         "0.0",
         "M",
         "Фантастика",
         "4.828160165372797",
         "0.46346194",
         "1.900821",
         "-1.847434"
        ],
        [
         "35",
         "0",
         "35",
         "0.0",
         "M",
         "Драма",
         "4.041986740582305",
         "1.5868651",
         "2.3680608",
         "0.28117293"
        ],
        [
         "36",
         "0",
         "36",
         "0.0",
         "M",
         "Комедия",
         "1.523068845866853",
         "0.59624755",
         "0.86559033",
         "-2.6871545"
        ],
        [
         "37",
         "0",
         "37",
         "0.0",
         "M",
         "Комедия",
         "0.4883605700319193",
         "0.57061887",
         "1.106549",
         "0.96178496"
        ],
        [
         "38",
         "0",
         "38",
         "0.0",
         "M",
         "Триллер",
         "3.4211651325607844",
         "0.0",
         "0.0",
         "0.0"
        ],
        [
         "39",
         "0",
         "39",
         "0.0",
         "M",
         "Фантастика",
         "2.2007624686980067",
         "-1.4984589",
         "1.9998266",
         "0.7632142"
        ],
        [
         "40",
         "0",
         "40",
         "1.0",
         "M",
         "Триллер",
         "0.6101911742238941",
         "0.38449615",
         "2.1621587",
         "3.572918"
        ],
        [
         "41",
         "0",
         "41",
         "0.0",
         "M",
         "Мелодрама",
         "2.475884550556351",
         "1.2810346",
         "0.9744485",
         "-1.6380532"
        ],
        [
         "42",
         "0",
         "42",
         "0.0",
         "M",
         "Комедия",
         "0.1719426055760919",
         "-1.5700643",
         "1.1505554",
         "0.3596089"
        ],
        [
         "43",
         "0",
         "43",
         "0.0",
         "M",
         "Мелодрама",
         "4.546602010393911",
         "-0.23766574",
         "0.69123816",
         "0.25482515"
        ],
        [
         "44",
         "0",
         "44",
         "0.0",
         "M",
         "Драма",
         "1.2938999080000846",
         "-1.0384407",
         "0.6647393",
         "0.43647802"
        ],
        [
         "45",
         "0",
         "45",
         "0.0",
         "M",
         "Мелодрама",
         "3.31261142176991",
         "0.0",
         "0.0",
         "0.0"
        ],
        [
         "46",
         "0",
         "46",
         "0.0",
         "M",
         "Мелодрама",
         "1.5585553804470549",
         "-1.5079418",
         "1.8711855",
         "0.80576044"
        ],
        [
         "47",
         "0",
         "47",
         "0.0",
         "M",
         "Фантастика",
         "2.600340105889054",
         "0.11007906",
         "1.9056252",
         "1.139363"
        ],
        [
         "48",
         "0",
         "48",
         "0.0",
         "M",
         "Драма",
         "2.7335513967163982",
         "0.028348057",
         "1.9334747",
         "2.365124"
        ],
        [
         "49",
         "0",
         "49",
         "0.0",
         "M",
         "Мелодрама",
         "0.9242722776276352",
         "0.08513213",
         "1.0238903",
         "1.5674477"
        ]
       ],
       "shape": {
        "columns": 9,
        "rows": 1000000
       }
      },
      "text/html": [
       "<div>\n",
       "<style scoped>\n",
       "    .dataframe tbody tr th:only-of-type {\n",
       "        vertical-align: middle;\n",
       "    }\n",
       "\n",
       "    .dataframe tbody tr th {\n",
       "        vertical-align: top;\n",
       "    }\n",
       "\n",
       "    .dataframe thead th {\n",
       "        text-align: right;\n",
       "    }\n",
       "</style>\n",
       "<table border=\"1\" class=\"dataframe\">\n",
       "  <thead>\n",
       "    <tr style=\"text-align: right;\">\n",
       "      <th></th>\n",
       "      <th>user_id</th>\n",
       "      <th>item_id</th>\n",
       "      <th>target</th>\n",
       "      <th>sex_type</th>\n",
       "      <th>genre</th>\n",
       "      <th>mean_users_score</th>\n",
       "      <th>sasrec_score</th>\n",
       "      <th>ease_score</th>\n",
       "      <th>als_score</th>\n",
       "    </tr>\n",
       "  </thead>\n",
       "  <tbody>\n",
       "    <tr>\n",
       "      <th>0</th>\n",
       "      <td>0</td>\n",
       "      <td>0</td>\n",
       "      <td>0.0</td>\n",
       "      <td>M</td>\n",
       "      <td>Комедия</td>\n",
       "      <td>1.872701</td>\n",
       "      <td>-0.933588</td>\n",
       "      <td>0.954731</td>\n",
       "      <td>0.544400</td>\n",
       "    </tr>\n",
       "    <tr>\n",
       "      <th>1</th>\n",
       "      <td>0</td>\n",
       "      <td>1</td>\n",
       "      <td>0.0</td>\n",
       "      <td>M</td>\n",
       "      <td>Драма</td>\n",
       "      <td>4.753572</td>\n",
       "      <td>0.304198</td>\n",
       "      <td>1.720800</td>\n",
       "      <td>0.397345</td>\n",
       "    </tr>\n",
       "    <tr>\n",
       "      <th>2</th>\n",
       "      <td>0</td>\n",
       "      <td>2</td>\n",
       "      <td>0.0</td>\n",
       "      <td>M</td>\n",
       "      <td>Мелодрама</td>\n",
       "      <td>3.659970</td>\n",
       "      <td>-0.363093</td>\n",
       "      <td>2.252170</td>\n",
       "      <td>0.878526</td>\n",
       "    </tr>\n",
       "    <tr>\n",
       "      <th>3</th>\n",
       "      <td>0</td>\n",
       "      <td>3</td>\n",
       "      <td>0.0</td>\n",
       "      <td>M</td>\n",
       "      <td>Драма</td>\n",
       "      <td>2.993292</td>\n",
       "      <td>-1.258670</td>\n",
       "      <td>-0.065691</td>\n",
       "      <td>0.208447</td>\n",
       "    </tr>\n",
       "    <tr>\n",
       "      <th>4</th>\n",
       "      <td>0</td>\n",
       "      <td>4</td>\n",
       "      <td>0.0</td>\n",
       "      <td>M</td>\n",
       "      <td>Фантастика</td>\n",
       "      <td>0.780093</td>\n",
       "      <td>0.000000</td>\n",
       "      <td>0.000000</td>\n",
       "      <td>0.000000</td>\n",
       "    </tr>\n",
       "    <tr>\n",
       "      <th>...</th>\n",
       "      <td>...</td>\n",
       "      <td>...</td>\n",
       "      <td>...</td>\n",
       "      <td>...</td>\n",
       "      <td>...</td>\n",
       "      <td>...</td>\n",
       "      <td>...</td>\n",
       "      <td>...</td>\n",
       "      <td>...</td>\n",
       "    </tr>\n",
       "    <tr>\n",
       "      <th>999995</th>\n",
       "      <td>9999</td>\n",
       "      <td>95</td>\n",
       "      <td>0.0</td>\n",
       "      <td>M</td>\n",
       "      <td>Мелодрама</td>\n",
       "      <td>2.468978</td>\n",
       "      <td>-0.172637</td>\n",
       "      <td>0.035745</td>\n",
       "      <td>0.851940</td>\n",
       "    </tr>\n",
       "    <tr>\n",
       "      <th>999996</th>\n",
       "      <td>9999</td>\n",
       "      <td>96</td>\n",
       "      <td>0.0</td>\n",
       "      <td>M</td>\n",
       "      <td>Драма</td>\n",
       "      <td>2.613664</td>\n",
       "      <td>0.338299</td>\n",
       "      <td>0.556249</td>\n",
       "      <td>1.503953</td>\n",
       "    </tr>\n",
       "    <tr>\n",
       "      <th>999997</th>\n",
       "      <td>9999</td>\n",
       "      <td>97</td>\n",
       "      <td>0.0</td>\n",
       "      <td>M</td>\n",
       "      <td>Мелодрама</td>\n",
       "      <td>2.137705</td>\n",
       "      <td>0.501455</td>\n",
       "      <td>-0.904800</td>\n",
       "      <td>-0.206815</td>\n",
       "    </tr>\n",
       "    <tr>\n",
       "      <th>999998</th>\n",
       "      <td>9999</td>\n",
       "      <td>98</td>\n",
       "      <td>1.0</td>\n",
       "      <td>M</td>\n",
       "      <td>Мелодрама</td>\n",
       "      <td>0.127096</td>\n",
       "      <td>0.032146</td>\n",
       "      <td>0.408203</td>\n",
       "      <td>1.190029</td>\n",
       "    </tr>\n",
       "    <tr>\n",
       "      <th>999999</th>\n",
       "      <td>9999</td>\n",
       "      <td>99</td>\n",
       "      <td>0.0</td>\n",
       "      <td>M</td>\n",
       "      <td>Мелодрама</td>\n",
       "      <td>0.539457</td>\n",
       "      <td>-1.386773</td>\n",
       "      <td>-0.892066</td>\n",
       "      <td>-0.609258</td>\n",
       "    </tr>\n",
       "  </tbody>\n",
       "</table>\n",
       "<p>1000000 rows × 9 columns</p>\n",
       "</div>"
      ],
      "text/plain": [
       "        user_id  item_id  target sex_type       genre  mean_users_score  \\\n",
       "0             0        0     0.0        M     Комедия          1.872701   \n",
       "1             0        1     0.0        M       Драма          4.753572   \n",
       "2             0        2     0.0        M   Мелодрама          3.659970   \n",
       "3             0        3     0.0        M       Драма          2.993292   \n",
       "4             0        4     0.0        M  Фантастика          0.780093   \n",
       "...         ...      ...     ...      ...         ...               ...   \n",
       "999995     9999       95     0.0        M   Мелодрама          2.468978   \n",
       "999996     9999       96     0.0        M       Драма          2.613664   \n",
       "999997     9999       97     0.0        M   Мелодрама          2.137705   \n",
       "999998     9999       98     1.0        M   Мелодрама          0.127096   \n",
       "999999     9999       99     0.0        M   Мелодрама          0.539457   \n",
       "\n",
       "        sasrec_score  ease_score  als_score  \n",
       "0          -0.933588    0.954731   0.544400  \n",
       "1           0.304198    1.720800   0.397345  \n",
       "2          -0.363093    2.252170   0.878526  \n",
       "3          -1.258670   -0.065691   0.208447  \n",
       "4           0.000000    0.000000   0.000000  \n",
       "...              ...         ...        ...  \n",
       "999995     -0.172637    0.035745   0.851940  \n",
       "999996      0.338299    0.556249   1.503953  \n",
       "999997      0.501455   -0.904800  -0.206815  \n",
       "999998      0.032146    0.408203   1.190029  \n",
       "999999     -1.386773   -0.892066  -0.609258  \n",
       "\n",
       "[1000000 rows x 9 columns]"
      ]
     },
     "execution_count": 17,
     "metadata": {},
     "output_type": "execute_result"
    }
   ],
   "source": [
    "# Скорим базовые модели\n",
    "recom_sasrec = sasrec.recommend(users=dataset.user_id_map.external_ids, dataset=dataset, filter_viewed=True, k=100).drop(columns=['rank']).rename(columns={\"score\": \"sasrec_score\"})\n",
    "recom_ease = ease.recommend(users=dataset.user_id_map.external_ids, dataset=dataset, filter_viewed=True, k=100).drop(columns=['rank']).rename(columns={\"score\": \"ease_score\"})\n",
    "recom_als = als.recommend(users=dataset.user_id_map.external_ids, dataset=dataset, filter_viewed=True, k=100).drop(columns=['rank']).rename(columns={\"score\": \"als_score\"})\n",
    "\n",
    "# Добавим нормировку\n",
    "def normalize(data):\n",
    "    return (data - data.mean()) / data.std()\n",
    "\n",
    "recom_sasrec[\"sasrec_score\"] = normalize(recom_sasrec[\"sasrec_score\"])\n",
    "recom_ease[\"ease_score\"] = normalize(recom_ease[\"ease_score\"])\n",
    "recom_als[\"als_score\"] = normalize(recom_als[\"als_score\"])\n",
    "\n",
    "# Обучаемся - на логах\n",
    "target_df = interactions_second_period[[\"user_id\", \"item_id\"]].drop_duplicates()\n",
    "target_df[\"target\"] = interactions_second_period[\"action\"].map({\"click\": 1, \"show\": 0})\n",
    "\n",
    "\n",
    "all_features = pd.merge(users[\"user_id\"], items[\"item_id\"], how=\"cross\")\n",
    "all_features = all_features.merge(target_df, on=[\"user_id\", \"item_id\"], how=\"left\")\n",
    "all_features = all_features.fillna(0)\n",
    "\n",
    "all_features = all_features.merge(users, on=[\"user_id\"], how=\"left\")\n",
    "all_features = all_features.merge(items, on=[\"item_id\"], how=\"left\")\n",
    "all_features = all_features.merge(recom_sasrec, on=[\"user_id\", \"item_id\"], how=\"left\")\n",
    "all_features = all_features.merge(recom_ease, on=[\"user_id\", \"item_id\"], how=\"left\")\n",
    "all_features = all_features.merge(recom_als, on=[\"user_id\", \"item_id\"], how=\"left\")\n",
    "\n",
    "all_features = all_features.fillna(0)\n",
    "\n",
    "all_features"
   ]
  },
  {
   "cell_type": "code",
   "execution_count": 18,
   "metadata": {},
   "outputs": [],
   "source": [
    "# Разделяем пользователей на тренировочную и валидационную выборки - важно что бы пользователь полностью попал либо в трейн, kb,j d dfkblfwb.\n",
    "train_users, val_users = train_test_split(all_features[\"user_id\"].drop_duplicates(), test_size=0.25, random_state=42)\n",
    "\n",
    "data_train = all_features[all_features[\"user_id\"].isin(train_users)].sort_values(\"user_id\")\n",
    "data_val = all_features[all_features[\"user_id\"].isin(val_users)].sort_values(\"user_id\")\n",
    "\n",
    "X_train = data_train.drop(columns=\"target\")\n",
    "X_val = data_val.drop(columns=\"target\")\n",
    "y_train = data_train[\"target\"]\n",
    "y_val = data_val[\"target\"]"
   ]
  },
  {
   "cell_type": "code",
   "execution_count": 19,
   "metadata": {},
   "outputs": [
    {
     "name": "stdout",
     "output_type": "stream",
     "text": [
      "Groupwise loss function. OneHotMaxSize set to 10\n",
      "0:\ttest: 0.1532386\tbest: 0.1532386 (0)\ttotal: 275ms\tremaining: 27.3s\n",
      "1:\ttest: 0.1881653\tbest: 0.1881653 (1)\ttotal: 499ms\tremaining: 24.4s\n",
      "2:\ttest: 0.1817699\tbest: 0.1881653 (1)\ttotal: 729ms\tremaining: 23.6s\n",
      "3:\ttest: 0.2203156\tbest: 0.2203156 (3)\ttotal: 926ms\tremaining: 22.2s\n",
      "4:\ttest: 0.2521549\tbest: 0.2521549 (4)\ttotal: 1.13s\tremaining: 21.6s\n",
      "5:\ttest: 0.2595290\tbest: 0.2595290 (5)\ttotal: 1.35s\tremaining: 21.2s\n",
      "6:\ttest: 0.2710852\tbest: 0.2710852 (6)\ttotal: 1.64s\tremaining: 21.8s\n",
      "7:\ttest: 0.2799290\tbest: 0.2799290 (7)\ttotal: 1.85s\tremaining: 21.3s\n",
      "8:\ttest: 0.2856277\tbest: 0.2856277 (8)\ttotal: 2.06s\tremaining: 20.8s\n",
      "9:\ttest: 0.2849212\tbest: 0.2856277 (8)\ttotal: 2.45s\tremaining: 22s\n",
      "10:\ttest: 0.2871778\tbest: 0.2871778 (10)\ttotal: 2.67s\tremaining: 21.6s\n",
      "11:\ttest: 0.2888405\tbest: 0.2888405 (11)\ttotal: 2.89s\tremaining: 21.2s\n",
      "12:\ttest: 0.2863863\tbest: 0.2888405 (11)\ttotal: 3.11s\tremaining: 20.8s\n",
      "13:\ttest: 0.2870792\tbest: 0.2888405 (11)\ttotal: 3.39s\tremaining: 20.8s\n",
      "14:\ttest: 0.2873879\tbest: 0.2888405 (11)\ttotal: 3.73s\tremaining: 21.2s\n",
      "Stopped by overfitting detector  (3 iterations wait)\n",
      "\n",
      "bestTest = 0.2888404853\n",
      "bestIteration = 11\n",
      "\n",
      "Shrink model to first 12 iterations.\n"
     ]
    },
    {
     "data": {
      "text/plain": [
       "<catboost.core.CatBoostRanker at 0x16c117020>"
      ]
     },
     "execution_count": 19,
     "metadata": {},
     "output_type": "execute_result"
    }
   ],
   "source": [
    "train_pool = Pool(data=X_train.drop(columns=[\"user_id\", \"item_id\"]), label=y_train, group_id=X_train[\"user_id\"], cat_features=['sex_type', 'genre'])\n",
    "val_pool = Pool(data=X_val.drop(columns=[\"user_id\", \"item_id\"]), label=y_val, group_id=X_val[\"user_id\"], cat_features=['sex_type', 'genre'])\n",
    "\n",
    "\n",
    "model = CatBoostRanker(\n",
    "    iterations=100,             \n",
    "    learning_rate=0.1,          \n",
    "    depth=6,                    \n",
    "    early_stopping_rounds=3\n",
    ")\n",
    "\n",
    "model.fit(train_pool, eval_set=val_pool) \n"
   ]
  },
  {
   "cell_type": "markdown",
   "metadata": {},
   "source": [
    "Проанализируем логику работы модели"
   ]
  },
  {
   "cell_type": "code",
   "execution_count": 20,
   "metadata": {},
   "outputs": [
    {
     "data": {
      "image/png": "[encoded data removed]",
      "text/plain": [
       "<Figure size 800x390 with 2 Axes>"
      ]
     },
     "metadata": {},
     "output_type": "display_data"
    }
   ],
   "source": [
    "import shap\n",
    "\n",
    "# Создайте экземпляр SHAP\n",
    "explainer = shap.TreeExplainer(model)\n",
    "\n",
    "# Получите SHAP-значения для данных\n",
    "shap_values = explainer(X_val.drop(columns=[\"user_id\", \"item_id\"]))\n",
    "\n",
    "# Постройте SHAP-график\n",
    "shap.plots.beeswarm(shap_values)\n"
   ]
  },
  {
   "cell_type": "markdown",
   "metadata": {},
   "source": [
    "Посчитаем истинный NDCG"
   ]
  },
  {
   "cell_type": "code",
   "execution_count": 21,
   "metadata": {},
   "outputs": [
    {
     "name": "stderr",
     "output_type": "stream",
     "text": [
      "100%|██████████| 2500/2500 [00:01<00:00, 1680.69it/s]"
     ]
    },
    {
     "name": "stdout",
     "output_type": "stream",
     "text": [
      "0.688605115390416\n"
     ]
    },
    {
     "name": "stderr",
     "output_type": "stream",
     "text": [
      "\n"
     ]
    }
   ],
   "source": [
    "from sklearn.metrics import ndcg_score\n",
    "import numpy as np\n",
    "from tqdm import tqdm\n",
    "\n",
    "true_relevance = pd.read_csv(\"../data/true_relevance.csv\")\n",
    "\n",
    "val_scores = X_val[[\"user_id\", \"item_id\"]]\n",
    "val_scores['prediction'] = model.predict(val_pool)\n",
    "\n",
    "all_scores = val_scores.merge(true_relevance, on=[\"user_id\", \"item_id\"])\n",
    "\n",
    "all_ndcg = []\n",
    "\n",
    "for user in tqdm(all_scores[\"user_id\"].unique()):\n",
    "    if all_scores[all_scores[\"user_id\"] == user].shape[0] > 1:\n",
    "        sc = ndcg_score(all_scores.loc[all_scores[\"user_id\"] == user, \"true_relevance\"].to_numpy().reshape(1, -1), all_scores.loc[all_scores[\"user_id\"] == user, \"prediction\"].to_numpy().reshape(1, -1), k=6)\n",
    "        all_ndcg.append(sc)\n",
    "\n",
    "print(np.mean(all_ndcg))"
   ]
  }
 ],
 "metadata": {
  "kernelspec": {
   "display_name": "yaMasterClass2026",
   "language": "python",
   "name": "python3"
  },
  "language_info": {
   "codemirror_mode": {
    "name": "ipython",
    "version": 3
   },
   "file_extension": ".py",
   "mimetype": "text/x-python",
   "name": "python",
   "nbconvert_exporter": "python",
   "pygments_lexer": "ipython3",
   "version": "3.12.7"
  }
 },
 "nbformat": 4,
 "nbformat_minor": 2
}
