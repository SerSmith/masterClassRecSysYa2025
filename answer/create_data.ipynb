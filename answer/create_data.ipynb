{
 "cells": [
  {
   "cell_type": "code",
   "execution_count": null,
   "metadata": {},
   "outputs": [
    {
     "name": "stderr",
     "output_type": "stream",
     "text": [
      "/var/folders/ld/vywms60d4_7281vl54t27ngwdqgvkl/T/ipykernel_43630/1866770207.py:56: SettingWithCopyWarning: \n",
      "A value is trying to be set on a copy of a slice from a DataFrame.\n",
      "Try using .loc[row_indexer,col_indexer] = value instead\n",
      "\n",
      "See the caveats in the documentation: https://pandas.pydata.org/pandas-docs/stable/user_guide/indexing.html#returning-a-view-versus-a-copy\n",
      "  item_quality[\"item_quality\"] = item_quality['mean_users_score']\n",
      "/var/folders/ld/vywms60d4_7281vl54t27ngwdqgvkl/T/ipykernel_43630/1866770207.py:57: SettingWithCopyWarning: \n",
      "A value is trying to be set on a copy of a slice from a DataFrame.\n",
      "Try using .loc[row_indexer,col_indexer] = value instead\n",
      "\n",
      "See the caveats in the documentation: https://pandas.pydata.org/pandas-docs/stable/user_guide/indexing.html#returning-a-view-versus-a-copy\n",
      "  item_quality[\"item_quality\"] = item_quality[\"item_quality\"] / item_quality[\"item_quality\"].sum()\n"
     ]
    }
   ],
   "source": [
    "import pandas as pd\n",
    "import numpy as np\n",
    "import random\n",
    "\n",
    "\n",
    "np.random.seed(42)\n",
    "\n",
    "# Кол-во пользователей\n",
    "USER_QUANT = 10000\n",
    "# Кол-во айтемов\n",
    "ITEM_QUANT = 100\n",
    "# Мат ожидание кол-ва успещных взаимодействий\n",
    "ACTION_QUANT = 10\n",
    "# Размер одновременно отображаемых значений\n",
    "WINDOW_SIZE = 6\n",
    "# Вклад интересов пользователя\n",
    "INTERSTS_SCORE = 0.4\n",
    "# Вклад пола пользователя\n",
    "SEX_TYPE_SCORE = 0.4\n",
    "# Коэффициент сглаживания скора\n",
    "POW_VAL = 0.7\n",
    "# Возможные жанры\n",
    "GENRES = [\"Драма\", \"Комедия\", \"Триллер\", \"Мелодрама\", \"Фантастика\"]\n",
    "# Количество жанров - интересов пользователя\n",
    "NUM_INTERESTS_GENRES = 3\n",
    "# пол пользователя\n",
    "SEX_TYPES = [\"M\", \"F\"]\n",
    "# действия пользователя\n",
    "ACTIONS = ['show', 'click']\n",
    "\n",
    "# создаем список пользователей и айтемов\n",
    "users = [str(i) for i in range(USER_QUANT)]\n",
    "items = [str(i) for i in range(ITEM_QUANT)]\n",
    "\n",
    "\n",
    "users_df = pd.DataFrame({\n",
    "    'user_id': users,\n",
    "    'sex_type': [random.choice(SEX_TYPES) for _ in range(USER_QUANT)],\n",
    "    # Пользователю присваевается NUM_INTERESTS_GENRES скрытых интересов\n",
    "    \"interests\": [random.sample(GENRES, k=NUM_INTERESTS_GENRES) for _ in range(USER_QUANT)],\n",
    "})\n",
    "\n",
    "\n",
    "\n",
    "items_df = pd.DataFrame({\n",
    "    'item_id': items,\n",
    "    'genre': [random.choice(GENRES)  for _ in range(ITEM_QUANT)],\n",
    "    # Айтем может быть интересен представителем конкретного пола или не быть интересен никому\n",
    "    \"interests_sex\": [random.choice(SEX_TYPES + [\"\"])  for _ in range(ITEM_QUANT)],\n",
    "    \"mean_users_score\": np.random.uniform(size=ITEM_QUANT) * 5\n",
    "})\n",
    "\n",
    "\n",
    "# Создадим датасет качества объектов\n",
    "item_quality = items_df[['item_id', 'mean_users_score']]\n",
    "item_quality[\"item_quality\"] = item_quality['mean_users_score']\n",
    "item_quality[\"item_quality\"] = item_quality[\"item_quality\"] / item_quality[\"item_quality\"].sum()\n",
    "item_quality_sorted = item_quality.sort_values(by='item_quality', ascending=False).reset_index(drop=True)\n",
    "# Мы будем считать, что что бы долистать дор обхъекта нужно сдлеать несколко скроллов\n",
    "item_quality_sorted[\"window\"] = item_quality_sorted.index.values // WINDOW_SIZE\n",
    "\n",
    "# Рассчитываем датасет с необходимыми скроллами\n",
    "data_windows = pd.DataFrame(columns=[\"item_id\", \"item_showed\"])\n",
    "for i in range(item_quality_sorted[\"window\"].max()):\n",
    "    items_block = item_quality_sorted[item_quality_sorted[\"window\"] == i][[\"item_id\"]]\n",
    "    showed_items = item_quality_sorted[item_quality_sorted[\"window\"] <= i][[\"item_id\"]].rename(columns={\"item_id\": \"item_showed\"})\n",
    "    df_merged = pd.merge(items_block, showed_items, how='cross')\n",
    "    data_windows = data_windows._append(df_merged)\n",
    "\n",
    "# Оцениваем скоры релевантности\n",
    "user_probs = pd.merge(users_df, item_quality_sorted, how=\"cross\").merge(items_df, on=\"item_id\")\n",
    "user_probs[\"score\"] = user_probs.apply(lambda x: x[\"item_quality\"] + INTERSTS_SCORE * int(x[\"genre\"] in x[\"interests\"]) + SEX_TYPE_SCORE * int(x[\"interests_sex\"] == x[\"sex_type\"]), axis=1)\n",
    "# отнормируем скоры так, что бы в среднем на пользователя приходилось ACTION_QUANT действий\n",
    "user_probs[\"score\"] = user_probs[\"score\"] / user_probs[\"score\"].mean() * ACTION_QUANT / 100\n",
    "user_probs[\"click_flag\"] = user_probs[\"score\"] > np.random.uniform(size=user_probs.shape[0])\n",
    "data_click = user_probs[user_probs[\"click_flag\"] == 1]\n",
    "data_click = data_click[[\"user_id\", \"item_id\"]]\n",
    "data_click[\"action\"] = ACTIONS[1]\n",
    "# Добавим даты для последовательных моделей\n",
    "data_click['datetime'] = pd.to_datetime(np.random.rand(data_click.shape[0]) * 10000000000000000) + pd.DateOffset(years=55)\n",
    "\n",
    "# Добавим какие объектны нужно было пролистнуть пользователю, что бы увидеть объект на которы йон кликнуд\n",
    "data_show = data_click.merge(data_windows, on='item_id', how='left')[[\"user_id\",\"item_showed\", \"action\", 'datetime']].rename(columns={\"item_showed\": \"item_id\"})\n",
    "data_show[\"action\"] = ACTIONS[0]\n",
    "\n",
    "out = data_click._append(data_show, ignore_index=True)\n",
    "\n",
    "# Сохраняем результат\n",
    "out.to_csv('../data/interactions.csv', index=False)\n",
    "users_df.drop(columns=[\"interests\"]).to_csv('../data/users.csv', index=False)\n",
    "items_df.drop(columns=[\"interests_sex\"]).to_csv('../data/items.csv', index=False)\n",
    "user_probs[[\"user_id\", \"item_id\", \"score\"]].rename(columns={\"score\": \"true_relevance\"}).to_csv('../data/true_relevance.csv', index=False)\n"
   ]
  },
  {
   "cell_type": "code",
   "execution_count": null,
   "metadata": {},
   "outputs": [
    {
     "data": {
      "application/vnd.microsoft.datawrangler.viewer.v0+json": {
       "columns": [
        {
         "name": "index",
         "rawType": "int64",
         "type": "integer"
        },
        {
         "name": "user_id",
         "rawType": "object",
         "type": "string"
        },
        {
         "name": "item_id",
         "rawType": "object",
         "type": "string"
        },
        {
         "name": "true_relevance",
         "rawType": "float64",
         "type": "float"
        }
       ],
       "ref": "9a3d643a-76cf-4c90-997b-3cf5e56325d4",
       "rows": [
        [
         "0",
         "0",
         "69",
         "0.22316702311968215"
        ],
        [
         "1",
         "0",
         "11",
         "0.11433811973807123"
        ],
        [
         "2",
         "0",
         "50",
         "0.22306699280687084"
        ],
        [
         "3",
         "0",
         "34",
         "0.22304414156273886"
        ],
        [
         "4",
         "0",
         "1",
         "0.11422714400273035"
        ],
        [
         "5",
         "0",
         "33",
         "0.11421657128942792"
        ],
        [
         "6",
         "0",
         "52",
         "0.11416230430622232"
        ],
        [
         "7",
         "0",
         "55",
         "0.11406041010671246"
        ],
        [
         "8",
         "0",
         "43",
         "0.11398783228786126"
        ],
        [
         "9",
         "0",
         "53",
         "0.22263479650822443"
        ],
        [
         "10",
         "0",
         "88",
         "0.11386002066939323"
        ],
        [
         "11",
         "0",
         "7",
         "0.005007647917574538"
        ],
        [
         "12",
         "0",
         "80",
         "0.004989883517711665"
        ],
        [
         "13",
         "0",
         "12",
         "0.11354337677722269"
        ],
        [
         "14",
         "0",
         "62",
         "0.004791202900430486"
        ],
        [
         "15",
         "0",
         "73",
         "0.11344520282836129"
        ],
        [
         "16",
         "0",
         "35",
         "0.0046736097693459685"
        ],
        [
         "17",
         "0",
         "67",
         "0.11336851671292082"
        ],
        [
         "18",
         "0",
         "25",
         "0.11327011262666885"
        ],
        [
         "19",
         "0",
         "51",
         "0.11321204995720296"
        ],
        [
         "20",
         "0",
         "70",
         "0.004464599873466223"
        ],
        [
         "21",
         "0",
         "76",
         "0.00445896641729086"
        ],
        [
         "22",
         "0",
         "94",
         "0.22191872030621235"
        ],
        [
         "23",
         "0",
         "92",
         "0.004398347475870299"
        ],
        [
         "24",
         "0",
         "2",
         "0.11296264995766174"
        ],
        [
         "25",
         "0",
         "86",
         "0.11294884551517823"
        ],
        [
         "26",
         "0",
         "75",
         "0.1129453824405122"
        ],
        [
         "27",
         "0",
         "91",
         "0.004123501658271458"
        ],
        [
         "28",
         "0",
         "9",
         "0.11282435271952909"
        ],
        [
         "29",
         "0",
         "74",
         "0.004086573756627712"
        ],
        [
         "30",
         "0",
         "38",
         "0.11268652846758567"
        ],
        [
         "31",
         "0",
         "45",
         "0.11256101155825064"
        ],
        [
         "32",
         "0",
         "87",
         "0.11241668179988022"
        ],
        [
         "33",
         "0",
         "81",
         "0.11233424386011681"
        ],
        [
         "34",
         "0",
         "20",
         "0.11226807522571466"
        ],
        [
         "35",
         "0",
         "30",
         "0.11224316901955053"
        ],
        [
         "36",
         "0",
         "8",
         "0.0034752427106908906"
        ],
        [
         "37",
         "0",
         "3",
         "0.11219179401811832"
        ],
        [
         "38",
         "0",
         "54",
         "0.2209181621476507"
        ],
        [
         "39",
         "0",
         "28",
         "0.2208864491966045"
        ],
        [
         "40",
         "0",
         "93",
         "0.11197568056007662"
        ],
        [
         "41",
         "0",
         "48",
         "0.11189146443605055"
        ],
        [
         "42",
         "0",
         "65",
         "0.11186825705350514"
        ],
        [
         "43",
         "0",
         "17",
         "0.0030337887563805298"
        ],
        [
         "44",
         "0",
         "96",
         "0.0030220896491679134"
        ],
        [
         "45",
         "0",
         "47",
         "0.11173743681791243"
        ],
        [
         "46",
         "0",
         "27",
         "0.11170371096581683"
        ],
        [
         "47",
         "0",
         "41",
         "0.002862779857013065"
        ],
        [
         "48",
         "0",
         "95",
         "0.22031630062501184"
        ],
        [
         "49",
         "0",
         "89",
         "0.11146078240093013"
        ]
       ],
       "shape": {
        "columns": 3,
        "rows": 1000000
       }
      },
      "text/html": [
       "<div>\n",
       "<style scoped>\n",
       "    .dataframe tbody tr th:only-of-type {\n",
       "        vertical-align: middle;\n",
       "    }\n",
       "\n",
       "    .dataframe tbody tr th {\n",
       "        vertical-align: top;\n",
       "    }\n",
       "\n",
       "    .dataframe thead th {\n",
       "        text-align: right;\n",
       "    }\n",
       "</style>\n",
       "<table border=\"1\" class=\"dataframe\">\n",
       "  <thead>\n",
       "    <tr style=\"text-align: right;\">\n",
       "      <th></th>\n",
       "      <th>user_id</th>\n",
       "      <th>item_id</th>\n",
       "      <th>true_relevance</th>\n",
       "    </tr>\n",
       "  </thead>\n",
       "  <tbody>\n",
       "    <tr>\n",
       "      <th>0</th>\n",
       "      <td>0</td>\n",
       "      <td>69</td>\n",
       "      <td>0.223167</td>\n",
       "    </tr>\n",
       "    <tr>\n",
       "      <th>1</th>\n",
       "      <td>0</td>\n",
       "      <td>11</td>\n",
       "      <td>0.114338</td>\n",
       "    </tr>\n",
       "    <tr>\n",
       "      <th>2</th>\n",
       "      <td>0</td>\n",
       "      <td>50</td>\n",
       "      <td>0.223067</td>\n",
       "    </tr>\n",
       "    <tr>\n",
       "      <th>3</th>\n",
       "      <td>0</td>\n",
       "      <td>34</td>\n",
       "      <td>0.223044</td>\n",
       "    </tr>\n",
       "    <tr>\n",
       "      <th>4</th>\n",
       "      <td>0</td>\n",
       "      <td>1</td>\n",
       "      <td>0.114227</td>\n",
       "    </tr>\n",
       "    <tr>\n",
       "      <th>...</th>\n",
       "      <td>...</td>\n",
       "      <td>...</td>\n",
       "      <td>...</td>\n",
       "    </tr>\n",
       "    <tr>\n",
       "      <th>999995</th>\n",
       "      <td>9999</td>\n",
       "      <td>58</td>\n",
       "      <td>0.108992</td>\n",
       "    </tr>\n",
       "    <tr>\n",
       "      <th>999996</th>\n",
       "      <td>9999</td>\n",
       "      <td>42</td>\n",
       "      <td>0.108930</td>\n",
       "    </tr>\n",
       "    <tr>\n",
       "      <th>999997</th>\n",
       "      <td>9999</td>\n",
       "      <td>98</td>\n",
       "      <td>0.000147</td>\n",
       "    </tr>\n",
       "    <tr>\n",
       "      <th>999998</th>\n",
       "      <td>9999</td>\n",
       "      <td>10</td>\n",
       "      <td>0.000119</td>\n",
       "    </tr>\n",
       "    <tr>\n",
       "      <th>999999</th>\n",
       "      <td>9999</td>\n",
       "      <td>72</td>\n",
       "      <td>0.108763</td>\n",
       "    </tr>\n",
       "  </tbody>\n",
       "</table>\n",
       "<p>1000000 rows × 3 columns</p>\n",
       "</div>"
      ],
      "text/plain": [
       "       user_id item_id  true_relevance\n",
       "0            0      69        0.223167\n",
       "1            0      11        0.114338\n",
       "2            0      50        0.223067\n",
       "3            0      34        0.223044\n",
       "4            0       1        0.114227\n",
       "...        ...     ...             ...\n",
       "999995    9999      58        0.108992\n",
       "999996    9999      42        0.108930\n",
       "999997    9999      98        0.000147\n",
       "999998    9999      10        0.000119\n",
       "999999    9999      72        0.108763\n",
       "\n",
       "[1000000 rows x 3 columns]"
      ]
     },
     "execution_count": 3,
     "metadata": {},
     "output_type": "execute_result"
    }
   ],
   "source": []
  }
 ],
 "metadata": {
  "kernelspec": {
   "display_name": "test_master_class",
   "language": "python",
   "name": "python3"
  },
  "language_info": {
   "codemirror_mode": {
    "name": "ipython",
    "version": 3
   },
   "file_extension": ".py",
   "mimetype": "text/x-python",
   "name": "python",
   "nbconvert_exporter": "python",
   "pygments_lexer": "ipython3",
   "version": "3.13.0"
  }
 },
 "nbformat": 4,
 "nbformat_minor": 2
}
