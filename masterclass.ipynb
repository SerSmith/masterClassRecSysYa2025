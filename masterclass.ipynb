{
 "cells": [
  {
   "cell_type": "code",
   "execution_count": 1,
   "metadata": {},
   "outputs": [
    {
     "name": "stderr",
     "output_type": "stream",
     "text": [
      "/Users/sykuznets3/.pyenv/versions/test_master_class/lib/python3.13/site-packages/tqdm/auto.py:21: TqdmWarning: IProgress not found. Please update jupyter and ipywidgets. See https://ipywidgets.readthedocs.io/en/stable/user_install.html\n",
      "  from .autonotebook import tqdm as notebook_tqdm\n"
     ]
    }
   ],
   "source": [
    "import pandas as pd\n",
    "import seaborn as sns\n",
    "import matplotlib.pyplot as plt\n",
    "\n",
    "from sklearn.model_selection import train_test_split\n",
    "\n",
    "from rectools.dataset import Dataset\n",
    "from rectools.metrics import (\n",
    "    MAP,\n",
    "    CoveredUsers,\n",
    "    AvgRecPopularity,\n",
    "    Intersection,\n",
    "    HitRate,\n",
    "    Serendipity,\n",
    ")\n",
    "from rectools.models import PopularModel, EASEModel, SASRecModel, ImplicitALSWrapperModel\n",
    "from rectools.model_selection import TimeRangeSplitter, cross_validate\n",
    "\n",
    "from implicit.als import AlternatingLeastSquares\n",
    "from catboost import CatBoostRanker, Pool"
   ]
  },
  {
   "cell_type": "code",
   "execution_count": 2,
   "metadata": {},
   "outputs": [],
   "source": [
    "interactions = pd.read_csv(\"data/interactions.csv\")\n",
    "items = pd.read_csv(\"data/items.csv\")\n",
    "users = pd.read_csv(\"data/users.csv\")"
   ]
  },
  {
   "cell_type": "markdown",
   "metadata": {},
   "source": [
    "# EDA"
   ]
  },
  {
   "cell_type": "markdown",
   "metadata": {},
   "source": [
    "Посмотрим на данные"
   ]
  },
  {
   "cell_type": "code",
   "execution_count": 3,
   "metadata": {},
   "outputs": [
    {
     "data": {
      "application/vnd.microsoft.datawrangler.viewer.v0+json": {
       "columns": [
        {
         "name": "index",
         "rawType": "int64",
         "type": "integer"
        },
        {
         "name": "user_id",
         "rawType": "int64",
         "type": "integer"
        },
        {
         "name": "item_id",
         "rawType": "float64",
         "type": "float"
        },
        {
         "name": "action",
         "rawType": "object",
         "type": "string"
        },
        {
         "name": "datetime",
         "rawType": "object",
         "type": "string"
        }
       ],
       "ref": "471c691c-d12c-4f8f-bd4b-15547e5ec56c",
       "rows": [
        [
         "0",
         "0",
         "53.0",
         "click",
         "2025-01-17 10:04:17.216954590"
        ],
        [
         "1",
         "0",
         "7.0",
         "click",
         "2025-01-11 02:47:00.259085350"
        ],
        [
         "2",
         "0",
         "92.0",
         "click",
         "2025-03-11 04:40:18.978093997"
        ],
        [
         "3",
         "0",
         "9.0",
         "click",
         "2025-02-08 00:59:21.139311191"
        ],
        [
         "4",
         "0",
         "47.0",
         "click",
         "2025-01-15 15:46:51.046877007"
        ],
        [
         "5",
         "0",
         "36.0",
         "click",
         "2025-02-16 21:05:32.388498735"
        ],
        [
         "6",
         "0",
         "64.0",
         "click",
         "2025-02-20 01:28:48.836959353"
        ],
        [
         "7",
         "0",
         "13.0",
         "click",
         "2025-04-02 08:18:15.581301015"
        ],
        [
         "8",
         "0",
         "49.0",
         "click",
         "2025-04-12 22:25:20.669607368"
        ],
        [
         "9",
         "0",
         "4.0",
         "click",
         "2025-03-01 02:57:03.518618892"
        ],
        [
         "10",
         "0",
         "77.0",
         "click",
         "2025-04-06 10:24:42.280631401"
        ],
        [
         "11",
         "1",
         "11.0",
         "click",
         "2025-03-12 13:49:11.131534933"
        ],
        [
         "12",
         "1",
         "50.0",
         "click",
         "2025-02-08 07:00:06.660675066"
        ],
        [
         "13",
         "1",
         "43.0",
         "click",
         "2025-03-23 15:39:40.429304615"
        ],
        [
         "14",
         "1",
         "94.0",
         "click",
         "2025-02-06 18:08:48.155467123"
        ],
        [
         "15",
         "1",
         "3.0",
         "click",
         "2025-01-01 12:31:10.640077899"
        ],
        [
         "16",
         "1",
         "28.0",
         "click",
         "2025-01-13 03:04:00.971565097"
        ],
        [
         "17",
         "1",
         "82.0",
         "click",
         "2025-02-25 00:24:18.109780005"
        ],
        [
         "18",
         "1",
         "40.0",
         "click",
         "2025-04-24 08:44:25.948483362"
        ],
        [
         "19",
         "1",
         "79.0",
         "click",
         "2025-01-14 06:57:14.085122029"
        ],
        [
         "20",
         "1",
         "32.0",
         "click",
         "2025-01-26 13:49:36.993437761"
        ],
        [
         "21",
         "1",
         "72.0",
         "click",
         "2025-01-22 09:24:38.059277088"
        ],
        [
         "22",
         "2",
         "69.0",
         "click",
         "2025-03-11 18:23:08.857852659"
        ],
        [
         "23",
         "2",
         "7.0",
         "click",
         "2025-03-27 09:12:43.641526332"
        ],
        [
         "24",
         "2",
         "80.0",
         "click",
         "2025-02-14 20:31:27.847938168"
        ],
        [
         "25",
         "2",
         "25.0",
         "click",
         "2025-04-21 20:59:35.506117080"
        ],
        [
         "26",
         "2",
         "87.0",
         "click",
         "2025-03-16 14:30:24.971853072"
        ],
        [
         "27",
         "2",
         "20.0",
         "click",
         "2025-04-22 13:12:34.963890352"
        ],
        [
         "28",
         "2",
         "30.0",
         "click",
         "2025-03-20 21:54:23.182521631"
        ],
        [
         "29",
         "2",
         "28.0",
         "click",
         "2025-01-05 14:01:35.455450949"
        ],
        [
         "30",
         "2",
         "41.0",
         "click",
         "2025-01-03 13:04:30.502355546"
        ],
        [
         "31",
         "2",
         "60.0",
         "click",
         "2025-01-05 19:14:49.598716687"
        ],
        [
         "32",
         "2",
         "23.0",
         "click",
         "2025-04-09 02:17:37.799963791"
        ],
        [
         "33",
         "2",
         "44.0",
         "click",
         "2025-03-03 08:03:05.086979757"
        ],
        [
         "34",
         "2",
         "13.0",
         "click",
         "2025-02-23 05:23:12.844000834"
        ],
        [
         "35",
         "2",
         "26.0",
         "click",
         "2025-03-29 23:19:22.111802334"
        ],
        [
         "36",
         "2",
         "14.0",
         "click",
         "2025-03-14 01:27:35.669377042"
        ],
        [
         "37",
         "3",
         "69.0",
         "click",
         "2025-01-28 17:43:35.751158222"
        ],
        [
         "38",
         "3",
         "55.0",
         "click",
         "2025-02-13 06:06:58.873180015"
        ],
        [
         "39",
         "3",
         "94.0",
         "click",
         "2025-04-08 18:48:17.536096887"
        ],
        [
         "40",
         "3",
         "2.0",
         "click",
         "2025-02-12 15:02:59.524912412"
        ],
        [
         "41",
         "3",
         "38.0",
         "click",
         "2025-03-05 17:37:30.964953633"
        ],
        [
         "42",
         "3",
         "81.0",
         "click",
         "2025-03-28 09:05:26.539875961"
        ],
        [
         "43",
         "3",
         "20.0",
         "click",
         "2025-01-18 03:50:06.307364853"
        ],
        [
         "44",
         "3",
         "8.0",
         "click",
         "2025-01-22 18:19:54.847481588"
        ],
        [
         "45",
         "3",
         "28.0",
         "click",
         "2025-04-17 18:48:28.388145408"
        ],
        [
         "46",
         "3",
         "93.0",
         "click",
         "2025-03-29 15:18:53.896887518"
        ],
        [
         "47",
         "3",
         "89.0",
         "click",
         "2025-03-18 21:22:28.073699920"
        ],
        [
         "48",
         "3",
         "60.0",
         "click",
         "2025-04-06 20:59:50.905861297"
        ],
        [
         "49",
         "3",
         "63.0",
         "click",
         "2025-04-26 17:34:19.593301672"
        ]
       ],
       "shape": {
        "columns": 4,
        "rows": 4808794
       }
      },
      "text/html": [
       "<div>\n",
       "<style scoped>\n",
       "    .dataframe tbody tr th:only-of-type {\n",
       "        vertical-align: middle;\n",
       "    }\n",
       "\n",
       "    .dataframe tbody tr th {\n",
       "        vertical-align: top;\n",
       "    }\n",
       "\n",
       "    .dataframe thead th {\n",
       "        text-align: right;\n",
       "    }\n",
       "</style>\n",
       "<table border=\"1\" class=\"dataframe\">\n",
       "  <thead>\n",
       "    <tr style=\"text-align: right;\">\n",
       "      <th></th>\n",
       "      <th>user_id</th>\n",
       "      <th>item_id</th>\n",
       "      <th>action</th>\n",
       "      <th>datetime</th>\n",
       "    </tr>\n",
       "  </thead>\n",
       "  <tbody>\n",
       "    <tr>\n",
       "      <th>0</th>\n",
       "      <td>0</td>\n",
       "      <td>53.0</td>\n",
       "      <td>click</td>\n",
       "      <td>2025-01-17 10:04:17.216954590</td>\n",
       "    </tr>\n",
       "    <tr>\n",
       "      <th>1</th>\n",
       "      <td>0</td>\n",
       "      <td>7.0</td>\n",
       "      <td>click</td>\n",
       "      <td>2025-01-11 02:47:00.259085350</td>\n",
       "    </tr>\n",
       "    <tr>\n",
       "      <th>2</th>\n",
       "      <td>0</td>\n",
       "      <td>92.0</td>\n",
       "      <td>click</td>\n",
       "      <td>2025-03-11 04:40:18.978093997</td>\n",
       "    </tr>\n",
       "    <tr>\n",
       "      <th>3</th>\n",
       "      <td>0</td>\n",
       "      <td>9.0</td>\n",
       "      <td>click</td>\n",
       "      <td>2025-02-08 00:59:21.139311191</td>\n",
       "    </tr>\n",
       "    <tr>\n",
       "      <th>4</th>\n",
       "      <td>0</td>\n",
       "      <td>47.0</td>\n",
       "      <td>click</td>\n",
       "      <td>2025-01-15 15:46:51.046877007</td>\n",
       "    </tr>\n",
       "    <tr>\n",
       "      <th>...</th>\n",
       "      <td>...</td>\n",
       "      <td>...</td>\n",
       "      <td>...</td>\n",
       "      <td>...</td>\n",
       "    </tr>\n",
       "    <tr>\n",
       "      <th>4808789</th>\n",
       "      <td>9999</td>\n",
       "      <td>0.0</td>\n",
       "      <td>show</td>\n",
       "      <td>2025-01-25 17:35:43.151033886</td>\n",
       "    </tr>\n",
       "    <tr>\n",
       "      <th>4808790</th>\n",
       "      <td>9999</td>\n",
       "      <td>23.0</td>\n",
       "      <td>show</td>\n",
       "      <td>2025-01-25 17:35:43.151033886</td>\n",
       "    </tr>\n",
       "    <tr>\n",
       "      <th>4808791</th>\n",
       "      <td>9999</td>\n",
       "      <td>78.0</td>\n",
       "      <td>show</td>\n",
       "      <td>2025-01-25 17:35:43.151033886</td>\n",
       "    </tr>\n",
       "    <tr>\n",
       "      <th>4808792</th>\n",
       "      <td>9999</td>\n",
       "      <td>63.0</td>\n",
       "      <td>show</td>\n",
       "      <td>2025-01-25 17:35:43.151033886</td>\n",
       "    </tr>\n",
       "    <tr>\n",
       "      <th>4808793</th>\n",
       "      <td>9999</td>\n",
       "      <td>82.0</td>\n",
       "      <td>show</td>\n",
       "      <td>2025-01-25 17:35:43.151033886</td>\n",
       "    </tr>\n",
       "  </tbody>\n",
       "</table>\n",
       "<p>4808794 rows × 4 columns</p>\n",
       "</div>"
      ],
      "text/plain": [
       "         user_id  item_id action                       datetime\n",
       "0              0     53.0  click  2025-01-17 10:04:17.216954590\n",
       "1              0      7.0  click  2025-01-11 02:47:00.259085350\n",
       "2              0     92.0  click  2025-03-11 04:40:18.978093997\n",
       "3              0      9.0  click  2025-02-08 00:59:21.139311191\n",
       "4              0     47.0  click  2025-01-15 15:46:51.046877007\n",
       "...          ...      ...    ...                            ...\n",
       "4808789     9999      0.0   show  2025-01-25 17:35:43.151033886\n",
       "4808790     9999     23.0   show  2025-01-25 17:35:43.151033886\n",
       "4808791     9999     78.0   show  2025-01-25 17:35:43.151033886\n",
       "4808792     9999     63.0   show  2025-01-25 17:35:43.151033886\n",
       "4808793     9999     82.0   show  2025-01-25 17:35:43.151033886\n",
       "\n",
       "[4808794 rows x 4 columns]"
      ]
     },
     "execution_count": 3,
     "metadata": {},
     "output_type": "execute_result"
    }
   ],
   "source": [
    "interactions"
   ]
  },
  {
   "cell_type": "code",
   "execution_count": 4,
   "metadata": {},
   "outputs": [
    {
     "data": {
      "application/vnd.microsoft.datawrangler.viewer.v0+json": {
       "columns": [
        {
         "name": "action",
         "rawType": "object",
         "type": "string"
        },
        {
         "name": "count",
         "rawType": "int64",
         "type": "integer"
        }
       ],
       "ref": "2e852e88-4d92-415a-a6b0-7dd36e104e8e",
       "rows": [
        [
         "show",
         "4709108"
        ],
        [
         "click",
         "99686"
        ]
       ],
       "shape": {
        "columns": 1,
        "rows": 2
       }
      },
      "text/plain": [
       "action\n",
       "show     4709108\n",
       "click      99686\n",
       "Name: count, dtype: int64"
      ]
     },
     "execution_count": 4,
     "metadata": {},
     "output_type": "execute_result"
    }
   ],
   "source": [
    "interactions['action'].value_counts()"
   ]
  },
  {
   "cell_type": "code",
   "execution_count": 5,
   "metadata": {},
   "outputs": [
    {
     "data": {
      "image/png": "[encoded data removed]",
      "text/plain": [
       "<Figure size 1000x1000 with 1 Axes>"
      ]
     },
     "metadata": {},
     "output_type": "display_data"
    }
   ],
   "source": [
    "interactions_plot_df = interactions.copy()\n",
    "interactions_plot_df[\"date\"] = pd.to_datetime(interactions_plot_df[\"datetime\"]).dt.date\n",
    "\n",
    "interactions_plot_df = interactions_plot_df.groupby([\"date\"])[interactions_plot_df.columns[0]].count().reset_index()\n",
    "\n",
    "\n",
    "plt.figure(figsize=(10,10))\n",
    "sns.barplot(x='date', y='user_id', data=interactions_plot_df)\n",
    "plt.xlabel('Дата')\n",
    "plt.xticks([])\n",
    "plt.ylabel('Количество интеракций')\n",
    "plt.title('Количество интеракций в день')\n",
    "plt.grid(True)\n",
    "plt.show()"
   ]
  },
  {
   "cell_type": "code",
   "execution_count": 6,
   "metadata": {},
   "outputs": [
    {
     "data": {
      "application/vnd.microsoft.datawrangler.viewer.v0+json": {
       "columns": [
        {
         "name": "index",
         "rawType": "int64",
         "type": "integer"
        },
        {
         "name": "item_id",
         "rawType": "int64",
         "type": "integer"
        },
        {
         "name": "genre",
         "rawType": "object",
         "type": "string"
        },
        {
         "name": "mean_users_score",
         "rawType": "float64",
         "type": "float"
        }
       ],
       "ref": "738b4fbe-2aae-4617-a6ab-b73fbe959588",
       "rows": [
        [
         "0",
         "0",
         "Комедия",
         "1.8727005942368125"
        ],
        [
         "1",
         "1",
         "Комедия",
         "4.75357153204958"
        ],
        [
         "2",
         "2",
         "Мелодрама",
         "3.659969709057026"
        ],
        [
         "3",
         "3",
         "Комедия",
         "2.993292420985183"
        ],
        [
         "4",
         "4",
         "Мелодрама",
         "0.7800932022121826"
        ],
        [
         "5",
         "5",
         "Драма",
         "0.7799726016810132"
        ],
        [
         "6",
         "6",
         "Фантастика",
         "0.2904180608409973"
        ],
        [
         "7",
         "7",
         "Триллер",
         "4.330880728874676"
        ],
        [
         "8",
         "8",
         "Фантастика",
         "3.005575058716044"
        ],
        [
         "9",
         "9",
         "Триллер",
         "3.540362888980227"
        ],
        [
         "10",
         "10",
         "Комедия",
         "0.1029224714790122"
        ],
        [
         "11",
         "11",
         "Драма",
         "4.8495492608099715"
        ],
        [
         "12",
         "12",
         "Триллер",
         "4.162213204002109"
        ],
        [
         "13",
         "13",
         "Триллер",
         "1.0616955533913808"
        ],
        [
         "14",
         "14",
         "Триллер",
         "0.9091248360355032"
        ],
        [
         "15",
         "15",
         "Мелодрама",
         "0.9170225492671692"
        ],
        [
         "16",
         "16",
         "Драма",
         "1.5212112147976886"
        ],
        [
         "17",
         "17",
         "Мелодрама",
         "2.6237821581611893"
        ],
        [
         "18",
         "18",
         "Фантастика",
         "2.1597250932105787"
        ],
        [
         "19",
         "19",
         "Комедия",
         "1.4561457009902097"
        ],
        [
         "20",
         "20",
         "Триллер",
         "3.0592644736118975"
        ],
        [
         "21",
         "21",
         "Комедия",
         "0.6974693032602092"
        ],
        [
         "22",
         "22",
         "Драма",
         "1.4607232426760908"
        ],
        [
         "23",
         "23",
         "Триллер",
         "1.8318092164684583"
        ],
        [
         "24",
         "24",
         "Триллер",
         "2.28034992108518"
        ],
        [
         "25",
         "25",
         "Фантастика",
         "3.925879806965068"
        ],
        [
         "26",
         "26",
         "Комедия",
         "0.9983689107917988"
        ],
        [
         "27",
         "27",
         "Комедия",
         "2.571172192068058"
        ],
        [
         "28",
         "28",
         "Комедия",
         "2.9620728443102124"
        ],
        [
         "29",
         "29",
         "Триллер",
         "0.2322520635999886"
        ],
        [
         "30",
         "30",
         "Комедия",
         "3.0377242595071916"
        ],
        [
         "31",
         "31",
         "Триллер",
         "0.8526206184364576"
        ],
        [
         "32",
         "32",
         "Триллер",
         "0.3252579649263976"
        ],
        [
         "33",
         "33",
         "Драма",
         "4.7444276862666666"
        ],
        [
         "34",
         "34",
         "Фантастика",
         "4.828160165372797"
        ],
        [
         "35",
         "35",
         "Комедия",
         "4.041986740582305"
        ],
        [
         "36",
         "36",
         "Мелодрама",
         "1.523068845866853"
        ],
        [
         "37",
         "37",
         "Фантастика",
         "0.4883605700319193"
        ],
        [
         "38",
         "38",
         "Драма",
         "3.4211651325607844"
        ],
        [
         "39",
         "39",
         "Триллер",
         "2.2007624686980067"
        ],
        [
         "40",
         "40",
         "Комедия",
         "0.6101911742238941"
        ],
        [
         "41",
         "41",
         "Мелодрама",
         "2.475884550556351"
        ],
        [
         "42",
         "42",
         "Мелодрама",
         "0.1719426055760919"
        ],
        [
         "43",
         "43",
         "Драма",
         "4.546602010393911"
        ],
        [
         "44",
         "44",
         "Триллер",
         "1.2938999080000846"
        ],
        [
         "45",
         "45",
         "Триллер",
         "3.31261142176991"
        ],
        [
         "46",
         "46",
         "Триллер",
         "1.5585553804470549"
        ],
        [
         "47",
         "47",
         "Драма",
         "2.600340105889054"
        ],
        [
         "48",
         "48",
         "Фантастика",
         "2.7335513967163982"
        ],
        [
         "49",
         "49",
         "Мелодрама",
         "0.9242722776276352"
        ]
       ],
       "shape": {
        "columns": 3,
        "rows": 100
       }
      },
      "text/html": [
       "<div>\n",
       "<style scoped>\n",
       "    .dataframe tbody tr th:only-of-type {\n",
       "        vertical-align: middle;\n",
       "    }\n",
       "\n",
       "    .dataframe tbody tr th {\n",
       "        vertical-align: top;\n",
       "    }\n",
       "\n",
       "    .dataframe thead th {\n",
       "        text-align: right;\n",
       "    }\n",
       "</style>\n",
       "<table border=\"1\" class=\"dataframe\">\n",
       "  <thead>\n",
       "    <tr style=\"text-align: right;\">\n",
       "      <th></th>\n",
       "      <th>item_id</th>\n",
       "      <th>genre</th>\n",
       "      <th>mean_users_score</th>\n",
       "    </tr>\n",
       "  </thead>\n",
       "  <tbody>\n",
       "    <tr>\n",
       "      <th>0</th>\n",
       "      <td>0</td>\n",
       "      <td>Комедия</td>\n",
       "      <td>1.872701</td>\n",
       "    </tr>\n",
       "    <tr>\n",
       "      <th>1</th>\n",
       "      <td>1</td>\n",
       "      <td>Комедия</td>\n",
       "      <td>4.753572</td>\n",
       "    </tr>\n",
       "    <tr>\n",
       "      <th>2</th>\n",
       "      <td>2</td>\n",
       "      <td>Мелодрама</td>\n",
       "      <td>3.659970</td>\n",
       "    </tr>\n",
       "    <tr>\n",
       "      <th>3</th>\n",
       "      <td>3</td>\n",
       "      <td>Комедия</td>\n",
       "      <td>2.993292</td>\n",
       "    </tr>\n",
       "    <tr>\n",
       "      <th>4</th>\n",
       "      <td>4</td>\n",
       "      <td>Мелодрама</td>\n",
       "      <td>0.780093</td>\n",
       "    </tr>\n",
       "    <tr>\n",
       "      <th>...</th>\n",
       "      <td>...</td>\n",
       "      <td>...</td>\n",
       "      <td>...</td>\n",
       "    </tr>\n",
       "    <tr>\n",
       "      <th>95</th>\n",
       "      <td>95</td>\n",
       "      <td>Комедия</td>\n",
       "      <td>2.468978</td>\n",
       "    </tr>\n",
       "    <tr>\n",
       "      <th>96</th>\n",
       "      <td>96</td>\n",
       "      <td>Мелодрама</td>\n",
       "      <td>2.613664</td>\n",
       "    </tr>\n",
       "    <tr>\n",
       "      <th>97</th>\n",
       "      <td>97</td>\n",
       "      <td>Драма</td>\n",
       "      <td>2.137705</td>\n",
       "    </tr>\n",
       "    <tr>\n",
       "      <th>98</th>\n",
       "      <td>98</td>\n",
       "      <td>Мелодрама</td>\n",
       "      <td>0.127096</td>\n",
       "    </tr>\n",
       "    <tr>\n",
       "      <th>99</th>\n",
       "      <td>99</td>\n",
       "      <td>Фантастика</td>\n",
       "      <td>0.539457</td>\n",
       "    </tr>\n",
       "  </tbody>\n",
       "</table>\n",
       "<p>100 rows × 3 columns</p>\n",
       "</div>"
      ],
      "text/plain": [
       "    item_id       genre  mean_users_score\n",
       "0         0     Комедия          1.872701\n",
       "1         1     Комедия          4.753572\n",
       "2         2   Мелодрама          3.659970\n",
       "3         3     Комедия          2.993292\n",
       "4         4   Мелодрама          0.780093\n",
       "..      ...         ...               ...\n",
       "95       95     Комедия          2.468978\n",
       "96       96   Мелодрама          2.613664\n",
       "97       97       Драма          2.137705\n",
       "98       98   Мелодрама          0.127096\n",
       "99       99  Фантастика          0.539457\n",
       "\n",
       "[100 rows x 3 columns]"
      ]
     },
     "execution_count": 6,
     "metadata": {},
     "output_type": "execute_result"
    }
   ],
   "source": [
    "items"
   ]
  },
  {
   "cell_type": "code",
   "execution_count": 7,
   "metadata": {},
   "outputs": [
    {
     "data": {
      "application/vnd.microsoft.datawrangler.viewer.v0+json": {
       "columns": [
        {
         "name": "genre",
         "rawType": "object",
         "type": "string"
        },
        {
         "name": "count",
         "rawType": "int64",
         "type": "integer"
        }
       ],
       "ref": "a150e8e1-75b5-46ec-86e8-a64816b1182d",
       "rows": [
        [
         "Триллер",
         "27"
        ],
        [
         "Комедия",
         "20"
        ],
        [
         "Мелодрама",
         "20"
        ],
        [
         "Фантастика",
         "17"
        ],
        [
         "Драма",
         "16"
        ]
       ],
       "shape": {
        "columns": 1,
        "rows": 5
       }
      },
      "text/plain": [
       "genre\n",
       "Триллер       27\n",
       "Комедия       20\n",
       "Мелодрама     20\n",
       "Фантастика    17\n",
       "Драма         16\n",
       "Name: count, dtype: int64"
      ]
     },
     "execution_count": 7,
     "metadata": {},
     "output_type": "execute_result"
    }
   ],
   "source": [
    "items.value_counts(\"genre\")"
   ]
  },
  {
   "cell_type": "code",
   "execution_count": 8,
   "metadata": {},
   "outputs": [
    {
     "data": {
      "application/vnd.microsoft.datawrangler.viewer.v0+json": {
       "columns": [
        {
         "name": "index",
         "rawType": "int64",
         "type": "integer"
        },
        {
         "name": "user_id",
         "rawType": "int64",
         "type": "integer"
        },
        {
         "name": "sex_type",
         "rawType": "object",
         "type": "string"
        }
       ],
       "ref": "f5d9f642-1e07-4431-a217-c2af402e78cd",
       "rows": [
        [
         "0",
         "0",
         "F"
        ],
        [
         "1",
         "1",
         "F"
        ],
        [
         "2",
         "2",
         "F"
        ],
        [
         "3",
         "3",
         "M"
        ],
        [
         "4",
         "4",
         "F"
        ],
        [
         "5",
         "5",
         "F"
        ],
        [
         "6",
         "6",
         "F"
        ],
        [
         "7",
         "7",
         "M"
        ],
        [
         "8",
         "8",
         "M"
        ],
        [
         "9",
         "9",
         "F"
        ],
        [
         "10",
         "10",
         "M"
        ],
        [
         "11",
         "11",
         "M"
        ],
        [
         "12",
         "12",
         "M"
        ],
        [
         "13",
         "13",
         "F"
        ],
        [
         "14",
         "14",
         "F"
        ],
        [
         "15",
         "15",
         "M"
        ],
        [
         "16",
         "16",
         "M"
        ],
        [
         "17",
         "17",
         "M"
        ],
        [
         "18",
         "18",
         "M"
        ],
        [
         "19",
         "19",
         "F"
        ],
        [
         "20",
         "20",
         "F"
        ],
        [
         "21",
         "21",
         "F"
        ],
        [
         "22",
         "22",
         "M"
        ],
        [
         "23",
         "23",
         "F"
        ],
        [
         "24",
         "24",
         "M"
        ],
        [
         "25",
         "25",
         "M"
        ],
        [
         "26",
         "26",
         "M"
        ],
        [
         "27",
         "27",
         "F"
        ],
        [
         "28",
         "28",
         "M"
        ],
        [
         "29",
         "29",
         "M"
        ],
        [
         "30",
         "30",
         "F"
        ],
        [
         "31",
         "31",
         "F"
        ],
        [
         "32",
         "32",
         "M"
        ],
        [
         "33",
         "33",
         "F"
        ],
        [
         "34",
         "34",
         "F"
        ],
        [
         "35",
         "35",
         "M"
        ],
        [
         "36",
         "36",
         "F"
        ],
        [
         "37",
         "37",
         "F"
        ],
        [
         "38",
         "38",
         "F"
        ],
        [
         "39",
         "39",
         "F"
        ],
        [
         "40",
         "40",
         "F"
        ],
        [
         "41",
         "41",
         "M"
        ],
        [
         "42",
         "42",
         "M"
        ],
        [
         "43",
         "43",
         "M"
        ],
        [
         "44",
         "44",
         "F"
        ],
        [
         "45",
         "45",
         "F"
        ],
        [
         "46",
         "46",
         "M"
        ],
        [
         "47",
         "47",
         "M"
        ],
        [
         "48",
         "48",
         "M"
        ],
        [
         "49",
         "49",
         "F"
        ]
       ],
       "shape": {
        "columns": 2,
        "rows": 10000
       }
      },
      "text/html": [
       "<div>\n",
       "<style scoped>\n",
       "    .dataframe tbody tr th:only-of-type {\n",
       "        vertical-align: middle;\n",
       "    }\n",
       "\n",
       "    .dataframe tbody tr th {\n",
       "        vertical-align: top;\n",
       "    }\n",
       "\n",
       "    .dataframe thead th {\n",
       "        text-align: right;\n",
       "    }\n",
       "</style>\n",
       "<table border=\"1\" class=\"dataframe\">\n",
       "  <thead>\n",
       "    <tr style=\"text-align: right;\">\n",
       "      <th></th>\n",
       "      <th>user_id</th>\n",
       "      <th>sex_type</th>\n",
       "    </tr>\n",
       "  </thead>\n",
       "  <tbody>\n",
       "    <tr>\n",
       "      <th>0</th>\n",
       "      <td>0</td>\n",
       "      <td>F</td>\n",
       "    </tr>\n",
       "    <tr>\n",
       "      <th>1</th>\n",
       "      <td>1</td>\n",
       "      <td>F</td>\n",
       "    </tr>\n",
       "    <tr>\n",
       "      <th>2</th>\n",
       "      <td>2</td>\n",
       "      <td>F</td>\n",
       "    </tr>\n",
       "    <tr>\n",
       "      <th>3</th>\n",
       "      <td>3</td>\n",
       "      <td>M</td>\n",
       "    </tr>\n",
       "    <tr>\n",
       "      <th>4</th>\n",
       "      <td>4</td>\n",
       "      <td>F</td>\n",
       "    </tr>\n",
       "    <tr>\n",
       "      <th>...</th>\n",
       "      <td>...</td>\n",
       "      <td>...</td>\n",
       "    </tr>\n",
       "    <tr>\n",
       "      <th>9995</th>\n",
       "      <td>9995</td>\n",
       "      <td>M</td>\n",
       "    </tr>\n",
       "    <tr>\n",
       "      <th>9996</th>\n",
       "      <td>9996</td>\n",
       "      <td>M</td>\n",
       "    </tr>\n",
       "    <tr>\n",
       "      <th>9997</th>\n",
       "      <td>9997</td>\n",
       "      <td>M</td>\n",
       "    </tr>\n",
       "    <tr>\n",
       "      <th>9998</th>\n",
       "      <td>9998</td>\n",
       "      <td>M</td>\n",
       "    </tr>\n",
       "    <tr>\n",
       "      <th>9999</th>\n",
       "      <td>9999</td>\n",
       "      <td>M</td>\n",
       "    </tr>\n",
       "  </tbody>\n",
       "</table>\n",
       "<p>10000 rows × 2 columns</p>\n",
       "</div>"
      ],
      "text/plain": [
       "      user_id sex_type\n",
       "0           0        F\n",
       "1           1        F\n",
       "2           2        F\n",
       "3           3        M\n",
       "4           4        F\n",
       "...       ...      ...\n",
       "9995     9995        M\n",
       "9996     9996        M\n",
       "9997     9997        M\n",
       "9998     9998        M\n",
       "9999     9999        M\n",
       "\n",
       "[10000 rows x 2 columns]"
      ]
     },
     "execution_count": 8,
     "metadata": {},
     "output_type": "execute_result"
    }
   ],
   "source": [
    "users"
   ]
  },
  {
   "cell_type": "code",
   "execution_count": 9,
   "metadata": {},
   "outputs": [
    {
     "data": {
      "application/vnd.microsoft.datawrangler.viewer.v0+json": {
       "columns": [
        {
         "name": "sex_type",
         "rawType": "object",
         "type": "string"
        },
        {
         "name": "count",
         "rawType": "int64",
         "type": "integer"
        }
       ],
       "ref": "144c080f-dfb2-4f75-a527-f89efb4034aa",
       "rows": [
        [
         "F",
         "5036"
        ],
        [
         "M",
         "4964"
        ]
       ],
       "shape": {
        "columns": 1,
        "rows": 2
       }
      },
      "text/plain": [
       "sex_type\n",
       "F    5036\n",
       "M    4964\n",
       "Name: count, dtype: int64"
      ]
     },
     "execution_count": 9,
     "metadata": {},
     "output_type": "execute_result"
    }
   ],
   "source": [
    "users.value_counts(\"sex_type\")"
   ]
  },
  {
   "cell_type": "markdown",
   "metadata": {},
   "source": [
    "# Готовим модели"
   ]
  },
  {
   "cell_type": "markdown",
   "metadata": {},
   "source": [
    "Разделим выборку на 2 части  по времени:\n",
    "\n",
    "\n",
    "На 1 - ой части мы будем обучать модели, доступные из коробки в rectools, а также считать фичи для катбуста\n",
    "\n",
    "На 2 - ой части мы будем стакать результаты моделей в катбуст"
   ]
  },
  {
   "cell_type": "code",
   "execution_count": 10,
   "metadata": {},
   "outputs": [],
   "source": [
    "interactions[\"weight\"] = 1.0\n",
    "\n",
    "def split_time(datetimes, test_size=0.5):\n",
    "    datetimes_sorted = datetimes.sort_values().reset_index(drop=True)\n",
    "    split_date = datetimes_sorted[int(datetimes_sorted.shape[0] * test_size)]\n",
    "    return datetimes_sorted[datetimes_sorted < split_date].reset_index(drop=True), datetimes_sorted[datetimes_sorted >= split_date].reset_index(drop=True)\n",
    "    \n",
    "first_part, second_part = split_time(interactions[\"datetime\"])\n",
    "\n",
    "interactions_first_period = interactions[interactions[\"datetime\"].isin(first_part)]\n",
    "interactions_second_period = interactions[interactions[\"datetime\"].isin(second_part)]\n",
    "\n",
    "# Для некоторых моделе нужны только позитивные взаимодействия\n",
    "positive_interactions_first_period = interactions_first_period[interactions_first_period[\"action\"] == \"click\"]\n"
   ]
  },
  {
   "cell_type": "markdown",
   "metadata": {},
   "source": [
    "Инициируем рекоменедателные модели"
   ]
  },
  {
   "cell_type": "code",
   "execution_count": 11,
   "metadata": {},
   "outputs": [
    {
     "name": "stderr",
     "output_type": "stream",
     "text": [
      "GPU available: True (mps), used: True\n",
      "TPU available: False, using: 0 TPU cores\n",
      "HPU available: False, using: 0 HPUs\n",
      "/Users/sykuznets3/.pyenv/versions/test_master_class/lib/python3.13/site-packages/pytorch_lightning/trainer/connectors/logger_connector/logger_connector.py:76: Starting from v1.9.0, `tensorboardX` has been removed as a dependency of the `pytorch_lightning` package, due to potential conflicts with other packages in the ML ecosystem. For this reason, `logger=True` will use `CSVLogger` as the default logger, unless the `tensorboard` or `tensorboardX` packages are found. Please `pip install lightning[extra]` or one of them to enable TensorBoard support by default\n"
     ]
    }
   ],
   "source": [
    "dataset = Dataset.construct(\n",
    "    interactions_df=positive_interactions_first_period,\n",
    ")\n",
    "\n",
    "sasrec = SASRecModel(\n",
    "    session_max_len=20,\n",
    "    loss=\"softmax\",\n",
    "    n_factors=64,\n",
    "    n_blocks=1,\n",
    "    n_heads=4,\n",
    "    dropout_rate=0.2,\n",
    "    lr=0.001,\n",
    "    batch_size=128,\n",
    "    epochs=1,\n",
    "    verbose=1,\n",
    "    deterministic=True,\n",
    ")\n",
    "ease = EASEModel()\n",
    "als = ImplicitALSWrapperModel(AlternatingLeastSquares(factors=32))"
   ]
  },
  {
   "cell_type": "markdown",
   "metadata": {},
   "source": [
    "Посомтрим качество баовых моделей"
   ]
  },
  {
   "cell_type": "code",
   "execution_count": 12,
   "metadata": {},
   "outputs": [
    {
     "name": "stderr",
     "output_type": "stream",
     "text": [
      "/Users/sykuznets3/.pyenv/versions/test_master_class/lib/python3.13/site-packages/rectools/dataset/identifiers.py:60: FutureWarning: unique with argument that is not not a Series, Index, ExtensionArray, or np.ndarray is deprecated and will raise in a future version.\n",
      "  unq_values = pd.unique(values)\n",
      "/Users/sykuznets3/.pyenv/versions/test_master_class/lib/python3.13/site-packages/rectools/models/nn/item_net.py:134: UserWarning: Ignoring `CatFeaturesItemNet` block because dataset doesn't contain item features.\n",
      "  warnings.warn(explanation)\n",
      "/Users/sykuznets3/.pyenv/versions/test_master_class/lib/python3.13/site-packages/pydantic/main.py:463: UserWarning: Pydantic serializer warnings:\n",
      "  PydanticSerializationUnexpectedValue(Expected `str` - serialized value may not be as expected [input_value=('rectools.models.nn.item...net.CatFeaturesItemNet'), input_type=tuple])\n",
      "  return self.__pydantic_serializer__.to_python(\n",
      "/Users/sykuznets3/.pyenv/versions/test_master_class/lib/python3.13/site-packages/pytorch_lightning/trainer/configuration_validator.py:70: You defined a `validation_step` but have no `val_dataloader`. Skipping val loop.\n",
      "\n",
      "  | Name        | Type                     | Params | Mode \n",
      "-----------------------------------------------------------------\n",
      "0 | torch_model | TransformerTorchBackbone | 33.1 K | train\n",
      "-----------------------------------------------------------------\n",
      "33.1 K    Trainable params\n",
      "0         Non-trainable params\n",
      "33.1 K    Total params\n",
      "0.132     Total estimated model params size (MB)\n",
      "23        Modules in train mode\n",
      "0         Modules in eval mode\n",
      "/Users/sykuznets3/.pyenv/versions/test_master_class/lib/python3.13/site-packages/pytorch_lightning/trainer/connectors/data_connector.py:433: The 'train_dataloader' does not have many workers which may be a bottleneck. Consider increasing the value of the `num_workers` argument` to `num_workers=7` in the `DataLoader` to improve performance.\n",
      "/Users/sykuznets3/.pyenv/versions/test_master_class/lib/python3.13/site-packages/pytorch_lightning/loops/fit_loop.py:310: The number of training batches (47) is smaller than the logging interval Trainer(log_every_n_steps=50). Set a lower value for log_every_n_steps if you want to see logs for the training epoch.\n"
     ]
    },
    {
     "name": "stdout",
     "output_type": "stream",
     "text": [
      "Epoch 0: 100%|██████████| 47/47 [00:01<00:00, 36.27it/s, v_num=72, train_loss=4.850]"
     ]
    },
    {
     "name": "stderr",
     "output_type": "stream",
     "text": [
      "`Trainer.fit` stopped: `max_epochs=1` reached.\n"
     ]
    },
    {
     "name": "stdout",
     "output_type": "stream",
     "text": [
      "Epoch 0: 100%|██████████| 47/47 [00:01<00:00, 36.23it/s, v_num=72, train_loss=4.850]\n"
     ]
    },
    {
     "name": "stderr",
     "output_type": "stream",
     "text": [
      "/Users/sykuznets3/.pyenv/versions/test_master_class/lib/python3.13/site-packages/rectools/dataset/identifiers.py:60: FutureWarning: unique with argument that is not not a Series, Index, ExtensionArray, or np.ndarray is deprecated and will raise in a future version.\n",
      "  unq_values = pd.unique(values)\n",
      "/Users/sykuznets3/.pyenv/versions/test_master_class/lib/python3.13/site-packages/rectools/models/nn/item_net.py:134: UserWarning: Ignoring `CatFeaturesItemNet` block because dataset doesn't contain item features.\n",
      "  warnings.warn(explanation)\n",
      "/Users/sykuznets3/.pyenv/versions/test_master_class/lib/python3.13/site-packages/pydantic/main.py:463: UserWarning: Pydantic serializer warnings:\n",
      "  PydanticSerializationUnexpectedValue(Expected `str` - serialized value may not be as expected [input_value=('rectools.models.nn.item...net.CatFeaturesItemNet'), input_type=tuple])\n",
      "  return self.__pydantic_serializer__.to_python(\n",
      "/Users/sykuznets3/.pyenv/versions/test_master_class/lib/python3.13/site-packages/pytorch_lightning/trainer/configuration_validator.py:70: You defined a `validation_step` but have no `val_dataloader`. Skipping val loop.\n",
      "\n",
      "  | Name        | Type                     | Params | Mode \n",
      "-----------------------------------------------------------------\n",
      "0 | torch_model | TransformerTorchBackbone | 33.1 K | train\n",
      "-----------------------------------------------------------------\n",
      "33.1 K    Trainable params\n",
      "0         Non-trainable params\n",
      "33.1 K    Total params\n",
      "0.132     Total estimated model params size (MB)\n",
      "23        Modules in train mode\n",
      "0         Modules in eval mode\n",
      "/Users/sykuznets3/.pyenv/versions/test_master_class/lib/python3.13/site-packages/pytorch_lightning/trainer/connectors/data_connector.py:433: The 'train_dataloader' does not have many workers which may be a bottleneck. Consider increasing the value of the `num_workers` argument` to `num_workers=7` in the `DataLoader` to improve performance.\n"
     ]
    },
    {
     "name": "stdout",
     "output_type": "stream",
     "text": [
      "Epoch 0: 100%|██████████| 58/58 [00:00<00:00, 59.31it/s, v_num=73, train_loss=4.870]"
     ]
    },
    {
     "name": "stderr",
     "output_type": "stream",
     "text": [
      "`Trainer.fit` stopped: `max_epochs=1` reached.\n"
     ]
    },
    {
     "name": "stdout",
     "output_type": "stream",
     "text": [
      "Epoch 0: 100%|██████████| 58/58 [00:00<00:00, 59.21it/s, v_num=73, train_loss=4.870]\n"
     ]
    },
    {
     "name": "stderr",
     "output_type": "stream",
     "text": [
      "/Users/sykuznets3/.pyenv/versions/test_master_class/lib/python3.13/site-packages/rectools/dataset/identifiers.py:60: FutureWarning: unique with argument that is not not a Series, Index, ExtensionArray, or np.ndarray is deprecated and will raise in a future version.\n",
      "  unq_values = pd.unique(values)\n",
      "/Users/sykuznets3/.pyenv/versions/test_master_class/lib/python3.13/site-packages/rectools/models/nn/item_net.py:134: UserWarning: Ignoring `CatFeaturesItemNet` block because dataset doesn't contain item features.\n",
      "  warnings.warn(explanation)\n",
      "/Users/sykuznets3/.pyenv/versions/test_master_class/lib/python3.13/site-packages/pydantic/main.py:463: UserWarning: Pydantic serializer warnings:\n",
      "  PydanticSerializationUnexpectedValue(Expected `str` - serialized value may not be as expected [input_value=('rectools.models.nn.item...net.CatFeaturesItemNet'), input_type=tuple])\n",
      "  return self.__pydantic_serializer__.to_python(\n",
      "/Users/sykuznets3/.pyenv/versions/test_master_class/lib/python3.13/site-packages/pytorch_lightning/trainer/configuration_validator.py:70: You defined a `validation_step` but have no `val_dataloader`. Skipping val loop.\n",
      "\n",
      "  | Name        | Type                     | Params | Mode \n",
      "-----------------------------------------------------------------\n",
      "0 | torch_model | TransformerTorchBackbone | 33.1 K | train\n",
      "-----------------------------------------------------------------\n",
      "33.1 K    Trainable params\n",
      "0         Non-trainable params\n",
      "33.1 K    Total params\n",
      "0.132     Total estimated model params size (MB)\n",
      "23        Modules in train mode\n",
      "0         Modules in eval mode\n",
      "/Users/sykuznets3/.pyenv/versions/test_master_class/lib/python3.13/site-packages/pytorch_lightning/trainer/connectors/data_connector.py:433: The 'train_dataloader' does not have many workers which may be a bottleneck. Consider increasing the value of the `num_workers` argument` to `num_workers=7` in the `DataLoader` to improve performance.\n"
     ]
    },
    {
     "name": "stdout",
     "output_type": "stream",
     "text": [
      "Epoch 0: 100%|██████████| 66/66 [00:01<00:00, 50.82it/s, v_num=74, train_loss=4.830]"
     ]
    },
    {
     "name": "stderr",
     "output_type": "stream",
     "text": [
      "`Trainer.fit` stopped: `max_epochs=1` reached.\n"
     ]
    },
    {
     "name": "stdout",
     "output_type": "stream",
     "text": [
      "Epoch 0: 100%|██████████| 66/66 [00:01<00:00, 50.76it/s, v_num=74, train_loss=4.830]\n"
     ]
    },
    {
     "name": "stderr",
     "output_type": "stream",
     "text": [
      "/Users/sykuznets3/.pyenv/versions/test_master_class/lib/python3.13/site-packages/rectools/dataset/identifiers.py:60: FutureWarning: unique with argument that is not not a Series, Index, ExtensionArray, or np.ndarray is deprecated and will raise in a future version.\n",
      "  unq_values = pd.unique(values)\n",
      "/Users/sykuznets3/.pyenv/versions/test_master_class/lib/python3.13/site-packages/rectools/models/nn/item_net.py:134: UserWarning: Ignoring `CatFeaturesItemNet` block because dataset doesn't contain item features.\n",
      "  warnings.warn(explanation)\n",
      "/Users/sykuznets3/.pyenv/versions/test_master_class/lib/python3.13/site-packages/pydantic/main.py:463: UserWarning: Pydantic serializer warnings:\n",
      "  PydanticSerializationUnexpectedValue(Expected `str` - serialized value may not be as expected [input_value=('rectools.models.nn.item...net.CatFeaturesItemNet'), input_type=tuple])\n",
      "  return self.__pydantic_serializer__.to_python(\n",
      "/Users/sykuznets3/.pyenv/versions/test_master_class/lib/python3.13/site-packages/pytorch_lightning/trainer/configuration_validator.py:70: You defined a `validation_step` but have no `val_dataloader`. Skipping val loop.\n",
      "\n",
      "  | Name        | Type                     | Params | Mode \n",
      "-----------------------------------------------------------------\n",
      "0 | torch_model | TransformerTorchBackbone | 33.1 K | train\n",
      "-----------------------------------------------------------------\n",
      "33.1 K    Trainable params\n",
      "0         Non-trainable params\n",
      "33.1 K    Total params\n",
      "0.132     Total estimated model params size (MB)\n",
      "23        Modules in train mode\n",
      "0         Modules in eval mode\n",
      "/Users/sykuznets3/.pyenv/versions/test_master_class/lib/python3.13/site-packages/pytorch_lightning/trainer/connectors/data_connector.py:433: The 'train_dataloader' does not have many workers which may be a bottleneck. Consider increasing the value of the `num_workers` argument` to `num_workers=7` in the `DataLoader` to improve performance.\n"
     ]
    },
    {
     "name": "stdout",
     "output_type": "stream",
     "text": [
      "Epoch 0: 100%|██████████| 71/71 [00:01<00:00, 59.73it/s, v_num=75, train_loss=4.820]"
     ]
    },
    {
     "name": "stderr",
     "output_type": "stream",
     "text": [
      "`Trainer.fit` stopped: `max_epochs=1` reached.\n"
     ]
    },
    {
     "name": "stdout",
     "output_type": "stream",
     "text": [
      "Epoch 0: 100%|██████████| 71/71 [00:01<00:00, 59.57it/s, v_num=75, train_loss=4.820]\n"
     ]
    },
    {
     "name": "stderr",
     "output_type": "stream",
     "text": [
      "/Users/sykuznets3/.pyenv/versions/test_master_class/lib/python3.13/site-packages/rectools/dataset/identifiers.py:60: FutureWarning: unique with argument that is not not a Series, Index, ExtensionArray, or np.ndarray is deprecated and will raise in a future version.\n",
      "  unq_values = pd.unique(values)\n",
      "/Users/sykuznets3/.pyenv/versions/test_master_class/lib/python3.13/site-packages/rectools/models/nn/item_net.py:134: UserWarning: Ignoring `CatFeaturesItemNet` block because dataset doesn't contain item features.\n",
      "  warnings.warn(explanation)\n",
      "/Users/sykuznets3/.pyenv/versions/test_master_class/lib/python3.13/site-packages/pydantic/main.py:463: UserWarning: Pydantic serializer warnings:\n",
      "  PydanticSerializationUnexpectedValue(Expected `str` - serialized value may not be as expected [input_value=('rectools.models.nn.item...net.CatFeaturesItemNet'), input_type=tuple])\n",
      "  return self.__pydantic_serializer__.to_python(\n",
      "/Users/sykuznets3/.pyenv/versions/test_master_class/lib/python3.13/site-packages/pytorch_lightning/trainer/configuration_validator.py:70: You defined a `validation_step` but have no `val_dataloader`. Skipping val loop.\n",
      "\n",
      "  | Name        | Type                     | Params | Mode \n",
      "-----------------------------------------------------------------\n",
      "0 | torch_model | TransformerTorchBackbone | 33.1 K | train\n",
      "-----------------------------------------------------------------\n",
      "33.1 K    Trainable params\n",
      "0         Non-trainable params\n",
      "33.1 K    Total params\n",
      "0.132     Total estimated model params size (MB)\n",
      "23        Modules in train mode\n",
      "0         Modules in eval mode\n",
      "/Users/sykuznets3/.pyenv/versions/test_master_class/lib/python3.13/site-packages/pytorch_lightning/trainer/connectors/data_connector.py:433: The 'train_dataloader' does not have many workers which may be a bottleneck. Consider increasing the value of the `num_workers` argument` to `num_workers=7` in the `DataLoader` to improve performance.\n"
     ]
    },
    {
     "name": "stdout",
     "output_type": "stream",
     "text": [
      "Epoch 0: 100%|██████████| 74/74 [00:01<00:00, 54.93it/s, v_num=76, train_loss=4.790]"
     ]
    },
    {
     "name": "stderr",
     "output_type": "stream",
     "text": [
      "`Trainer.fit` stopped: `max_epochs=1` reached.\n"
     ]
    },
    {
     "name": "stdout",
     "output_type": "stream",
     "text": [
      "Epoch 0: 100%|██████████| 74/74 [00:01<00:00, 54.82it/s, v_num=76, train_loss=4.790]\n"
     ]
    },
    {
     "data": {
      "application/vnd.microsoft.datawrangler.viewer.v0+json": {
       "columns": [
        {
         "name": "model",
         "rawType": "object",
         "type": "string"
        },
        {
         "name": "HitRate@10",
         "rawType": "float64",
         "type": "float"
        },
        {
         "name": "MAP@10",
         "rawType": "float64",
         "type": "float"
        },
        {
         "name": "AvgRecPopularity@10",
         "rawType": "float64",
         "type": "float"
        },
        {
         "name": "Serendipity@10",
         "rawType": "float64",
         "type": "float"
        },
        {
         "name": "Intersection@10_popular",
         "rawType": "float64",
         "type": "float"
        },
        {
         "name": "CoveredUsers@10",
         "rawType": "float64",
         "type": "float"
        }
       ],
       "ref": "f1f315c2-b413-43da-a38a-72b63eb09a1b",
       "rows": [
        [
         "popular",
         "0.16528842059551058",
         "0.03768625947220305",
         "421.4532446004141",
         "1.478329286356202e-05",
         "1.0",
         "1.0"
        ],
        [
         "ease",
         "0.20056635016351482",
         "0.05002202916380514",
         "373.07765855305126",
         "0.0035257248641349993",
         "0.18929929095843073",
         "1.0"
        ],
        [
         "sasrec",
         "0.1659462709866134",
         "0.03858229455906505",
         "397.9329445396778",
         "0.0019802586393403215",
         "0.30074481216157034",
         "1.0"
        ],
        [
         "als",
         "0.1827083410802072",
         "0.04539633783505734",
         "385.48165516413843",
         "0.003292789533457248",
         "0.12180126875870503",
         "1.0"
        ]
       ],
       "shape": {
        "columns": 6,
        "rows": 4
       }
      },
      "text/html": [
       "<div>\n",
       "<style scoped>\n",
       "    .dataframe tbody tr th:only-of-type {\n",
       "        vertical-align: middle;\n",
       "    }\n",
       "\n",
       "    .dataframe tbody tr th {\n",
       "        vertical-align: top;\n",
       "    }\n",
       "\n",
       "    .dataframe thead th {\n",
       "        text-align: right;\n",
       "    }\n",
       "</style>\n",
       "<table border=\"1\" class=\"dataframe\">\n",
       "  <thead>\n",
       "    <tr style=\"text-align: right;\">\n",
       "      <th></th>\n",
       "      <th>HitRate@10</th>\n",
       "      <th>MAP@10</th>\n",
       "      <th>AvgRecPopularity@10</th>\n",
       "      <th>Serendipity@10</th>\n",
       "      <th>Intersection@10_popular</th>\n",
       "      <th>CoveredUsers@10</th>\n",
       "    </tr>\n",
       "    <tr>\n",
       "      <th>model</th>\n",
       "      <th></th>\n",
       "      <th></th>\n",
       "      <th></th>\n",
       "      <th></th>\n",
       "      <th></th>\n",
       "      <th></th>\n",
       "    </tr>\n",
       "  </thead>\n",
       "  <tbody>\n",
       "    <tr>\n",
       "      <th>popular</th>\n",
       "      <td>0.165288</td>\n",
       "      <td>0.037686</td>\n",
       "      <td>421.453245</td>\n",
       "      <td>0.000015</td>\n",
       "      <td>1.000000</td>\n",
       "      <td>1.0</td>\n",
       "    </tr>\n",
       "    <tr>\n",
       "      <th>ease</th>\n",
       "      <td>0.200566</td>\n",
       "      <td>0.050022</td>\n",
       "      <td>373.077659</td>\n",
       "      <td>0.003526</td>\n",
       "      <td>0.189299</td>\n",
       "      <td>1.0</td>\n",
       "    </tr>\n",
       "    <tr>\n",
       "      <th>sasrec</th>\n",
       "      <td>0.165946</td>\n",
       "      <td>0.038582</td>\n",
       "      <td>397.932945</td>\n",
       "      <td>0.001980</td>\n",
       "      <td>0.300745</td>\n",
       "      <td>1.0</td>\n",
       "    </tr>\n",
       "    <tr>\n",
       "      <th>als</th>\n",
       "      <td>0.182708</td>\n",
       "      <td>0.045396</td>\n",
       "      <td>385.481655</td>\n",
       "      <td>0.003293</td>\n",
       "      <td>0.121801</td>\n",
       "      <td>1.0</td>\n",
       "    </tr>\n",
       "  </tbody>\n",
       "</table>\n",
       "</div>"
      ],
      "text/plain": [
       "         HitRate@10    MAP@10  AvgRecPopularity@10  Serendipity@10  \\\n",
       "model                                                                \n",
       "popular    0.165288  0.037686           421.453245        0.000015   \n",
       "ease       0.200566  0.050022           373.077659        0.003526   \n",
       "sasrec     0.165946  0.038582           397.932945        0.001980   \n",
       "als        0.182708  0.045396           385.481655        0.003293   \n",
       "\n",
       "         Intersection@10_popular  CoveredUsers@10  \n",
       "model                                              \n",
       "popular                 1.000000              1.0  \n",
       "ease                    0.189299              1.0  \n",
       "sasrec                  0.300745              1.0  \n",
       "als                     0.121801              1.0  "
      ]
     },
     "execution_count": 12,
     "metadata": {},
     "output_type": "execute_result"
    }
   ],
   "source": [
    "splitter = TimeRangeSplitter(\n",
    "    test_size=\"7D\",\n",
    "    n_splits=5,\n",
    "    filter_already_seen=True,\n",
    ")\n",
    "\n",
    "models = {\n",
    "    \"popular\": PopularModel(),\n",
    "    \"ease\": ease,\n",
    "   \"sasrec\": sasrec,\n",
    "   \"als\": als\n",
    "}\n",
    "\n",
    "metrics = {\n",
    "    \"HitRate@10\": HitRate(k=10),\n",
    "    \"MAP@10\": MAP(k=10),\n",
    "    \"Serendipity@10\": Serendipity(k=10),\n",
    "    \"CoveredUsers@10\": CoveredUsers(k=10),  # how many test users received recommendations\n",
    "    \"AvgRecPopularity@10\": AvgRecPopularity(k=10),  # average popularity of recommended items\n",
    "    \"Intersection@10\": Intersection(k=10),  # intersection with recommendations from reference model\n",
    "}\n",
    "\n",
    "K_RECS = 10\n",
    "\n",
    "cv_results = cross_validate(\n",
    "    dataset=dataset,\n",
    "    splitter=splitter,\n",
    "    models=models,\n",
    "    metrics=metrics,\n",
    "    k=K_RECS,\n",
    "    filter_viewed=True,\n",
    "    ref_models=[\"popular\"],  # pass reference model to calculate recommendations intersection\n",
    "    validate_ref_models=True,\n",
    ")\n",
    "\n",
    "pivot_results = (\n",
    "    pd.DataFrame(cv_results[\"metrics\"])\n",
    "    .drop(columns=\"i_split\")\n",
    "    .groupby([\"model\"], sort=False)\n",
    "    .agg([\"mean\"])\n",
    ")\n",
    "pivot_results.columns = pivot_results.columns.droplevel(1)\n",
    "pivot_results"
   ]
  },
  {
   "cell_type": "markdown",
   "metadata": {},
   "source": [
    "Обучаем наши модели на 1-ой части данных"
   ]
  },
  {
   "cell_type": "code",
   "execution_count": 13,
   "metadata": {},
   "outputs": [
    {
     "name": "stderr",
     "output_type": "stream",
     "text": [
      "/Users/sykuznets3/.pyenv/versions/test_master_class/lib/python3.13/site-packages/rectools/dataset/identifiers.py:60: FutureWarning: unique with argument that is not not a Series, Index, ExtensionArray, or np.ndarray is deprecated and will raise in a future version.\n",
      "  unq_values = pd.unique(values)\n",
      "/Users/sykuznets3/.pyenv/versions/test_master_class/lib/python3.13/site-packages/rectools/models/nn/item_net.py:134: UserWarning: Ignoring `CatFeaturesItemNet` block because dataset doesn't contain item features.\n",
      "  warnings.warn(explanation)\n",
      "/Users/sykuznets3/.pyenv/versions/test_master_class/lib/python3.13/site-packages/pydantic/main.py:463: UserWarning: Pydantic serializer warnings:\n",
      "  PydanticSerializationUnexpectedValue(Expected `str` - serialized value may not be as expected [input_value=('rectools.models.nn.item...net.CatFeaturesItemNet'), input_type=tuple])\n",
      "  return self.__pydantic_serializer__.to_python(\n",
      "/Users/sykuznets3/.pyenv/versions/test_master_class/lib/python3.13/site-packages/pytorch_lightning/trainer/configuration_validator.py:70: You defined a `validation_step` but have no `val_dataloader`. Skipping val loop.\n",
      "\n",
      "  | Name        | Type                     | Params | Mode \n",
      "-----------------------------------------------------------------\n",
      "0 | torch_model | TransformerTorchBackbone | 33.1 K | train\n",
      "-----------------------------------------------------------------\n",
      "33.1 K    Trainable params\n",
      "0         Non-trainable params\n",
      "33.1 K    Total params\n",
      "0.132     Total estimated model params size (MB)\n",
      "23        Modules in train mode\n",
      "0         Modules in eval mode\n",
      "/Users/sykuznets3/.pyenv/versions/test_master_class/lib/python3.13/site-packages/pytorch_lightning/trainer/connectors/data_connector.py:433: The 'train_dataloader' does not have many workers which may be a bottleneck. Consider increasing the value of the `num_workers` argument` to `num_workers=7` in the `DataLoader` to improve performance.\n"
     ]
    },
    {
     "name": "stdout",
     "output_type": "stream",
     "text": [
      "Epoch 0: 100%|██████████| 76/76 [00:01<00:00, 55.24it/s, v_num=77, train_loss=4.790]"
     ]
    },
    {
     "name": "stderr",
     "output_type": "stream",
     "text": [
      "`Trainer.fit` stopped: `max_epochs=1` reached.\n"
     ]
    },
    {
     "name": "stdout",
     "output_type": "stream",
     "text": [
      "Epoch 0: 100%|██████████| 76/76 [00:01<00:00, 55.18it/s, v_num=77, train_loss=4.790]\n",
      "CPU times: user 1.36 s, sys: 161 ms, total: 1.52 s\n",
      "Wall time: 1.89 s\n"
     ]
    },
    {
     "data": {
      "text/plain": [
       "<rectools.models.implicit_als.ImplicitALSWrapperModel at 0x166ccaa50>"
      ]
     },
     "execution_count": 13,
     "metadata": {},
     "output_type": "execute_result"
    }
   ],
   "source": [
    "%%time\n",
    "sasrec.fit(dataset)\n",
    "ease.fit(dataset)\n",
    "als.fit(dataset)"
   ]
  },
  {
   "cell_type": "code",
   "execution_count": 36,
   "metadata": {},
   "outputs": [
    {
     "name": "stderr",
     "output_type": "stream",
     "text": [
      "/var/folders/ld/vywms60d4_7281vl54t27ngwdqgvkl/T/ipykernel_72290/2506218634.py:16: SettingWithCopyWarning: \n",
      "A value is trying to be set on a copy of a slice from a DataFrame.\n",
      "Try using .loc[row_indexer,col_indexer] = value instead\n",
      "\n",
      "See the caveats in the documentation: https://pandas.pydata.org/pandas-docs/stable/user_guide/indexing.html#returning-a-view-versus-a-copy\n",
      "  target_df[\"target\"] = interactions_second_period[\"action\"].map({\"click\": 1, \"show\": 0})\n"
     ]
    },
    {
     "data": {
      "application/vnd.microsoft.datawrangler.viewer.v0+json": {
       "columns": [
        {
         "name": "index",
         "rawType": "int64",
         "type": "integer"
        },
        {
         "name": "user_id",
         "rawType": "int64",
         "type": "integer"
        },
        {
         "name": "item_id",
         "rawType": "float64",
         "type": "float"
        },
        {
         "name": "target",
         "rawType": "int64",
         "type": "integer"
        },
        {
         "name": "sex_type",
         "rawType": "object",
         "type": "string"
        },
        {
         "name": "genre",
         "rawType": "object",
         "type": "unknown"
        },
        {
         "name": "mean_users_score",
         "rawType": "float64",
         "type": "float"
        },
        {
         "name": "sasrec_score",
         "rawType": "float32",
         "type": "float"
        },
        {
         "name": "ease_score",
         "rawType": "float32",
         "type": "float"
        },
        {
         "name": "als_score",
         "rawType": "float32",
         "type": "float"
        }
       ],
       "ref": "ed202f62-345e-4628-9bfe-95cba04b7e5e",
       "rows": [
        [
         "0",
         "0",
         "92.0",
         "1",
         "F",
         "Триллер",
         "3.803925243084487",
         "0.7139129",
         "0.5240604",
         "0.7647424"
        ],
        [
         "1",
         "0",
         "13.0",
         "1",
         "F",
         "Триллер",
         "1.0616955533913808",
         "-0.76574796",
         "0.9273537",
         "0.6836921"
        ],
        [
         "2",
         "0",
         "49.0",
         "1",
         "F",
         "Мелодрама",
         "0.9242722776276352",
         "1.205254",
         "1.5732095",
         "0.39928958"
        ],
        [
         "3",
         "0",
         "4.0",
         "1",
         "F",
         "Мелодрама",
         "0.7800932022121826",
         "0.4953657",
         "2.1941807",
         "2.464005"
        ],
        [
         "4",
         "0",
         "77.0",
         "1",
         "F",
         "Драма",
         "0.3702232586704518",
         "1.0116116",
         "0.334235",
         "-0.041085266"
        ],
        [
         "5",
         "1",
         "11.0",
         "1",
         "F",
         "Драма",
         "4.8495492608099715",
         "1.0406691",
         "1.8636858",
         "1.077774"
        ],
        [
         "6",
         "1",
         "43.0",
         "1",
         "F",
         "Драма",
         "4.546602010393911",
         "0.72132105",
         "-0.28147373",
         "-0.25425127"
        ],
        [
         "7",
         "1",
         "40.0",
         "1",
         "F",
         "Комедия",
         "0.6101911742238941",
         "0.16904168",
         "0.1428525",
         "-0.9897367"
        ],
        [
         "8",
         "2",
         "69.0",
         "1",
         "F",
         "Комедия",
         "4.9344346830025865",
         "-0.56309265",
         "0.61288446",
         "1.0502665"
        ],
        [
         "9",
         "2",
         "7.0",
         "1",
         "F",
         "Триллер",
         "4.330880728874676",
         "1.0453293",
         "0.3019052",
         "0.5653883"
        ],
        [
         "10",
         "2",
         "25.0",
         "1",
         "F",
         "Фантастика",
         "3.925879806965068",
         "1.6845065",
         "-0.84200746",
         "-1.2795905"
        ],
        [
         "11",
         "2",
         "87.0",
         "1",
         "F",
         "Комедия",
         "3.1877873567760657",
         "-1.7197136",
         "1.215318",
         "0.9315446"
        ],
        [
         "12",
         "2",
         "20.0",
         "1",
         "F",
         "Триллер",
         "3.0592644736118975",
         "1.2135125",
         "0.7188467",
         "0.7147868"
        ],
        [
         "13",
         "2",
         "30.0",
         "1",
         "F",
         "Комедия",
         "3.0377242595071916",
         "0.4513702",
         "0.64926577",
         "1.4659965"
        ],
        [
         "14",
         "2",
         "23.0",
         "1",
         "F",
         "Триллер",
         "1.8318092164684583",
         "-0.47004354",
         "-0.05086116",
         "0.33859473"
        ],
        [
         "15",
         "2",
         "44.0",
         "1",
         "F",
         "Триллер",
         "1.2938999080000846",
         "1.227504",
         "-0.15943328",
         "0.2594375"
        ],
        [
         "16",
         "2",
         "26.0",
         "1",
         "F",
         "Комедия",
         "0.9983689107917988",
         "1.1856954",
         "1.0814683",
         "2.5208898"
        ],
        [
         "17",
         "2",
         "14.0",
         "1",
         "F",
         "Триллер",
         "0.9091248360355032",
         "-0.995208",
         "-0.18198267",
         "0.036572073"
        ],
        [
         "18",
         "3",
         "94.0",
         "1",
         "M",
         "Комедия",
         "3.854835899772805",
         "-1.4727654",
         "0.7649233",
         "0.32392964"
        ],
        [
         "19",
         "3",
         "38.0",
         "1",
         "M",
         "Драма",
         "3.4211651325607844",
         "1.1096362",
         "1.4031415",
         "-0.3187334"
        ],
        [
         "20",
         "3",
         "81.0",
         "1",
         "M",
         "Фантастика",
         "3.1164906341377896",
         "1.0624679",
         "3.2326956",
         "-0.2159089"
        ],
        [
         "21",
         "3",
         "28.0",
         "1",
         "M",
         "Комедия",
         "2.9620728443102124",
         "0.9755053",
         "0.83859694",
         "1.5192499"
        ],
        [
         "22",
         "3",
         "93.0",
         "1",
         "M",
         "Триллер",
         "2.8063859878474813",
         "1.085761",
         "2.7465997",
         "1.4206415"
        ],
        [
         "23",
         "3",
         "89.0",
         "1",
         "M",
         "Триллер",
         "2.3610746258097466",
         "0.8584511",
         "2.2992246",
         "-0.55201644"
        ],
        [
         "24",
         "3",
         "60.0",
         "1",
         "M",
         "Комедия",
         "1.9433864484474104",
         "0.840515",
         "2.0974994",
         "2.2859888"
        ],
        [
         "25",
         "3",
         "63.0",
         "1",
         "M",
         "Фантастика",
         "1.7837666334679465",
         "1.0122596",
         "1.4628673",
         "2.0367434"
        ],
        [
         "26",
         "4",
         "62.0",
         "1",
         "F",
         "Триллер",
         "4.143687545759647",
         "0.6967206",
         "-0.8930252",
         "-0.17952596"
        ],
        [
         "27",
         "4",
         "73.0",
         "1",
         "F",
         "Фантастика",
         "4.0773071422741705",
         "0.87158644",
         "-0.5182635",
         "-0.71742815"
        ],
        [
         "28",
         "4",
         "9.0",
         "1",
         "F",
         "Триллер",
         "3.540362888980227",
         "1.403397",
         "-1.1035665",
         "0.011061345"
        ],
        [
         "29",
         "4",
         "23.0",
         "1",
         "F",
         "Триллер",
         "1.8318092164684583",
         "0.29523784",
         "-1.0404655",
         "-1.241216"
        ],
        [
         "30",
         "4",
         "78.0",
         "1",
         "F",
         "Фантастика",
         "1.7923286427213632",
         "0.6383895",
         "-0.7649198",
         "-0.45494387"
        ],
        [
         "31",
         "4",
         "84.0",
         "1",
         "F",
         "Комедия",
         "1.554911608578311",
         "1.667585",
         "-0.25707993",
         "0.57617474"
        ],
        [
         "32",
         "4",
         "99.0",
         "1",
         "F",
         "Фантастика",
         "0.5394571349665223",
         "0.41714442",
         "-1.0032489",
         "0.25093395"
        ],
        [
         "33",
         "5",
         "50.0",
         "1",
         "F",
         "Триллер",
         "4.847923138822793",
         "0.33066794",
         "1.4592563",
         "-0.3934465"
        ],
        [
         "34",
         "5",
         "34.0",
         "1",
         "F",
         "Фантастика",
         "4.828160165372797",
         "1.029979",
         "0.21124542",
         "-0.4303695"
        ],
        [
         "35",
         "5",
         "88.0",
         "1",
         "F",
         "Триллер",
         "4.436063712881633",
         "1.1493965",
         "0.8893599",
         "-1.5031241"
        ],
        [
         "36",
         "5",
         "35.0",
         "1",
         "F",
         "Комедия",
         "4.041986740582305",
         "0.46314946",
         "0.066207975",
         "-0.33009365"
        ],
        [
         "37",
         "5",
         "20.0",
         "1",
         "F",
         "Триллер",
         "3.0592644736118975",
         "1.1365553",
         "1.3150765",
         "0.30904955"
        ],
        [
         "38",
         "5",
         "24.0",
         "1",
         "F",
         "Триллер",
         "2.28034992108518",
         "-0.3888169",
         "1.1722171",
         "1.2313315"
        ],
        [
         "39",
         "5",
         "26.0",
         "1",
         "F",
         "Комедия",
         "0.9983689107917988",
         "1.4602618",
         "-0.50223446",
         "-1.0056993"
        ],
        [
         "40",
         "6",
         "1.0",
         "1",
         "F",
         "Комедия",
         "4.75357153204958",
         "-1.3757541",
         "-1.1178161",
         "-0.41311702"
        ],
        [
         "41",
         "6",
         "94.0",
         "1",
         "F",
         "Комедия",
         "3.854835899772805",
         "-1.2837223",
         "-0.85044616",
         "-0.19448061"
        ],
        [
         "42",
         "6",
         "26.0",
         "1",
         "F",
         "Комедия",
         "0.9983689107917988",
         "1.2648103",
         "-0.17451337",
         "-0.31332025"
        ],
        [
         "43",
         "7",
         "96.0",
         "1",
         "M",
         "Мелодрама",
         "2.6136641469099704",
         "0.7305916",
         "2.0177336",
         "2.1273067"
        ],
        [
         "44",
         "7",
         "60.0",
         "1",
         "M",
         "Комедия",
         "1.9433864484474104",
         "0.8711105",
         "1.7187942",
         "0.4118701"
        ],
        [
         "45",
         "7",
         "31.0",
         "1",
         "M",
         "Триллер",
         "0.8526206184364576",
         "-1.8649683",
         "1.5655046",
         "1.2690793"
        ],
        [
         "46",
         "7",
         "58.0",
         "1",
         "M",
         "Триллер",
         "0.2261364445526903",
         "0.77875936",
         "2.6163862",
         "2.4803002"
        ],
        [
         "47",
         "8",
         "20.0",
         "1",
         "M",
         "Триллер",
         "3.0592644736118975",
         "0.9040198",
         "0.14411473",
         "0.07472431"
        ],
        [
         "48",
         "8",
         "59.0",
         "1",
         "M",
         "Триллер",
         "1.6266516538163218",
         "0.7773042",
         "-0.47777855",
         "-0.37010393"
        ],
        [
         "49",
         "8",
         "40.0",
         "1",
         "M",
         "Комедия",
         "0.6101911742238941",
         "0.6020123",
         "-0.8607491",
         "-0.7384393"
        ]
       ],
       "shape": {
        "columns": 9,
        "rows": 2404432
       }
      },
      "text/html": [
       "<div>\n",
       "<style scoped>\n",
       "    .dataframe tbody tr th:only-of-type {\n",
       "        vertical-align: middle;\n",
       "    }\n",
       "\n",
       "    .dataframe tbody tr th {\n",
       "        vertical-align: top;\n",
       "    }\n",
       "\n",
       "    .dataframe thead th {\n",
       "        text-align: right;\n",
       "    }\n",
       "</style>\n",
       "<table border=\"1\" class=\"dataframe\">\n",
       "  <thead>\n",
       "    <tr style=\"text-align: right;\">\n",
       "      <th></th>\n",
       "      <th>user_id</th>\n",
       "      <th>item_id</th>\n",
       "      <th>target</th>\n",
       "      <th>sex_type</th>\n",
       "      <th>genre</th>\n",
       "      <th>mean_users_score</th>\n",
       "      <th>sasrec_score</th>\n",
       "      <th>ease_score</th>\n",
       "      <th>als_score</th>\n",
       "    </tr>\n",
       "  </thead>\n",
       "  <tbody>\n",
       "    <tr>\n",
       "      <th>0</th>\n",
       "      <td>0</td>\n",
       "      <td>92.0</td>\n",
       "      <td>1</td>\n",
       "      <td>F</td>\n",
       "      <td>Триллер</td>\n",
       "      <td>3.803925</td>\n",
       "      <td>0.713913</td>\n",
       "      <td>0.524060</td>\n",
       "      <td>0.764742</td>\n",
       "    </tr>\n",
       "    <tr>\n",
       "      <th>1</th>\n",
       "      <td>0</td>\n",
       "      <td>13.0</td>\n",
       "      <td>1</td>\n",
       "      <td>F</td>\n",
       "      <td>Триллер</td>\n",
       "      <td>1.061696</td>\n",
       "      <td>-0.765748</td>\n",
       "      <td>0.927354</td>\n",
       "      <td>0.683692</td>\n",
       "    </tr>\n",
       "    <tr>\n",
       "      <th>2</th>\n",
       "      <td>0</td>\n",
       "      <td>49.0</td>\n",
       "      <td>1</td>\n",
       "      <td>F</td>\n",
       "      <td>Мелодрама</td>\n",
       "      <td>0.924272</td>\n",
       "      <td>1.205254</td>\n",
       "      <td>1.573210</td>\n",
       "      <td>0.399290</td>\n",
       "    </tr>\n",
       "    <tr>\n",
       "      <th>3</th>\n",
       "      <td>0</td>\n",
       "      <td>4.0</td>\n",
       "      <td>1</td>\n",
       "      <td>F</td>\n",
       "      <td>Мелодрама</td>\n",
       "      <td>0.780093</td>\n",
       "      <td>0.495366</td>\n",
       "      <td>2.194181</td>\n",
       "      <td>2.464005</td>\n",
       "    </tr>\n",
       "    <tr>\n",
       "      <th>4</th>\n",
       "      <td>0</td>\n",
       "      <td>77.0</td>\n",
       "      <td>1</td>\n",
       "      <td>F</td>\n",
       "      <td>Драма</td>\n",
       "      <td>0.370223</td>\n",
       "      <td>1.011612</td>\n",
       "      <td>0.334235</td>\n",
       "      <td>-0.041085</td>\n",
       "    </tr>\n",
       "    <tr>\n",
       "      <th>...</th>\n",
       "      <td>...</td>\n",
       "      <td>...</td>\n",
       "      <td>...</td>\n",
       "      <td>...</td>\n",
       "      <td>...</td>\n",
       "      <td>...</td>\n",
       "      <td>...</td>\n",
       "      <td>...</td>\n",
       "      <td>...</td>\n",
       "    </tr>\n",
       "    <tr>\n",
       "      <th>2404427</th>\n",
       "      <td>9999</td>\n",
       "      <td>45.0</td>\n",
       "      <td>0</td>\n",
       "      <td>M</td>\n",
       "      <td>Триллер</td>\n",
       "      <td>3.312611</td>\n",
       "      <td>1.384051</td>\n",
       "      <td>0.429075</td>\n",
       "      <td>0.509701</td>\n",
       "    </tr>\n",
       "    <tr>\n",
       "      <th>2404428</th>\n",
       "      <td>9999</td>\n",
       "      <td>87.0</td>\n",
       "      <td>0</td>\n",
       "      <td>M</td>\n",
       "      <td>Комедия</td>\n",
       "      <td>3.187787</td>\n",
       "      <td>-1.113327</td>\n",
       "      <td>-0.724356</td>\n",
       "      <td>-0.121391</td>\n",
       "    </tr>\n",
       "    <tr>\n",
       "      <th>2404429</th>\n",
       "      <td>9999</td>\n",
       "      <td>81.0</td>\n",
       "      <td>0</td>\n",
       "      <td>M</td>\n",
       "      <td>Фантастика</td>\n",
       "      <td>3.116491</td>\n",
       "      <td>0.546683</td>\n",
       "      <td>0.132674</td>\n",
       "      <td>0.574376</td>\n",
       "    </tr>\n",
       "    <tr>\n",
       "      <th>2404430</th>\n",
       "      <td>9999</td>\n",
       "      <td>20.0</td>\n",
       "      <td>0</td>\n",
       "      <td>M</td>\n",
       "      <td>Триллер</td>\n",
       "      <td>3.059264</td>\n",
       "      <td>0.801675</td>\n",
       "      <td>-1.272496</td>\n",
       "      <td>-1.250150</td>\n",
       "    </tr>\n",
       "    <tr>\n",
       "      <th>2404431</th>\n",
       "      <td>9999</td>\n",
       "      <td>30.0</td>\n",
       "      <td>0</td>\n",
       "      <td>M</td>\n",
       "      <td>Комедия</td>\n",
       "      <td>3.037724</td>\n",
       "      <td>0.310003</td>\n",
       "      <td>-1.567272</td>\n",
       "      <td>-0.419899</td>\n",
       "    </tr>\n",
       "  </tbody>\n",
       "</table>\n",
       "<p>2404432 rows × 9 columns</p>\n",
       "</div>"
      ],
      "text/plain": [
       "         user_id  item_id  target sex_type       genre  mean_users_score  \\\n",
       "0              0     92.0       1        F     Триллер          3.803925   \n",
       "1              0     13.0       1        F     Триллер          1.061696   \n",
       "2              0     49.0       1        F   Мелодрама          0.924272   \n",
       "3              0      4.0       1        F   Мелодрама          0.780093   \n",
       "4              0     77.0       1        F       Драма          0.370223   \n",
       "...          ...      ...     ...      ...         ...               ...   \n",
       "2404427     9999     45.0       0        M     Триллер          3.312611   \n",
       "2404428     9999     87.0       0        M     Комедия          3.187787   \n",
       "2404429     9999     81.0       0        M  Фантастика          3.116491   \n",
       "2404430     9999     20.0       0        M     Триллер          3.059264   \n",
       "2404431     9999     30.0       0        M     Комедия          3.037724   \n",
       "\n",
       "         sasrec_score  ease_score  als_score  \n",
       "0            0.713913    0.524060   0.764742  \n",
       "1           -0.765748    0.927354   0.683692  \n",
       "2            1.205254    1.573210   0.399290  \n",
       "3            0.495366    2.194181   2.464005  \n",
       "4            1.011612    0.334235  -0.041085  \n",
       "...               ...         ...        ...  \n",
       "2404427      1.384051    0.429075   0.509701  \n",
       "2404428     -1.113327   -0.724356  -0.121391  \n",
       "2404429      0.546683    0.132674   0.574376  \n",
       "2404430      0.801675   -1.272496  -1.250150  \n",
       "2404431      0.310003   -1.567272  -0.419899  \n",
       "\n",
       "[2404432 rows x 9 columns]"
      ]
     },
     "execution_count": 36,
     "metadata": {},
     "output_type": "execute_result"
    }
   ],
   "source": [
    "# Скорим базовые модели\n",
    "recom_sasrec = sasrec.recommend(users=dataset.user_id_map.external_ids, dataset=dataset, filter_viewed=True, k=100).drop(columns=['rank']).rename(columns={\"score\": \"sasrec_score\"})\n",
    "recom_ease = ease.recommend(users=dataset.user_id_map.external_ids, dataset=dataset, filter_viewed=True, k=100).drop(columns=['rank']).rename(columns={\"score\": \"ease_score\"})\n",
    "recom_als = als.recommend(users=dataset.user_id_map.external_ids, dataset=dataset, filter_viewed=True, k=100).drop(columns=['rank']).rename(columns={\"score\": \"als_score\"})\n",
    "\n",
    "# Добавим нормировку\n",
    "def normilise(data):\n",
    "    return (data - data.mean()) / data.std()\n",
    "\n",
    "recom_sasrec[\"sasrec_score\"] = normilise(recom_sasrec[\"sasrec_score\"])\n",
    "recom_ease[\"ease_score\"] = normilise(recom_ease[\"ease_score\"])\n",
    "recom_als[\"als_score\"] = normilise(recom_als[\"als_score\"])\n",
    "\n",
    "# Обучаемся - на логах\n",
    "target_df = interactions_second_period[[\"user_id\", \"item_id\"]]\n",
    "target_df[\"target\"] = interactions_second_period[\"action\"].map({\"click\": 1, \"show\": 0})\n",
    "\n",
    "# Собираем общий датасет\n",
    "all_features = target_df\n",
    "all_features = all_features.merge(users, on=[\"user_id\"], how=\"left\")\n",
    "all_features = all_features.merge(items, on=[\"item_id\"], how=\"left\")\n",
    "all_features = all_features.merge(recom_sasrec, on=[\"user_id\", \"item_id\"], how=\"left\")\n",
    "all_features = all_features.merge(recom_ease, on=[\"user_id\", \"item_id\"], how=\"left\")\n",
    "all_features = all_features.merge(recom_als, on=[\"user_id\", \"item_id\"], how=\"left\")\n",
    "\n",
    "all_features = all_features.fillna(0)\n",
    "\n",
    "all_features"
   ]
  },
  {
   "cell_type": "code",
   "execution_count": 15,
   "metadata": {},
   "outputs": [],
   "source": [
    "# Разделяем пользователей на тренировочную и валидационную выборки - важно что бы пользователь полностью попал либо в трейн, kb,j d dfkblfwb.\n",
    "train_users, val_users = train_test_split(all_features[\"user_id\"].drop_duplicates(), test_size=0.25, random_state=42)\n",
    "\n",
    "data_train = all_features[all_features[\"user_id\"].isin(train_users)].sort_values(\"user_id\")\n",
    "data_val = all_features[all_features[\"user_id\"].isin(val_users)].sort_values(\"user_id\")\n",
    "\n",
    "X_train = data_train.drop(columns=\"target\")\n",
    "X_val = data_val.drop(columns=\"target\")\n",
    "y_train = data_train[\"target\"]\n",
    "y_val = data_val[\"target\"]"
   ]
  },
  {
   "cell_type": "code",
   "execution_count": 16,
   "metadata": {},
   "outputs": [
    {
     "name": "stdout",
     "output_type": "stream",
     "text": [
      "Groupwise loss function. OneHotMaxSize set to 10\n",
      "0:\ttest: 0.3587081\tbest: 0.3587081 (0)\ttotal: 1.31s\tremaining: 2m 10s\n",
      "1:\ttest: 0.3991962\tbest: 0.3991962 (1)\ttotal: 2.11s\tremaining: 1m 43s\n",
      "2:\ttest: 0.5313613\tbest: 0.5313613 (2)\ttotal: 2.83s\tremaining: 1m 31s\n",
      "3:\ttest: 0.5524521\tbest: 0.5524521 (3)\ttotal: 3.6s\tremaining: 1m 26s\n",
      "4:\ttest: 0.5654187\tbest: 0.5654187 (4)\ttotal: 4.28s\tremaining: 1m 21s\n",
      "5:\ttest: 0.5715802\tbest: 0.5715802 (5)\ttotal: 4.96s\tremaining: 1m 17s\n",
      "6:\ttest: 0.5824953\tbest: 0.5824953 (6)\ttotal: 5.64s\tremaining: 1m 14s\n",
      "7:\ttest: 0.5919504\tbest: 0.5919504 (7)\ttotal: 6.33s\tremaining: 1m 12s\n",
      "8:\ttest: 0.5909034\tbest: 0.5919504 (7)\ttotal: 7s\tremaining: 1m 10s\n",
      "9:\ttest: 0.6089443\tbest: 0.6089443 (9)\ttotal: 7.7s\tremaining: 1m 9s\n",
      "10:\ttest: 0.6105948\tbest: 0.6105948 (10)\ttotal: 8.37s\tremaining: 1m 7s\n",
      "11:\ttest: 0.6127348\tbest: 0.6127348 (11)\ttotal: 9.1s\tremaining: 1m 6s\n",
      "12:\ttest: 0.6147849\tbest: 0.6147849 (12)\ttotal: 9.87s\tremaining: 1m 6s\n",
      "13:\ttest: 0.6149052\tbest: 0.6149052 (13)\ttotal: 10.6s\tremaining: 1m 5s\n",
      "14:\ttest: 0.6207744\tbest: 0.6207744 (14)\ttotal: 11.3s\tremaining: 1m 4s\n",
      "15:\ttest: 0.6237191\tbest: 0.6237191 (15)\ttotal: 12.1s\tremaining: 1m 3s\n",
      "16:\ttest: 0.6260809\tbest: 0.6260809 (16)\ttotal: 13.1s\tremaining: 1m 3s\n",
      "17:\ttest: 0.6274675\tbest: 0.6274675 (17)\ttotal: 13.9s\tremaining: 1m 3s\n",
      "18:\ttest: 0.6275031\tbest: 0.6275031 (18)\ttotal: 14.6s\tremaining: 1m 2s\n",
      "19:\ttest: 0.6297179\tbest: 0.6297179 (19)\ttotal: 15.3s\tremaining: 1m 1s\n",
      "20:\ttest: 0.6290307\tbest: 0.6297179 (19)\ttotal: 16s\tremaining: 1m\n",
      "21:\ttest: 0.6288699\tbest: 0.6297179 (19)\ttotal: 16.8s\tremaining: 59.5s\n",
      "22:\ttest: 0.6288561\tbest: 0.6297179 (19)\ttotal: 17.5s\tremaining: 58.6s\n",
      "Stopped by overfitting detector  (3 iterations wait)\n",
      "\n",
      "bestTest = 0.6297178836\n",
      "bestIteration = 19\n",
      "\n",
      "Shrink model to first 20 iterations.\n"
     ]
    },
    {
     "data": {
      "text/plain": [
       "<catboost.core.CatBoostRanker at 0x166cc8050>"
      ]
     },
     "execution_count": 16,
     "metadata": {},
     "output_type": "execute_result"
    }
   ],
   "source": [
    "train_pool = Pool(data=X_train.drop(columns=[\"user_id\", \"item_id\"]), label=y_train, group_id=X_train[\"user_id\"], cat_features=['sex_type', 'genre'])\n",
    "val_pool = Pool(data=X_val.drop(columns=[\"user_id\", \"item_id\"]), label=y_val, group_id=X_val[\"user_id\"], cat_features=['sex_type', 'genre'])\n",
    "\n",
    "\n",
    "model = CatBoostRanker(\n",
    "    iterations=100,             \n",
    "    learning_rate=0.1,          \n",
    "    depth=6,                    \n",
    "    early_stopping_rounds=3\n",
    ")\n",
    "\n",
    "model.fit(train_pool, eval_set=val_pool) \n"
   ]
  }
 ],
 "metadata": {
  "kernelspec": {
   "display_name": "test_master_class",
   "language": "python",
   "name": "python3"
  },
  "language_info": {
   "codemirror_mode": {
    "name": "ipython",
    "version": 3
   },
   "file_extension": ".py",
   "mimetype": "text/x-python",
   "name": "python",
   "nbconvert_exporter": "python",
   "pygments_lexer": "ipython3",
   "version": "3.13.0"
  }
 },
 "nbformat": 4,
 "nbformat_minor": 2
}
