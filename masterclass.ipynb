{
 "cells": [
  {
   "cell_type": "code",
   "execution_count": 1,
   "metadata": {},
   "outputs": [],
   "source": [
    "import os\n",
    "os.environ[\"OPENBLAS_NUM_THREADS\"] = \"1\"\n",
    "os.environ[\"OMP_NUM_THREADS\"] = \"1\"\n",
    "\n",
    "import threadpoolctl\n",
    "threadpoolctl.threadpool_limits(1, \"blas\")\n",
    "\n",
    "import warnings\n",
    "warnings.filterwarnings('ignore')\n",
    "\n",
    "\n",
    "import pandas as pd\n",
    "import seaborn as sns\n",
    "import matplotlib.pyplot as plt\n",
    "\n",
    "\n",
    "from sklearn.model_selection import train_test_split\n",
    "\n",
    "from rectools.dataset import Dataset\n",
    "from rectools.metrics import (\n",
    "    NDCG,\n",
    "    CoveredUsers,\n",
    "    AvgRecPopularity,\n",
    "    Intersection,\n",
    "    HitRate,\n",
    "    Serendipity,\n",
    "    CatalogCoverage\n",
    ")\n",
    "from rectools.models import PopularModel, EASEModel, SASRecModel, ImplicitALSWrapperModel\n",
    "from rectools.model_selection import TimeRangeSplitter, cross_validate\n",
    "\n",
    "from implicit.als import AlternatingLeastSquares\n",
    "from catboost import CatBoostRanker, Pool\n"
   ]
  },
  {
   "cell_type": "code",
   "execution_count": 2,
   "metadata": {},
   "outputs": [],
   "source": [
    "interactions = pd.read_csv(\"data/interactions.csv\")\n",
    "items = pd.read_csv(\"data/items.csv\")\n",
    "users = pd.read_csv(\"data/users.csv\")"
   ]
  },
  {
   "cell_type": "markdown",
   "metadata": {},
   "source": [
    "# EDA"
   ]
  },
  {
   "cell_type": "markdown",
   "metadata": {},
   "source": [
    "Посмотрим на данные"
   ]
  },
  {
   "cell_type": "code",
   "execution_count": 3,
   "metadata": {},
   "outputs": [
    {
     "data": {
      "text/html": [
       "<div>\n",
       "<style scoped>\n",
       "    .dataframe tbody tr th:only-of-type {\n",
       "        vertical-align: middle;\n",
       "    }\n",
       "\n",
       "    .dataframe tbody tr th {\n",
       "        vertical-align: top;\n",
       "    }\n",
       "\n",
       "    .dataframe thead th {\n",
       "        text-align: right;\n",
       "    }\n",
       "</style>\n",
       "<table border=\"1\" class=\"dataframe\">\n",
       "  <thead>\n",
       "    <tr style=\"text-align: right;\">\n",
       "      <th></th>\n",
       "      <th>user_id</th>\n",
       "      <th>item_id</th>\n",
       "      <th>datetime</th>\n",
       "      <th>action</th>\n",
       "    </tr>\n",
       "  </thead>\n",
       "  <tbody>\n",
       "    <tr>\n",
       "      <th>0</th>\n",
       "      <td>0</td>\n",
       "      <td>11.0</td>\n",
       "      <td>2025-05-28 07:36:48.225275608</td>\n",
       "      <td>click</td>\n",
       "    </tr>\n",
       "    <tr>\n",
       "      <th>1</th>\n",
       "      <td>0</td>\n",
       "      <td>73.0</td>\n",
       "      <td>2025-07-21 17:26:51.803754354</td>\n",
       "      <td>click</td>\n",
       "    </tr>\n",
       "    <tr>\n",
       "      <th>2</th>\n",
       "      <td>0</td>\n",
       "      <td>51.0</td>\n",
       "      <td>2025-05-05 20:20:44.838313014</td>\n",
       "      <td>click</td>\n",
       "    </tr>\n",
       "    <tr>\n",
       "      <th>3</th>\n",
       "      <td>0</td>\n",
       "      <td>74.0</td>\n",
       "      <td>2025-04-29 05:29:06.051551314</td>\n",
       "      <td>click</td>\n",
       "    </tr>\n",
       "    <tr>\n",
       "      <th>4</th>\n",
       "      <td>0</td>\n",
       "      <td>38.0</td>\n",
       "      <td>2025-04-07 14:57:00.062975580</td>\n",
       "      <td>click</td>\n",
       "    </tr>\n",
       "    <tr>\n",
       "      <th>...</th>\n",
       "      <td>...</td>\n",
       "      <td>...</td>\n",
       "      <td>...</td>\n",
       "      <td>...</td>\n",
       "    </tr>\n",
       "    <tr>\n",
       "      <th>3941443</th>\n",
       "      <td>9999</td>\n",
       "      <td>6.0</td>\n",
       "      <td>2025-07-12 18:48:25.630890802</td>\n",
       "      <td>show</td>\n",
       "    </tr>\n",
       "    <tr>\n",
       "      <th>3941444</th>\n",
       "      <td>9999</td>\n",
       "      <td>29.0</td>\n",
       "      <td>2025-07-12 18:48:25.630890802</td>\n",
       "      <td>show</td>\n",
       "    </tr>\n",
       "    <tr>\n",
       "      <th>3941445</th>\n",
       "      <td>9999</td>\n",
       "      <td>58.0</td>\n",
       "      <td>2025-07-12 18:48:25.630890802</td>\n",
       "      <td>show</td>\n",
       "    </tr>\n",
       "    <tr>\n",
       "      <th>3941446</th>\n",
       "      <td>9999</td>\n",
       "      <td>NaN</td>\n",
       "      <td>2025-07-05 06:57:18.551431996</td>\n",
       "      <td>show</td>\n",
       "    </tr>\n",
       "    <tr>\n",
       "      <th>3941447</th>\n",
       "      <td>9999</td>\n",
       "      <td>NaN</td>\n",
       "      <td>2025-04-06 06:03:33.936542636</td>\n",
       "      <td>show</td>\n",
       "    </tr>\n",
       "  </tbody>\n",
       "</table>\n",
       "<p>3941448 rows × 4 columns</p>\n",
       "</div>"
      ],
      "text/plain": [
       "         user_id  item_id                       datetime action\n",
       "0              0     11.0  2025-05-28 07:36:48.225275608  click\n",
       "1              0     73.0  2025-07-21 17:26:51.803754354  click\n",
       "2              0     51.0  2025-05-05 20:20:44.838313014  click\n",
       "3              0     74.0  2025-04-29 05:29:06.051551314  click\n",
       "4              0     38.0  2025-04-07 14:57:00.062975580  click\n",
       "...          ...      ...                            ...    ...\n",
       "3941443     9999      6.0  2025-07-12 18:48:25.630890802   show\n",
       "3941444     9999     29.0  2025-07-12 18:48:25.630890802   show\n",
       "3941445     9999     58.0  2025-07-12 18:48:25.630890802   show\n",
       "3941446     9999      NaN  2025-07-05 06:57:18.551431996   show\n",
       "3941447     9999      NaN  2025-04-06 06:03:33.936542636   show\n",
       "\n",
       "[3941448 rows x 4 columns]"
      ]
     },
     "execution_count": 3,
     "metadata": {},
     "output_type": "execute_result"
    }
   ],
   "source": [
    "interactions"
   ]
  },
  {
   "cell_type": "code",
   "execution_count": 4,
   "metadata": {},
   "outputs": [
    {
     "data": {
      "text/plain": [
       "action\n",
       "show     3861511\n",
       "click      79937\n",
       "Name: count, dtype: int64"
      ]
     },
     "execution_count": 4,
     "metadata": {},
     "output_type": "execute_result"
    }
   ],
   "source": [
    "interactions['action'].value_counts()"
   ]
  },
  {
   "cell_type": "code",
   "execution_count": 5,
   "metadata": {},
   "outputs": [
    {
     "data": {
      "image/png": "[encoded data removed]",
      "text/plain": [
       "<Figure size 1000x1000 with 1 Axes>"
      ]
     },
     "metadata": {},
     "output_type": "display_data"
    }
   ],
   "source": [
    "interactions_plot_df = interactions.copy()\n",
    "interactions_plot_df[\"date\"] = pd.to_datetime(interactions_plot_df[\"datetime\"]).dt.date\n",
    "\n",
    "interactions_plot_df = interactions_plot_df.groupby([\"date\"])[interactions_plot_df.columns[0]].count().reset_index()\n",
    "\n",
    "\n",
    "plt.figure(figsize=(10,10))\n",
    "sns.barplot(x='date', y='user_id', data=interactions_plot_df)\n",
    "plt.xlabel('Дата')\n",
    "plt.xticks([])\n",
    "plt.ylabel('Количество интеракций')\n",
    "plt.title('Количество интеракций в день')\n",
    "plt.grid(True)\n",
    "plt.show()"
   ]
  },
  {
   "cell_type": "code",
   "execution_count": 6,
   "metadata": {},
   "outputs": [
    {
     "data": {
      "text/html": [
       "<div>\n",
       "<style scoped>\n",
       "    .dataframe tbody tr th:only-of-type {\n",
       "        vertical-align: middle;\n",
       "    }\n",
       "\n",
       "    .dataframe tbody tr th {\n",
       "        vertical-align: top;\n",
       "    }\n",
       "\n",
       "    .dataframe thead th {\n",
       "        text-align: right;\n",
       "    }\n",
       "</style>\n",
       "<table border=\"1\" class=\"dataframe\">\n",
       "  <thead>\n",
       "    <tr style=\"text-align: right;\">\n",
       "      <th></th>\n",
       "      <th>item_id</th>\n",
       "      <th>genre</th>\n",
       "      <th>mean_users_score</th>\n",
       "    </tr>\n",
       "  </thead>\n",
       "  <tbody>\n",
       "    <tr>\n",
       "      <th>0</th>\n",
       "      <td>0</td>\n",
       "      <td>Комедия</td>\n",
       "      <td>1.872701</td>\n",
       "    </tr>\n",
       "    <tr>\n",
       "      <th>1</th>\n",
       "      <td>1</td>\n",
       "      <td>Драма</td>\n",
       "      <td>4.753572</td>\n",
       "    </tr>\n",
       "    <tr>\n",
       "      <th>2</th>\n",
       "      <td>2</td>\n",
       "      <td>Мелодрама</td>\n",
       "      <td>3.659970</td>\n",
       "    </tr>\n",
       "    <tr>\n",
       "      <th>3</th>\n",
       "      <td>3</td>\n",
       "      <td>Драма</td>\n",
       "      <td>2.993292</td>\n",
       "    </tr>\n",
       "    <tr>\n",
       "      <th>4</th>\n",
       "      <td>4</td>\n",
       "      <td>Фантастика</td>\n",
       "      <td>0.780093</td>\n",
       "    </tr>\n",
       "    <tr>\n",
       "      <th>...</th>\n",
       "      <td>...</td>\n",
       "      <td>...</td>\n",
       "      <td>...</td>\n",
       "    </tr>\n",
       "    <tr>\n",
       "      <th>95</th>\n",
       "      <td>95</td>\n",
       "      <td>Мелодрама</td>\n",
       "      <td>2.468978</td>\n",
       "    </tr>\n",
       "    <tr>\n",
       "      <th>96</th>\n",
       "      <td>96</td>\n",
       "      <td>Драма</td>\n",
       "      <td>2.613664</td>\n",
       "    </tr>\n",
       "    <tr>\n",
       "      <th>97</th>\n",
       "      <td>97</td>\n",
       "      <td>Мелодрама</td>\n",
       "      <td>2.137705</td>\n",
       "    </tr>\n",
       "    <tr>\n",
       "      <th>98</th>\n",
       "      <td>98</td>\n",
       "      <td>Мелодрама</td>\n",
       "      <td>0.127096</td>\n",
       "    </tr>\n",
       "    <tr>\n",
       "      <th>99</th>\n",
       "      <td>99</td>\n",
       "      <td>Мелодрама</td>\n",
       "      <td>0.539457</td>\n",
       "    </tr>\n",
       "  </tbody>\n",
       "</table>\n",
       "<p>100 rows × 3 columns</p>\n",
       "</div>"
      ],
      "text/plain": [
       "    item_id       genre  mean_users_score\n",
       "0         0     Комедия          1.872701\n",
       "1         1       Драма          4.753572\n",
       "2         2   Мелодрама          3.659970\n",
       "3         3       Драма          2.993292\n",
       "4         4  Фантастика          0.780093\n",
       "..      ...         ...               ...\n",
       "95       95   Мелодрама          2.468978\n",
       "96       96       Драма          2.613664\n",
       "97       97   Мелодрама          2.137705\n",
       "98       98   Мелодрама          0.127096\n",
       "99       99   Мелодрама          0.539457\n",
       "\n",
       "[100 rows x 3 columns]"
      ]
     },
     "execution_count": 6,
     "metadata": {},
     "output_type": "execute_result"
    }
   ],
   "source": [
    "items"
   ]
  },
  {
   "cell_type": "code",
   "execution_count": 7,
   "metadata": {},
   "outputs": [
    {
     "data": {
      "text/plain": [
       "genre\n",
       "Мелодрама     27\n",
       "Драма         23\n",
       "Триллер       18\n",
       "Комедия       16\n",
       "Фантастика    16\n",
       "Name: count, dtype: int64"
      ]
     },
     "execution_count": 7,
     "metadata": {},
     "output_type": "execute_result"
    }
   ],
   "source": [
    "items.value_counts(\"genre\")"
   ]
  },
  {
   "cell_type": "code",
   "execution_count": 8,
   "metadata": {},
   "outputs": [
    {
     "data": {
      "text/html": [
       "<div>\n",
       "<style scoped>\n",
       "    .dataframe tbody tr th:only-of-type {\n",
       "        vertical-align: middle;\n",
       "    }\n",
       "\n",
       "    .dataframe tbody tr th {\n",
       "        vertical-align: top;\n",
       "    }\n",
       "\n",
       "    .dataframe thead th {\n",
       "        text-align: right;\n",
       "    }\n",
       "</style>\n",
       "<table border=\"1\" class=\"dataframe\">\n",
       "  <thead>\n",
       "    <tr style=\"text-align: right;\">\n",
       "      <th></th>\n",
       "      <th>user_id</th>\n",
       "      <th>sex_type</th>\n",
       "    </tr>\n",
       "  </thead>\n",
       "  <tbody>\n",
       "    <tr>\n",
       "      <th>0</th>\n",
       "      <td>0</td>\n",
       "      <td>M</td>\n",
       "    </tr>\n",
       "    <tr>\n",
       "      <th>1</th>\n",
       "      <td>1</td>\n",
       "      <td>F</td>\n",
       "    </tr>\n",
       "    <tr>\n",
       "      <th>2</th>\n",
       "      <td>2</td>\n",
       "      <td>M</td>\n",
       "    </tr>\n",
       "    <tr>\n",
       "      <th>3</th>\n",
       "      <td>3</td>\n",
       "      <td>M</td>\n",
       "    </tr>\n",
       "    <tr>\n",
       "      <th>4</th>\n",
       "      <td>4</td>\n",
       "      <td>M</td>\n",
       "    </tr>\n",
       "    <tr>\n",
       "      <th>...</th>\n",
       "      <td>...</td>\n",
       "      <td>...</td>\n",
       "    </tr>\n",
       "    <tr>\n",
       "      <th>9995</th>\n",
       "      <td>9995</td>\n",
       "      <td>M</td>\n",
       "    </tr>\n",
       "    <tr>\n",
       "      <th>9996</th>\n",
       "      <td>9996</td>\n",
       "      <td>F</td>\n",
       "    </tr>\n",
       "    <tr>\n",
       "      <th>9997</th>\n",
       "      <td>9997</td>\n",
       "      <td>M</td>\n",
       "    </tr>\n",
       "    <tr>\n",
       "      <th>9998</th>\n",
       "      <td>9998</td>\n",
       "      <td>M</td>\n",
       "    </tr>\n",
       "    <tr>\n",
       "      <th>9999</th>\n",
       "      <td>9999</td>\n",
       "      <td>M</td>\n",
       "    </tr>\n",
       "  </tbody>\n",
       "</table>\n",
       "<p>10000 rows × 2 columns</p>\n",
       "</div>"
      ],
      "text/plain": [
       "      user_id sex_type\n",
       "0           0        M\n",
       "1           1        F\n",
       "2           2        M\n",
       "3           3        M\n",
       "4           4        M\n",
       "...       ...      ...\n",
       "9995     9995        M\n",
       "9996     9996        F\n",
       "9997     9997        M\n",
       "9998     9998        M\n",
       "9999     9999        M\n",
       "\n",
       "[10000 rows x 2 columns]"
      ]
     },
     "execution_count": 8,
     "metadata": {},
     "output_type": "execute_result"
    }
   ],
   "source": [
    "users"
   ]
  },
  {
   "cell_type": "code",
   "execution_count": 9,
   "metadata": {},
   "outputs": [
    {
     "data": {
      "text/plain": [
       "sex_type\n",
       "F    5005\n",
       "M    4995\n",
       "Name: count, dtype: int64"
      ]
     },
     "execution_count": 9,
     "metadata": {},
     "output_type": "execute_result"
    }
   ],
   "source": [
    "users.value_counts(\"sex_type\")"
   ]
  },
  {
   "cell_type": "markdown",
   "metadata": {},
   "source": [
    "# Готовим модели"
   ]
  },
  {
   "cell_type": "markdown",
   "metadata": {},
   "source": [
    "Разделим выборку на 2 части  по времени:\n",
    "\n",
    "\n",
    "На 1 - ой части мы будем обучать модели, доступные из коробки в rectools, а также считать фичи для катбуста\n",
    "\n",
    "На 2 - ой части мы будем стакать результаты моделей в катбуст"
   ]
  },
  {
   "cell_type": "code",
   "execution_count": 10,
   "metadata": {},
   "outputs": [],
   "source": [
    "interactions[\"weight\"] = 1.0\n",
    "\n",
    "def split_time(datetimes, test_size=0.5):\n",
    "    datetimes_sorted = datetimes.sort_values().reset_index(drop=True)\n",
    "    split_date = datetimes_sorted[int(datetimes_sorted.shape[0] * test_size)]\n",
    "    return datetimes_sorted[datetimes_sorted < split_date].reset_index(drop=True), datetimes_sorted[datetimes_sorted >= split_date].reset_index(drop=True)\n",
    "    \n",
    "first_part, second_part = split_time(interactions[\"datetime\"])\n",
    "\n",
    "interactions_first_period = interactions[interactions[\"datetime\"].isin(first_part)]\n",
    "interactions_second_period = interactions[interactions[\"datetime\"].isin(second_part)]\n",
    "\n",
    "# Для некоторых моделе нужны только позитивные взаимодействия\n",
    "positive_interactions_first_period = interactions_first_period[interactions_first_period[\"action\"] == \"click\"]\n"
   ]
  },
  {
   "cell_type": "markdown",
   "metadata": {},
   "source": [
    "Инициируем рекоменедателные модели"
   ]
  },
  {
   "cell_type": "code",
   "execution_count": 11,
   "metadata": {},
   "outputs": [
    {
     "name": "stderr",
     "output_type": "stream",
     "text": [
      "GPU available: False, used: False\n",
      "TPU available: False, using: 0 TPU cores\n",
      "HPU available: False, using: 0 HPUs\n"
     ]
    }
   ],
   "source": [
    "dataset = Dataset.construct(\n",
    "    interactions_df=positive_interactions_first_period,\n",
    ")\n",
    "\n",
    "sasrec = SASRecModel(\n",
    "    session_max_len=20,\n",
    "    loss=\"softmax\",\n",
    "    n_factors=64,\n",
    "    n_blocks=1,\n",
    "    n_heads=4,\n",
    "    dropout_rate=0.2,\n",
    "    lr=0.001,\n",
    "    batch_size=128,\n",
    "    epochs=1,\n",
    "    verbose=1,\n",
    "    deterministic=True,\n",
    ")\n",
    "ease = EASEModel()\n",
    "als = ImplicitALSWrapperModel(AlternatingLeastSquares(factors=32, num_threads=7))"
   ]
  },
  {
   "cell_type": "markdown",
   "metadata": {},
   "source": [
    "Посомтрим качество базовых моделей"
   ]
  },
  {
   "cell_type": "code",
   "execution_count": 12,
   "metadata": {},
   "outputs": [
    {
     "name": "stderr",
     "output_type": "stream",
     "text": [
      "\n",
      "  | Name        | Type                     | Params | Mode \n",
      "-----------------------------------------------------------------\n",
      "0 | torch_model | TransformerTorchBackbone | 33.1 K | train\n",
      "-----------------------------------------------------------------\n",
      "33.1 K    Trainable params\n",
      "0         Non-trainable params\n",
      "33.1 K    Total params\n",
      "0.132     Total estimated model params size (MB)\n",
      "23        Modules in train mode\n",
      "0         Modules in eval mode\n"
     ]
    },
    {
     "name": "stdout",
     "output_type": "stream",
     "text": [
      "Epoch 0: 100%|██████████| 42/42 [00:01<00:00, 27.17it/s, v_num=99, train_loss=4.920]"
     ]
    },
    {
     "name": "stderr",
     "output_type": "stream",
     "text": [
      "`Trainer.fit` stopped: `max_epochs=1` reached.\n"
     ]
    },
    {
     "name": "stdout",
     "output_type": "stream",
     "text": [
      "Epoch 0: 100%|██████████| 42/42 [00:01<00:00, 27.11it/s, v_num=99, train_loss=4.920]\n"
     ]
    },
    {
     "name": "stderr",
     "output_type": "stream",
     "text": [
      "\n",
      "  | Name        | Type                     | Params | Mode \n",
      "-----------------------------------------------------------------\n",
      "0 | torch_model | TransformerTorchBackbone | 33.1 K | train\n",
      "-----------------------------------------------------------------\n",
      "33.1 K    Trainable params\n",
      "0         Non-trainable params\n",
      "33.1 K    Total params\n",
      "0.132     Total estimated model params size (MB)\n",
      "23        Modules in train mode\n",
      "0         Modules in eval mode\n"
     ]
    },
    {
     "name": "stdout",
     "output_type": "stream",
     "text": [
      "Epoch 0: 100%|██████████| 51/51 [00:01<00:00, 30.84it/s, v_num=100, train_loss=4.850]"
     ]
    },
    {
     "name": "stderr",
     "output_type": "stream",
     "text": [
      "`Trainer.fit` stopped: `max_epochs=1` reached.\n"
     ]
    },
    {
     "name": "stdout",
     "output_type": "stream",
     "text": [
      "Epoch 0: 100%|██████████| 51/51 [00:01<00:00, 30.79it/s, v_num=100, train_loss=4.850]\n"
     ]
    },
    {
     "name": "stderr",
     "output_type": "stream",
     "text": [
      "\n",
      "  | Name        | Type                     | Params | Mode \n",
      "-----------------------------------------------------------------\n",
      "0 | torch_model | TransformerTorchBackbone | 33.1 K | train\n",
      "-----------------------------------------------------------------\n",
      "33.1 K    Trainable params\n",
      "0         Non-trainable params\n",
      "33.1 K    Total params\n",
      "0.132     Total estimated model params size (MB)\n",
      "23        Modules in train mode\n",
      "0         Modules in eval mode\n"
     ]
    },
    {
     "name": "stdout",
     "output_type": "stream",
     "text": [
      "Epoch 0: 100%|██████████| 59/59 [00:01<00:00, 30.87it/s, v_num=101, train_loss=4.850]"
     ]
    },
    {
     "name": "stderr",
     "output_type": "stream",
     "text": [
      "`Trainer.fit` stopped: `max_epochs=1` reached.\n"
     ]
    },
    {
     "name": "stdout",
     "output_type": "stream",
     "text": [
      "Epoch 0: 100%|██████████| 59/59 [00:01<00:00, 30.84it/s, v_num=101, train_loss=4.850]\n"
     ]
    },
    {
     "name": "stderr",
     "output_type": "stream",
     "text": [
      "\n",
      "  | Name        | Type                     | Params | Mode \n",
      "-----------------------------------------------------------------\n",
      "0 | torch_model | TransformerTorchBackbone | 33.1 K | train\n",
      "-----------------------------------------------------------------\n",
      "33.1 K    Trainable params\n",
      "0         Non-trainable params\n",
      "33.1 K    Total params\n",
      "0.132     Total estimated model params size (MB)\n",
      "23        Modules in train mode\n",
      "0         Modules in eval mode\n"
     ]
    },
    {
     "name": "stdout",
     "output_type": "stream",
     "text": [
      "Epoch 0: 100%|██████████| 64/64 [00:02<00:00, 25.04it/s, v_num=102, train_loss=4.840]"
     ]
    },
    {
     "name": "stderr",
     "output_type": "stream",
     "text": [
      "`Trainer.fit` stopped: `max_epochs=1` reached.\n"
     ]
    },
    {
     "name": "stdout",
     "output_type": "stream",
     "text": [
      "Epoch 0: 100%|██████████| 64/64 [00:02<00:00, 25.00it/s, v_num=102, train_loss=4.840]\n"
     ]
    },
    {
     "name": "stderr",
     "output_type": "stream",
     "text": [
      "\n",
      "  | Name        | Type                     | Params | Mode \n",
      "-----------------------------------------------------------------\n",
      "0 | torch_model | TransformerTorchBackbone | 33.1 K | train\n",
      "-----------------------------------------------------------------\n",
      "33.1 K    Trainable params\n",
      "0         Non-trainable params\n",
      "33.1 K    Total params\n",
      "0.132     Total estimated model params size (MB)\n",
      "23        Modules in train mode\n",
      "0         Modules in eval mode\n"
     ]
    },
    {
     "name": "stdout",
     "output_type": "stream",
     "text": [
      "Epoch 0: 100%|██████████| 68/68 [00:03<00:00, 19.10it/s, v_num=103, train_loss=4.820]"
     ]
    },
    {
     "name": "stderr",
     "output_type": "stream",
     "text": [
      "`Trainer.fit` stopped: `max_epochs=1` reached.\n"
     ]
    },
    {
     "name": "stdout",
     "output_type": "stream",
     "text": [
      "Epoch 0: 100%|██████████| 68/68 [00:03<00:00, 19.09it/s, v_num=103, train_loss=4.820]\n"
     ]
    },
    {
     "data": {
      "text/html": [
       "<div>\n",
       "<style scoped>\n",
       "    .dataframe tbody tr th:only-of-type {\n",
       "        vertical-align: middle;\n",
       "    }\n",
       "\n",
       "    .dataframe tbody tr th {\n",
       "        vertical-align: top;\n",
       "    }\n",
       "\n",
       "    .dataframe thead th {\n",
       "        text-align: right;\n",
       "    }\n",
       "</style>\n",
       "<table border=\"1\" class=\"dataframe\">\n",
       "  <thead>\n",
       "    <tr style=\"text-align: right;\">\n",
       "      <th></th>\n",
       "      <th>HitRate@6</th>\n",
       "      <th>NDCG@6</th>\n",
       "      <th>CatalogCoverage@6</th>\n",
       "      <th>AvgRecPopularity@6</th>\n",
       "      <th>Serendipity@6</th>\n",
       "      <th>Intersection@6_popular</th>\n",
       "    </tr>\n",
       "    <tr>\n",
       "      <th>model</th>\n",
       "      <th></th>\n",
       "      <th></th>\n",
       "      <th></th>\n",
       "      <th></th>\n",
       "      <th></th>\n",
       "      <th></th>\n",
       "    </tr>\n",
       "  </thead>\n",
       "  <tbody>\n",
       "    <tr>\n",
       "      <th>popular</th>\n",
       "      <td>0.092792</td>\n",
       "      <td>0.015584</td>\n",
       "      <td>0.090</td>\n",
       "      <td>338.883261</td>\n",
       "      <td>0.000016</td>\n",
       "      <td>1.000000</td>\n",
       "    </tr>\n",
       "    <tr>\n",
       "      <th>ease</th>\n",
       "      <td>0.098184</td>\n",
       "      <td>0.016712</td>\n",
       "      <td>1.000</td>\n",
       "      <td>297.286664</td>\n",
       "      <td>0.002996</td>\n",
       "      <td>0.116155</td>\n",
       "    </tr>\n",
       "    <tr>\n",
       "      <th>sasrec</th>\n",
       "      <td>0.086471</td>\n",
       "      <td>0.014707</td>\n",
       "      <td>0.508</td>\n",
       "      <td>316.207987</td>\n",
       "      <td>0.001738</td>\n",
       "      <td>0.257199</td>\n",
       "    </tr>\n",
       "    <tr>\n",
       "      <th>als</th>\n",
       "      <td>0.091879</td>\n",
       "      <td>0.015655</td>\n",
       "      <td>0.708</td>\n",
       "      <td>303.550703</td>\n",
       "      <td>0.002869</td>\n",
       "      <td>0.058312</td>\n",
       "    </tr>\n",
       "  </tbody>\n",
       "</table>\n",
       "</div>"
      ],
      "text/plain": [
       "         HitRate@6    NDCG@6  CatalogCoverage@6  AvgRecPopularity@6  \\\n",
       "model                                                                 \n",
       "popular   0.092792  0.015584              0.090          338.883261   \n",
       "ease      0.098184  0.016712              1.000          297.286664   \n",
       "sasrec    0.086471  0.014707              0.508          316.207987   \n",
       "als       0.091879  0.015655              0.708          303.550703   \n",
       "\n",
       "         Serendipity@6  Intersection@6_popular  \n",
       "model                                           \n",
       "popular       0.000016                1.000000  \n",
       "ease          0.002996                0.116155  \n",
       "sasrec        0.001738                0.257199  \n",
       "als           0.002869                0.058312  "
      ]
     },
     "execution_count": 12,
     "metadata": {},
     "output_type": "execute_result"
    }
   ],
   "source": [
    "splitter = TimeRangeSplitter(\n",
    "    test_size=\"14D\",\n",
    "    n_splits=5,\n",
    "    filter_already_seen=True,\n",
    ")\n",
    "\n",
    "models = {\n",
    "    \"popular\": PopularModel(),\n",
    "    \"ease\": ease,\n",
    "    \"sasrec\": sasrec,\n",
    "    \"als\": als\n",
    "}\n",
    "\n",
    "metrics = {\n",
    "    \"HitRate@6\": HitRate(k=6),\n",
    "    \"NDCG@6\": NDCG(k=6),\n",
    "    \"CatalogCoverage@6\": CatalogCoverage(k=6, normalize=True), # Процент объектов из каталога, которые попали в топ 6 рекомендаций хоть кому-то\n",
    "    \"AvgRecPopularity@6\": AvgRecPopularity(k=6),  # Средняя популярность по топ 6 объектам\n",
    "    \"Intersection@6\": Intersection(k=6),  # Процент объектов в рекомендациях, которая пересекается с топ 6\n",
    "    \"Serendipity@6\": Serendipity(k=6),\n",
    "}\n",
    "\n",
    "K_RECS = 10\n",
    "\n",
    "cv_results = cross_validate(\n",
    "    dataset=dataset,\n",
    "    splitter=splitter,\n",
    "    models=models,\n",
    "    metrics=metrics,\n",
    "    k=K_RECS,\n",
    "    filter_viewed=True,\n",
    "    ref_models=[\"popular\"],  # Модель с которой считаем пересечение\n",
    "    validate_ref_models=True\n",
    ")\n",
    "\n",
    "pivot_results = (\n",
    "    pd.DataFrame(cv_results[\"metrics\"])\n",
    "    .drop(columns=\"i_split\")\n",
    "    .groupby([\"model\"], sort=False)\n",
    "    .agg([\"mean\"])\n",
    ")\n",
    "pivot_results.columns = pivot_results.columns.droplevel(1)\n",
    "pivot_results"
   ]
  },
  {
   "cell_type": "markdown",
   "metadata": {},
   "source": [
    "Обучаем наши модели на 1-ой части данных"
   ]
  },
  {
   "cell_type": "code",
   "execution_count": 13,
   "metadata": {},
   "outputs": [
    {
     "name": "stderr",
     "output_type": "stream",
     "text": [
      "\n",
      "  | Name        | Type                     | Params | Mode \n",
      "-----------------------------------------------------------------\n",
      "0 | torch_model | TransformerTorchBackbone | 33.1 K | train\n",
      "-----------------------------------------------------------------\n",
      "33.1 K    Trainable params\n",
      "0         Non-trainable params\n",
      "33.1 K    Total params\n",
      "0.132     Total estimated model params size (MB)\n",
      "23        Modules in train mode\n",
      "0         Modules in eval mode\n"
     ]
    },
    {
     "name": "stdout",
     "output_type": "stream",
     "text": [
      "Epoch 0: 100%|██████████| 72/72 [00:02<00:00, 29.86it/s, v_num=104, train_loss=4.820]"
     ]
    },
    {
     "name": "stderr",
     "output_type": "stream",
     "text": [
      "`Trainer.fit` stopped: `max_epochs=1` reached.\n"
     ]
    },
    {
     "name": "stdout",
     "output_type": "stream",
     "text": [
      "Epoch 0: 100%|██████████| 72/72 [00:02<00:00, 29.83it/s, v_num=104, train_loss=4.820]\n",
      "CPU times: user 3.58 s, sys: 398 ms, total: 3.98 s\n",
      "Wall time: 3.56 s\n"
     ]
    },
    {
     "data": {
      "text/plain": [
       "<rectools.models.implicit_als.ImplicitALSWrapperModel at 0x124716570>"
      ]
     },
     "execution_count": 13,
     "metadata": {},
     "output_type": "execute_result"
    }
   ],
   "source": [
    "%%time\n",
    "sasrec.fit(dataset)\n",
    "ease.fit(dataset)\n",
    "als.fit(dataset)"
   ]
  },
  {
   "cell_type": "code",
   "execution_count": 14,
   "metadata": {},
   "outputs": [
    {
     "data": {
      "text/html": [
       "<div>\n",
       "<style scoped>\n",
       "    .dataframe tbody tr th:only-of-type {\n",
       "        vertical-align: middle;\n",
       "    }\n",
       "\n",
       "    .dataframe tbody tr th {\n",
       "        vertical-align: top;\n",
       "    }\n",
       "\n",
       "    .dataframe thead th {\n",
       "        text-align: right;\n",
       "    }\n",
       "</style>\n",
       "<table border=\"1\" class=\"dataframe\">\n",
       "  <thead>\n",
       "    <tr style=\"text-align: right;\">\n",
       "      <th></th>\n",
       "      <th>user_id</th>\n",
       "      <th>item_id</th>\n",
       "      <th>target</th>\n",
       "      <th>sex_type</th>\n",
       "      <th>genre</th>\n",
       "      <th>mean_users_score</th>\n",
       "      <th>sasrec_score</th>\n",
       "      <th>ease_score</th>\n",
       "      <th>als_score</th>\n",
       "    </tr>\n",
       "  </thead>\n",
       "  <tbody>\n",
       "    <tr>\n",
       "      <th>0</th>\n",
       "      <td>0</td>\n",
       "      <td>11.0</td>\n",
       "      <td>1</td>\n",
       "      <td>M</td>\n",
       "      <td>Триллер</td>\n",
       "      <td>4.849549</td>\n",
       "      <td>0.122505</td>\n",
       "      <td>0.060622</td>\n",
       "      <td>0.238847</td>\n",
       "    </tr>\n",
       "    <tr>\n",
       "      <th>1</th>\n",
       "      <td>0</td>\n",
       "      <td>73.0</td>\n",
       "      <td>1</td>\n",
       "      <td>M</td>\n",
       "      <td>Триллер</td>\n",
       "      <td>4.077307</td>\n",
       "      <td>0.461171</td>\n",
       "      <td>0.064726</td>\n",
       "      <td>-0.117233</td>\n",
       "    </tr>\n",
       "    <tr>\n",
       "      <th>2</th>\n",
       "      <td>0</td>\n",
       "      <td>31.0</td>\n",
       "      <td>1</td>\n",
       "      <td>M</td>\n",
       "      <td>Триллер</td>\n",
       "      <td>0.852621</td>\n",
       "      <td>0.453634</td>\n",
       "      <td>0.066657</td>\n",
       "      <td>0.088812</td>\n",
       "    </tr>\n",
       "    <tr>\n",
       "      <th>3</th>\n",
       "      <td>0</td>\n",
       "      <td>40.0</td>\n",
       "      <td>1</td>\n",
       "      <td>M</td>\n",
       "      <td>Триллер</td>\n",
       "      <td>0.610191</td>\n",
       "      <td>0.385494</td>\n",
       "      <td>0.063625</td>\n",
       "      <td>0.142132</td>\n",
       "    </tr>\n",
       "    <tr>\n",
       "      <th>4</th>\n",
       "      <td>0</td>\n",
       "      <td>83.0</td>\n",
       "      <td>1</td>\n",
       "      <td>M</td>\n",
       "      <td>Триллер</td>\n",
       "      <td>0.317792</td>\n",
       "      <td>0.522651</td>\n",
       "      <td>0.063909</td>\n",
       "      <td>0.084163</td>\n",
       "    </tr>\n",
       "    <tr>\n",
       "      <th>...</th>\n",
       "      <td>...</td>\n",
       "      <td>...</td>\n",
       "      <td>...</td>\n",
       "      <td>...</td>\n",
       "      <td>...</td>\n",
       "      <td>...</td>\n",
       "      <td>...</td>\n",
       "      <td>...</td>\n",
       "      <td>...</td>\n",
       "    </tr>\n",
       "    <tr>\n",
       "      <th>743735</th>\n",
       "      <td>9999</td>\n",
       "      <td>32.0</td>\n",
       "      <td>0</td>\n",
       "      <td>M</td>\n",
       "      <td>Драма</td>\n",
       "      <td>0.325258</td>\n",
       "      <td>0.058784</td>\n",
       "      <td>0.021824</td>\n",
       "      <td>0.027490</td>\n",
       "    </tr>\n",
       "    <tr>\n",
       "      <th>743736</th>\n",
       "      <td>9999</td>\n",
       "      <td>6.0</td>\n",
       "      <td>0</td>\n",
       "      <td>M</td>\n",
       "      <td>Фантастика</td>\n",
       "      <td>0.290418</td>\n",
       "      <td>0.246226</td>\n",
       "      <td>0.014991</td>\n",
       "      <td>-0.039314</td>\n",
       "    </tr>\n",
       "    <tr>\n",
       "      <th>743737</th>\n",
       "      <td>9999</td>\n",
       "      <td>29.0</td>\n",
       "      <td>0</td>\n",
       "      <td>M</td>\n",
       "      <td>Комедия</td>\n",
       "      <td>0.232252</td>\n",
       "      <td>-0.081325</td>\n",
       "      <td>0.005127</td>\n",
       "      <td>-0.009045</td>\n",
       "    </tr>\n",
       "    <tr>\n",
       "      <th>743738</th>\n",
       "      <td>9999</td>\n",
       "      <td>58.0</td>\n",
       "      <td>0</td>\n",
       "      <td>M</td>\n",
       "      <td>Триллер</td>\n",
       "      <td>0.226136</td>\n",
       "      <td>0.509539</td>\n",
       "      <td>0.019095</td>\n",
       "      <td>-0.132416</td>\n",
       "    </tr>\n",
       "    <tr>\n",
       "      <th>743739</th>\n",
       "      <td>9999</td>\n",
       "      <td>0.0</td>\n",
       "      <td>0</td>\n",
       "      <td>M</td>\n",
       "      <td>0</td>\n",
       "      <td>0.000000</td>\n",
       "      <td>0.000000</td>\n",
       "      <td>0.000000</td>\n",
       "      <td>0.000000</td>\n",
       "    </tr>\n",
       "  </tbody>\n",
       "</table>\n",
       "<p>743740 rows × 9 columns</p>\n",
       "</div>"
      ],
      "text/plain": [
       "        user_id  item_id  target sex_type       genre  mean_users_score  \\\n",
       "0             0     11.0       1        M     Триллер          4.849549   \n",
       "1             0     73.0       1        M     Триллер          4.077307   \n",
       "2             0     31.0       1        M     Триллер          0.852621   \n",
       "3             0     40.0       1        M     Триллер          0.610191   \n",
       "4             0     83.0       1        M     Триллер          0.317792   \n",
       "...         ...      ...     ...      ...         ...               ...   \n",
       "743735     9999     32.0       0        M       Драма          0.325258   \n",
       "743736     9999      6.0       0        M  Фантастика          0.290418   \n",
       "743737     9999     29.0       0        M     Комедия          0.232252   \n",
       "743738     9999     58.0       0        M     Триллер          0.226136   \n",
       "743739     9999      0.0       0        M           0          0.000000   \n",
       "\n",
       "        sasrec_score  ease_score  als_score  \n",
       "0           0.122505    0.060622   0.238847  \n",
       "1           0.461171    0.064726  -0.117233  \n",
       "2           0.453634    0.066657   0.088812  \n",
       "3           0.385494    0.063625   0.142132  \n",
       "4           0.522651    0.063909   0.084163  \n",
       "...              ...         ...        ...  \n",
       "743735      0.058784    0.021824   0.027490  \n",
       "743736      0.246226    0.014991  -0.039314  \n",
       "743737     -0.081325    0.005127  -0.009045  \n",
       "743738      0.509539    0.019095  -0.132416  \n",
       "743739      0.000000    0.000000   0.000000  \n",
       "\n",
       "[743740 rows x 9 columns]"
      ]
     },
     "execution_count": 14,
     "metadata": {},
     "output_type": "execute_result"
    }
   ],
   "source": [
    "# Скорим базовые модели\n",
    "recom_sasrec = sasrec.recommend(users=dataset.user_id_map.external_ids, dataset=dataset, filter_viewed=True, k=100).drop(columns=['rank']).rename(columns={\"score\": \"sasrec_score\"})\n",
    "recom_ease = ease.recommend(users=dataset.user_id_map.external_ids, dataset=dataset, filter_viewed=True, k=100).drop(columns=['rank']).rename(columns={\"score\": \"ease_score\"})\n",
    "recom_als = als.recommend(users=dataset.user_id_map.external_ids, dataset=dataset, filter_viewed=True, k=100).drop(columns=['rank']).rename(columns={\"score\": \"als_score\"})\n",
    "\n",
    "# Обучаемся - на логах\n",
    "target_df = interactions_second_period[[\"user_id\", \"item_id\"]].drop_duplicates()\n",
    "target_df[\"target\"] = interactions_second_period[\"action\"].map({\"click\": 1, \"show\": 0})\n",
    "\n",
    "# Собираем общий датасет\n",
    "all_features = target_df\n",
    "all_features = all_features.merge(users, on=[\"user_id\"], how=\"left\")\n",
    "all_features = all_features.merge(items, on=[\"item_id\"], how=\"left\")\n",
    "all_features = all_features.merge(recom_sasrec, on=[\"user_id\", \"item_id\"], how=\"left\")\n",
    "all_features = all_features.merge(recom_ease, on=[\"user_id\", \"item_id\"], how=\"left\")\n",
    "all_features = all_features.merge(recom_als, on=[\"user_id\", \"item_id\"], how=\"left\")\n",
    "\n",
    "all_features = all_features.fillna(0)\n",
    "\n",
    "all_features"
   ]
  },
  {
   "cell_type": "code",
   "execution_count": 15,
   "metadata": {},
   "outputs": [],
   "source": [
    "# Разделяем пользователей на тренировочную и валидационную выборки - важно что бы пользователь полностью попал либо в трейн, kb,j d dfkblfwb.\n",
    "train_users, val_users = train_test_split(all_features[\"user_id\"].drop_duplicates(), test_size=0.25, random_state=42)\n",
    "\n",
    "data_train = all_features[all_features[\"user_id\"].isin(train_users)].sort_values(\"user_id\")\n",
    "data_val = all_features[all_features[\"user_id\"].isin(val_users)].sort_values(\"user_id\")\n",
    "\n",
    "X_train = data_train.drop(columns=\"target\")\n",
    "X_val = data_val.drop(columns=\"target\")\n",
    "y_train = data_train[\"target\"]\n",
    "y_val = data_val[\"target\"]"
   ]
  },
  {
   "cell_type": "code",
   "execution_count": 16,
   "metadata": {},
   "outputs": [
    {
     "name": "stdout",
     "output_type": "stream",
     "text": [
      "Groupwise loss function. OneHotMaxSize set to 10\n",
      "0:\ttest: 0.4287238\tbest: 0.4287238 (0)\ttotal: 372ms\tremaining: 36.8s\n",
      "1:\ttest: 0.4693830\tbest: 0.4693830 (1)\ttotal: 608ms\tremaining: 29.8s\n",
      "2:\ttest: 0.5582276\tbest: 0.5582276 (2)\ttotal: 884ms\tremaining: 28.6s\n",
      "3:\ttest: 0.5853166\tbest: 0.5853166 (3)\ttotal: 1.15s\tremaining: 27.6s\n",
      "4:\ttest: 0.5959806\tbest: 0.5959806 (4)\ttotal: 1.41s\tremaining: 26.8s\n",
      "5:\ttest: 0.6169102\tbest: 0.6169102 (5)\ttotal: 1.7s\tremaining: 26.6s\n",
      "6:\ttest: 0.6356061\tbest: 0.6356061 (6)\ttotal: 2.02s\tremaining: 26.8s\n",
      "7:\ttest: 0.6362885\tbest: 0.6362885 (7)\ttotal: 2.28s\tremaining: 26.3s\n",
      "8:\ttest: 0.6526930\tbest: 0.6526930 (8)\ttotal: 2.55s\tremaining: 25.8s\n",
      "9:\ttest: 0.6576445\tbest: 0.6576445 (9)\ttotal: 2.81s\tremaining: 25.3s\n",
      "10:\ttest: 0.6652255\tbest: 0.6652255 (10)\ttotal: 3.1s\tremaining: 25.1s\n",
      "11:\ttest: 0.6737283\tbest: 0.6737283 (11)\ttotal: 3.43s\tremaining: 25.2s\n",
      "12:\ttest: 0.6797740\tbest: 0.6797740 (12)\ttotal: 3.69s\tremaining: 24.7s\n",
      "13:\ttest: 0.6807699\tbest: 0.6807699 (13)\ttotal: 3.96s\tremaining: 24.3s\n",
      "14:\ttest: 0.6803247\tbest: 0.6807699 (13)\ttotal: 4.22s\tremaining: 23.9s\n",
      "15:\ttest: 0.6802594\tbest: 0.6807699 (13)\ttotal: 4.48s\tremaining: 23.5s\n",
      "16:\ttest: 0.6863306\tbest: 0.6863306 (16)\ttotal: 4.77s\tremaining: 23.3s\n",
      "17:\ttest: 0.6885236\tbest: 0.6885236 (17)\ttotal: 5.02s\tremaining: 22.9s\n",
      "18:\ttest: 0.6886313\tbest: 0.6886313 (18)\ttotal: 5.33s\tremaining: 22.7s\n",
      "19:\ttest: 0.6901617\tbest: 0.6901617 (19)\ttotal: 5.58s\tremaining: 22.3s\n",
      "20:\ttest: 0.6909355\tbest: 0.6909355 (20)\ttotal: 5.84s\tremaining: 22s\n",
      "21:\ttest: 0.6924439\tbest: 0.6924439 (21)\ttotal: 6.11s\tremaining: 21.6s\n",
      "22:\ttest: 0.6920881\tbest: 0.6924439 (21)\ttotal: 6.39s\tremaining: 21.4s\n",
      "23:\ttest: 0.6928632\tbest: 0.6928632 (23)\ttotal: 6.66s\tremaining: 21.1s\n",
      "24:\ttest: 0.6928058\tbest: 0.6928632 (23)\ttotal: 6.94s\tremaining: 20.8s\n",
      "25:\ttest: 0.6942299\tbest: 0.6942299 (25)\ttotal: 7.22s\tremaining: 20.5s\n",
      "26:\ttest: 0.6936264\tbest: 0.6942299 (25)\ttotal: 7.53s\tremaining: 20.4s\n",
      "27:\ttest: 0.6946253\tbest: 0.6946253 (27)\ttotal: 7.82s\tremaining: 20.1s\n",
      "28:\ttest: 0.6947958\tbest: 0.6947958 (28)\ttotal: 8.09s\tremaining: 19.8s\n",
      "29:\ttest: 0.6948615\tbest: 0.6948615 (29)\ttotal: 8.38s\tremaining: 19.6s\n",
      "30:\ttest: 0.6951404\tbest: 0.6951404 (30)\ttotal: 8.66s\tremaining: 19.3s\n",
      "31:\ttest: 0.6956491\tbest: 0.6956491 (31)\ttotal: 8.92s\tremaining: 18.9s\n",
      "32:\ttest: 0.6955200\tbest: 0.6956491 (31)\ttotal: 9.19s\tremaining: 18.7s\n",
      "33:\ttest: 0.6957509\tbest: 0.6957509 (33)\ttotal: 9.51s\tremaining: 18.5s\n",
      "34:\ttest: 0.6955197\tbest: 0.6957509 (33)\ttotal: 9.79s\tremaining: 18.2s\n",
      "35:\ttest: 0.6956128\tbest: 0.6957509 (33)\ttotal: 10.1s\tremaining: 17.9s\n",
      "36:\ttest: 0.6957778\tbest: 0.6957778 (36)\ttotal: 10.3s\tremaining: 17.6s\n",
      "37:\ttest: 0.6957194\tbest: 0.6957778 (36)\ttotal: 10.6s\tremaining: 17.3s\n",
      "38:\ttest: 0.6955875\tbest: 0.6957778 (36)\ttotal: 10.9s\tremaining: 17s\n",
      "39:\ttest: 0.6954665\tbest: 0.6957778 (36)\ttotal: 11.2s\tremaining: 16.8s\n",
      "Stopped by overfitting detector  (3 iterations wait)\n",
      "\n",
      "bestTest = 0.6957778301\n",
      "bestIteration = 36\n",
      "\n",
      "Shrink model to first 37 iterations.\n"
     ]
    },
    {
     "data": {
      "text/plain": [
       "<catboost.core.CatBoostRanker at 0x12e0fcdd0>"
      ]
     },
     "execution_count": 16,
     "metadata": {},
     "output_type": "execute_result"
    }
   ],
   "source": [
    "train_pool = Pool(data=X_train.drop(columns=[\"user_id\", \"item_id\"]), label=y_train, group_id=X_train[\"user_id\"], cat_features=['sex_type', 'genre'])\n",
    "val_pool = Pool(data=X_val.drop(columns=[\"user_id\", \"item_id\"]), label=y_val, group_id=X_val[\"user_id\"], cat_features=['sex_type', 'genre'])\n",
    "\n",
    "\n",
    "model = CatBoostRanker(\n",
    "    iterations=100,             \n",
    "    learning_rate=0.1,          \n",
    "    depth=6,                    \n",
    "    early_stopping_rounds=3\n",
    ")\n",
    "\n",
    "model.fit(train_pool, eval_set=val_pool) \n"
   ]
  }
 ],
 "metadata": {
  "kernelspec": {
   "display_name": "ya_masterclass_12",
   "language": "python",
   "name": "python3"
  },
  "language_info": {
   "codemirror_mode": {
    "name": "ipython",
    "version": 3
   },
   "file_extension": ".py",
   "mimetype": "text/x-python",
   "name": "python",
   "nbconvert_exporter": "python",
   "pygments_lexer": "ipython3",
   "version": "3.12.11"
  }
 },
 "nbformat": 4,
 "nbformat_minor": 2
}
