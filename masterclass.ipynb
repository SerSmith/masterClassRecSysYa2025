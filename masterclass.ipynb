{
 "cells": [
  {
   "cell_type": "code",
   "execution_count": 1,
   "metadata": {},
   "outputs": [],
   "source": [
    "import os\n",
    "os.environ[\"OPENBLAS_NUM_THREADS\"] = \"1\"\n",
    "os.environ[\"OMP_NUM_THREADS\"] = \"1\"\n",
    "\n",
    "import threadpoolctl\n",
    "threadpoolctl.threadpool_limits(1, \"blas\")\n",
    "\n",
    "import warnings\n",
    "warnings.filterwarnings('ignore')\n",
    "\n",
    "\n",
    "import gdown\n",
    "import pandas as pd\n",
    "import seaborn as sns\n",
    "import matplotlib.pyplot as plt\n",
    "\n",
    "\n",
    "from sklearn.model_selection import train_test_split\n",
    "\n",
    "from rectools.dataset import Dataset\n",
    "from rectools.metrics import (\n",
    "    NDCG,\n",
    "    AvgRecPopularity,\n",
    "    Intersection,\n",
    "    HitRate,\n",
    "    Serendipity,\n",
    "    CatalogCoverage\n",
    ")\n",
    "from rectools.models import PopularModel,EASEModel, SASRecModel, ImplicitALSWrapperModel\n",
    "from rectools.model_selection import TimeRangeSplitter, cross_validate\n",
    "\n",
    "from implicit.als import AlternatingLeastSquares\n",
    "from catboost import CatBoostRanker, Pool\n"
   ]
  },
  {
   "cell_type": "code",
   "execution_count": 2,
   "metadata": {},
   "outputs": [
    {
     "data": {
      "text/plain": [
       "'data/interactions.csv'"
      ]
     },
     "execution_count": 2,
     "metadata": {},
     "output_type": "execute_result"
    }
   ],
   "source": [
    "\n",
    "gdown.download(url=\"https://drive.google.com/uc?export=download&id=19yJocNbDNTQUDYGPHk00whKtrE2uQU9i\", output=\"data/interactions.csv\", quiet=True)\n"
   ]
  },
  {
   "cell_type": "code",
   "execution_count": 3,
   "metadata": {},
   "outputs": [],
   "source": [
    "interactions = pd.read_csv(\"data/interactions.csv\")\n",
    "items = pd.read_csv(\"data/items.csv\")\n",
    "users = pd.read_csv(\"data/users.csv\")"
   ]
  },
  {
   "cell_type": "markdown",
   "metadata": {},
   "source": [
    "# EDA"
   ]
  },
  {
   "cell_type": "markdown",
   "metadata": {},
   "source": [
    "Посмотрим на данные"
   ]
  },
  {
   "cell_type": "code",
   "execution_count": 4,
   "metadata": {},
   "outputs": [
    {
     "data": {
      "application/vnd.microsoft.datawrangler.viewer.v0+json": {
       "columns": [
        {
         "name": "index",
         "rawType": "int64",
         "type": "integer"
        },
        {
         "name": "user_id",
         "rawType": "int64",
         "type": "integer"
        },
        {
         "name": "item_id",
         "rawType": "float64",
         "type": "float"
        },
        {
         "name": "datetime",
         "rawType": "object",
         "type": "string"
        },
        {
         "name": "action",
         "rawType": "object",
         "type": "string"
        }
       ],
       "ref": "5ad59702-bdcd-4ce4-b873-7c365eaf6ad0",
       "rows": [
        [
         "0",
         "0",
         "11.0",
         "2025-05-28 07:36:48.225275608",
         "click"
        ],
        [
         "1",
         "0",
         "73.0",
         "2025-07-21 17:26:51.803754354",
         "click"
        ],
        [
         "2",
         "0",
         "51.0",
         "2025-05-05 20:20:44.838313014",
         "click"
        ],
        [
         "3",
         "0",
         "74.0",
         "2025-04-29 05:29:06.051551314",
         "click"
        ],
        [
         "4",
         "0",
         "38.0",
         "2025-04-07 14:57:00.062975580",
         "click"
        ],
        [
         "5",
         "0",
         "45.0",
         "2025-02-21 09:55:56.209414605",
         "click"
        ],
        [
         "6",
         "0",
         "19.0",
         "2025-02-13 04:12:50.207997084",
         "click"
        ],
        [
         "7",
         "0",
         "31.0",
         "2025-08-05 20:03:19.774734692",
         "click"
        ],
        [
         "8",
         "0",
         "4.0",
         "2025-02-01 20:00:18.882919865",
         "click"
        ],
        [
         "9",
         "0",
         "5.0",
         "2025-03-20 22:48:47.021005170",
         "click"
        ],
        [
         "10",
         "0",
         "40.0",
         "2025-07-23 02:06:27.067619620",
         "click"
        ],
        [
         "11",
         "0",
         "83.0",
         "2025-07-28 10:19:21.143266610",
         "click"
        ],
        [
         "12",
         "0",
         "58.0",
         "2025-03-22 20:03:11.492253218",
         "click"
        ],
        [
         "13",
         "1",
         "88.0",
         "2025-05-08 00:31:15.787331722",
         "click"
        ],
        [
         "14",
         "1",
         "76.0",
         "2025-05-12 13:16:12.066709432",
         "click"
        ],
        [
         "15",
         "1",
         "38.0",
         "2025-07-03 23:37:06.070832968",
         "click"
        ],
        [
         "16",
         "1",
         "18.0",
         "2025-07-17 00:32:13.430337138",
         "click"
        ],
        [
         "17",
         "1",
         "23.0",
         "2025-08-05 16:51:35.483215620",
         "click"
        ],
        [
         "18",
         "1",
         "61.0",
         "2025-03-09 23:03:56.885289867",
         "click"
        ],
        [
         "19",
         "1",
         "42.0",
         "2025-06-28 05:44:31.061972216",
         "click"
        ],
        [
         "20",
         "1",
         "72.0",
         "2025-01-20 18:09:09.299875360",
         "click"
        ],
        [
         "21",
         "2",
         "1.0",
         "2025-06-18 01:50:26.674453230",
         "click"
        ],
        [
         "22",
         "2",
         "33.0",
         "2025-08-14 21:24:01.589250692",
         "click"
        ],
        [
         "23",
         "2",
         "25.0",
         "2025-02-06 05:05:40.853421721",
         "click"
        ],
        [
         "24",
         "2",
         "75.0",
         "2025-05-09 07:44:41.050228014",
         "click"
        ],
        [
         "25",
         "2",
         "91.0",
         "2025-05-22 14:26:54.924687044",
         "click"
        ],
        [
         "26",
         "2",
         "96.0",
         "2025-04-03 05:54:54.687947469",
         "click"
        ],
        [
         "27",
         "2",
         "18.0",
         "2025-06-02 11:24:32.632378900",
         "click"
        ],
        [
         "28",
         "2",
         "16.0",
         "2025-03-31 09:00:52.756015485",
         "click"
        ],
        [
         "29",
         "2",
         "19.0",
         "2025-07-29 13:43:32.839121276",
         "click"
        ],
        [
         "30",
         "2",
         "71.0",
         "2025-06-08 02:28:55.468327136",
         "click"
        ],
        [
         "31",
         "2",
         "15.0",
         "2025-07-15 13:45:06.219389092",
         "click"
        ],
        [
         "32",
         "2",
         "4.0",
         "2025-03-07 05:51:35.495467999",
         "click"
        ],
        [
         "33",
         "3",
         "69.0",
         "2025-01-24 20:54:37.376718652",
         "click"
        ],
        [
         "34",
         "4",
         "11.0",
         "2025-05-05 02:18:47.326882408",
         "click"
        ],
        [
         "35",
         "4",
         "34.0",
         "2025-07-08 09:05:00.394138974",
         "click"
        ],
        [
         "36",
         "4",
         "1.0",
         "2025-06-08 12:03:43.451077586",
         "click"
        ],
        [
         "37",
         "4",
         "73.0",
         "2025-01-07 02:28:59.489945040",
         "click"
        ],
        [
         "38",
         "4",
         "45.0",
         "2025-08-20 09:59:13.465722612",
         "click"
        ],
        [
         "39",
         "4",
         "93.0",
         "2025-08-09 20:17:00.545174448",
         "click"
        ],
        [
         "40",
         "4",
         "66.0",
         "2025-08-15 20:37:31.505709540",
         "click"
        ],
        [
         "41",
         "4",
         "37.0",
         "2025-01-30 19:59:54.438212984",
         "click"
        ],
        [
         "42",
         "4",
         "83.0",
         "2025-02-12 02:26:41.687982896",
         "click"
        ],
        [
         "43",
         "5",
         "70.0",
         "2025-02-12 17:07:00.387127546",
         "click"
        ],
        [
         "44",
         "5",
         "76.0",
         "2025-02-18 11:03:06.466734206",
         "click"
        ],
        [
         "45",
         "5",
         "86.0",
         "2025-03-27 09:31:12.791395448",
         "click"
        ],
        [
         "46",
         "5",
         "17.0",
         "2025-03-17 19:25:47.043558293",
         "click"
        ],
        [
         "47",
         "5",
         "41.0",
         "2025-06-07 04:47:26.382889792",
         "click"
        ],
        [
         "48",
         "5",
         "97.0",
         "2025-06-22 13:19:49.483686600",
         "click"
        ],
        [
         "49",
         "5",
         "46.0",
         "2025-05-21 05:24:56.387137744",
         "click"
        ]
       ],
       "shape": {
        "columns": 4,
        "rows": 3941448
       }
      },
      "text/html": [
       "<div>\n",
       "<style scoped>\n",
       "    .dataframe tbody tr th:only-of-type {\n",
       "        vertical-align: middle;\n",
       "    }\n",
       "\n",
       "    .dataframe tbody tr th {\n",
       "        vertical-align: top;\n",
       "    }\n",
       "\n",
       "    .dataframe thead th {\n",
       "        text-align: right;\n",
       "    }\n",
       "</style>\n",
       "<table border=\"1\" class=\"dataframe\">\n",
       "  <thead>\n",
       "    <tr style=\"text-align: right;\">\n",
       "      <th></th>\n",
       "      <th>user_id</th>\n",
       "      <th>item_id</th>\n",
       "      <th>datetime</th>\n",
       "      <th>action</th>\n",
       "    </tr>\n",
       "  </thead>\n",
       "  <tbody>\n",
       "    <tr>\n",
       "      <th>0</th>\n",
       "      <td>0</td>\n",
       "      <td>11.0</td>\n",
       "      <td>2025-05-28 07:36:48.225275608</td>\n",
       "      <td>click</td>\n",
       "    </tr>\n",
       "    <tr>\n",
       "      <th>1</th>\n",
       "      <td>0</td>\n",
       "      <td>73.0</td>\n",
       "      <td>2025-07-21 17:26:51.803754354</td>\n",
       "      <td>click</td>\n",
       "    </tr>\n",
       "    <tr>\n",
       "      <th>2</th>\n",
       "      <td>0</td>\n",
       "      <td>51.0</td>\n",
       "      <td>2025-05-05 20:20:44.838313014</td>\n",
       "      <td>click</td>\n",
       "    </tr>\n",
       "    <tr>\n",
       "      <th>3</th>\n",
       "      <td>0</td>\n",
       "      <td>74.0</td>\n",
       "      <td>2025-04-29 05:29:06.051551314</td>\n",
       "      <td>click</td>\n",
       "    </tr>\n",
       "    <tr>\n",
       "      <th>4</th>\n",
       "      <td>0</td>\n",
       "      <td>38.0</td>\n",
       "      <td>2025-04-07 14:57:00.062975580</td>\n",
       "      <td>click</td>\n",
       "    </tr>\n",
       "    <tr>\n",
       "      <th>...</th>\n",
       "      <td>...</td>\n",
       "      <td>...</td>\n",
       "      <td>...</td>\n",
       "      <td>...</td>\n",
       "    </tr>\n",
       "    <tr>\n",
       "      <th>3941443</th>\n",
       "      <td>9999</td>\n",
       "      <td>6.0</td>\n",
       "      <td>2025-07-12 18:48:25.630890802</td>\n",
       "      <td>show</td>\n",
       "    </tr>\n",
       "    <tr>\n",
       "      <th>3941444</th>\n",
       "      <td>9999</td>\n",
       "      <td>29.0</td>\n",
       "      <td>2025-07-12 18:48:25.630890802</td>\n",
       "      <td>show</td>\n",
       "    </tr>\n",
       "    <tr>\n",
       "      <th>3941445</th>\n",
       "      <td>9999</td>\n",
       "      <td>58.0</td>\n",
       "      <td>2025-07-12 18:48:25.630890802</td>\n",
       "      <td>show</td>\n",
       "    </tr>\n",
       "    <tr>\n",
       "      <th>3941446</th>\n",
       "      <td>9999</td>\n",
       "      <td>NaN</td>\n",
       "      <td>2025-07-05 06:57:18.551431996</td>\n",
       "      <td>show</td>\n",
       "    </tr>\n",
       "    <tr>\n",
       "      <th>3941447</th>\n",
       "      <td>9999</td>\n",
       "      <td>NaN</td>\n",
       "      <td>2025-04-06 06:03:33.936542636</td>\n",
       "      <td>show</td>\n",
       "    </tr>\n",
       "  </tbody>\n",
       "</table>\n",
       "<p>3941448 rows × 4 columns</p>\n",
       "</div>"
      ],
      "text/plain": [
       "         user_id  item_id                       datetime action\n",
       "0              0     11.0  2025-05-28 07:36:48.225275608  click\n",
       "1              0     73.0  2025-07-21 17:26:51.803754354  click\n",
       "2              0     51.0  2025-05-05 20:20:44.838313014  click\n",
       "3              0     74.0  2025-04-29 05:29:06.051551314  click\n",
       "4              0     38.0  2025-04-07 14:57:00.062975580  click\n",
       "...          ...      ...                            ...    ...\n",
       "3941443     9999      6.0  2025-07-12 18:48:25.630890802   show\n",
       "3941444     9999     29.0  2025-07-12 18:48:25.630890802   show\n",
       "3941445     9999     58.0  2025-07-12 18:48:25.630890802   show\n",
       "3941446     9999      NaN  2025-07-05 06:57:18.551431996   show\n",
       "3941447     9999      NaN  2025-04-06 06:03:33.936542636   show\n",
       "\n",
       "[3941448 rows x 4 columns]"
      ]
     },
     "execution_count": 4,
     "metadata": {},
     "output_type": "execute_result"
    }
   ],
   "source": [
    "interactions"
   ]
  },
  {
   "cell_type": "code",
   "execution_count": 5,
   "metadata": {},
   "outputs": [
    {
     "data": {
      "application/vnd.microsoft.datawrangler.viewer.v0+json": {
       "columns": [
        {
         "name": "action",
         "rawType": "object",
         "type": "string"
        },
        {
         "name": "count",
         "rawType": "int64",
         "type": "integer"
        }
       ],
       "ref": "578640b6-2541-4ac1-b8bf-b00e5a2a5afa",
       "rows": [
        [
         "show",
         "3861511"
        ],
        [
         "click",
         "79937"
        ]
       ],
       "shape": {
        "columns": 1,
        "rows": 2
       }
      },
      "text/plain": [
       "action\n",
       "show     3861511\n",
       "click      79937\n",
       "Name: count, dtype: int64"
      ]
     },
     "execution_count": 5,
     "metadata": {},
     "output_type": "execute_result"
    }
   ],
   "source": [
    "interactions['action'].value_counts()"
   ]
  },
  {
   "cell_type": "code",
   "execution_count": 6,
   "metadata": {},
   "outputs": [
    {
     "data": {
      "image/png": "[encoded data removed]",
      "text/plain": [
       "<Figure size 1000x1000 with 1 Axes>"
      ]
     },
     "metadata": {},
     "output_type": "display_data"
    }
   ],
   "source": [
    "interactions_plot_df = interactions.copy()\n",
    "interactions_plot_df[\"date\"] = pd.to_datetime(interactions_plot_df[\"datetime\"]).dt.date\n",
    "\n",
    "interactions_plot_df = interactions_plot_df.groupby([\"date\"])\\\n",
    "                       [interactions_plot_df.columns[0]].count().reset_index()\n",
    "\n",
    "\n",
    "plt.figure(figsize=(10,10))\n",
    "sns.barplot(x='date', y='user_id', data=interactions_plot_df)\n",
    "plt.xlabel('Дата')\n",
    "plt.xticks([])\n",
    "plt.ylabel('Количество интеракций')\n",
    "plt.title('Количество интеракций в день')\n",
    "plt.grid(True)\n",
    "plt.show()"
   ]
  },
  {
   "cell_type": "code",
   "execution_count": 7,
   "metadata": {},
   "outputs": [
    {
     "data": {
      "application/vnd.microsoft.datawrangler.viewer.v0+json": {
       "columns": [
        {
         "name": "index",
         "rawType": "int64",
         "type": "integer"
        },
        {
         "name": "item_id",
         "rawType": "int64",
         "type": "integer"
        },
        {
         "name": "genre",
         "rawType": "object",
         "type": "string"
        },
        {
         "name": "mean_users_score",
         "rawType": "float64",
         "type": "float"
        }
       ],
       "ref": "bbc13a8a-b191-490f-a7d5-e6d426d690d2",
       "rows": [
        [
         "0",
         "0",
         "Комедия",
         "1.8727005942368125"
        ],
        [
         "1",
         "1",
         "Драма",
         "4.75357153204958"
        ],
        [
         "2",
         "2",
         "Мелодрама",
         "3.659969709057026"
        ],
        [
         "3",
         "3",
         "Драма",
         "2.993292420985183"
        ],
        [
         "4",
         "4",
         "Фантастика",
         "0.7800932022121826"
        ],
        [
         "5",
         "5",
         "Фантастика",
         "0.7799726016810132"
        ],
        [
         "6",
         "6",
         "Фантастика",
         "0.2904180608409973"
        ],
        [
         "7",
         "7",
         "Драма",
         "4.330880728874676"
        ],
        [
         "8",
         "8",
         "Драма",
         "3.005575058716044"
        ],
        [
         "9",
         "9",
         "Триллер",
         "3.540362888980227"
        ],
        [
         "10",
         "10",
         "Комедия",
         "0.1029224714790122"
        ],
        [
         "11",
         "11",
         "Триллер",
         "4.8495492608099715"
        ],
        [
         "12",
         "12",
         "Мелодрама",
         "4.162213204002109"
        ],
        [
         "13",
         "13",
         "Мелодрама",
         "1.0616955533913808"
        ],
        [
         "14",
         "14",
         "Драма",
         "0.9091248360355032"
        ],
        [
         "15",
         "15",
         "Триллер",
         "0.9170225492671692"
        ],
        [
         "16",
         "16",
         "Драма",
         "1.5212112147976886"
        ],
        [
         "17",
         "17",
         "Фантастика",
         "2.6237821581611893"
        ],
        [
         "18",
         "18",
         "Драма",
         "2.1597250932105787"
        ],
        [
         "19",
         "19",
         "Мелодрама",
         "1.4561457009902097"
        ],
        [
         "20",
         "20",
         "Мелодрама",
         "3.0592644736118975"
        ],
        [
         "21",
         "21",
         "Фантастика",
         "0.6974693032602092"
        ],
        [
         "22",
         "22",
         "Триллер",
         "1.4607232426760908"
        ],
        [
         "23",
         "23",
         "Комедия",
         "1.8318092164684583"
        ],
        [
         "24",
         "24",
         "Триллер",
         "2.28034992108518"
        ],
        [
         "25",
         "25",
         "Мелодрама",
         "3.925879806965068"
        ],
        [
         "26",
         "26",
         "Комедия",
         "0.9983689107917988"
        ],
        [
         "27",
         "27",
         "Фантастика",
         "2.571172192068058"
        ],
        [
         "28",
         "28",
         "Драма",
         "2.9620728443102124"
        ],
        [
         "29",
         "29",
         "Комедия",
         "0.2322520635999886"
        ],
        [
         "30",
         "30",
         "Мелодрама",
         "3.0377242595071916"
        ],
        [
         "31",
         "31",
         "Триллер",
         "0.8526206184364576"
        ],
        [
         "32",
         "32",
         "Драма",
         "0.3252579649263976"
        ],
        [
         "33",
         "33",
         "Фантастика",
         "4.7444276862666666"
        ],
        [
         "34",
         "34",
         "Фантастика",
         "4.828160165372797"
        ],
        [
         "35",
         "35",
         "Драма",
         "4.041986740582305"
        ],
        [
         "36",
         "36",
         "Комедия",
         "1.523068845866853"
        ],
        [
         "37",
         "37",
         "Комедия",
         "0.4883605700319193"
        ],
        [
         "38",
         "38",
         "Триллер",
         "3.4211651325607844"
        ],
        [
         "39",
         "39",
         "Фантастика",
         "2.2007624686980067"
        ],
        [
         "40",
         "40",
         "Триллер",
         "0.6101911742238941"
        ],
        [
         "41",
         "41",
         "Мелодрама",
         "2.475884550556351"
        ],
        [
         "42",
         "42",
         "Комедия",
         "0.1719426055760919"
        ],
        [
         "43",
         "43",
         "Мелодрама",
         "4.546602010393911"
        ],
        [
         "44",
         "44",
         "Драма",
         "1.2938999080000846"
        ],
        [
         "45",
         "45",
         "Мелодрама",
         "3.31261142176991"
        ],
        [
         "46",
         "46",
         "Мелодрама",
         "1.5585553804470549"
        ],
        [
         "47",
         "47",
         "Фантастика",
         "2.600340105889054"
        ],
        [
         "48",
         "48",
         "Драма",
         "2.7335513967163982"
        ],
        [
         "49",
         "49",
         "Мелодрама",
         "0.9242722776276352"
        ]
       ],
       "shape": {
        "columns": 3,
        "rows": 100
       }
      },
      "text/html": [
       "<div>\n",
       "<style scoped>\n",
       "    .dataframe tbody tr th:only-of-type {\n",
       "        vertical-align: middle;\n",
       "    }\n",
       "\n",
       "    .dataframe tbody tr th {\n",
       "        vertical-align: top;\n",
       "    }\n",
       "\n",
       "    .dataframe thead th {\n",
       "        text-align: right;\n",
       "    }\n",
       "</style>\n",
       "<table border=\"1\" class=\"dataframe\">\n",
       "  <thead>\n",
       "    <tr style=\"text-align: right;\">\n",
       "      <th></th>\n",
       "      <th>item_id</th>\n",
       "      <th>genre</th>\n",
       "      <th>mean_users_score</th>\n",
       "    </tr>\n",
       "  </thead>\n",
       "  <tbody>\n",
       "    <tr>\n",
       "      <th>0</th>\n",
       "      <td>0</td>\n",
       "      <td>Комедия</td>\n",
       "      <td>1.872701</td>\n",
       "    </tr>\n",
       "    <tr>\n",
       "      <th>1</th>\n",
       "      <td>1</td>\n",
       "      <td>Драма</td>\n",
       "      <td>4.753572</td>\n",
       "    </tr>\n",
       "    <tr>\n",
       "      <th>2</th>\n",
       "      <td>2</td>\n",
       "      <td>Мелодрама</td>\n",
       "      <td>3.659970</td>\n",
       "    </tr>\n",
       "    <tr>\n",
       "      <th>3</th>\n",
       "      <td>3</td>\n",
       "      <td>Драма</td>\n",
       "      <td>2.993292</td>\n",
       "    </tr>\n",
       "    <tr>\n",
       "      <th>4</th>\n",
       "      <td>4</td>\n",
       "      <td>Фантастика</td>\n",
       "      <td>0.780093</td>\n",
       "    </tr>\n",
       "    <tr>\n",
       "      <th>...</th>\n",
       "      <td>...</td>\n",
       "      <td>...</td>\n",
       "      <td>...</td>\n",
       "    </tr>\n",
       "    <tr>\n",
       "      <th>95</th>\n",
       "      <td>95</td>\n",
       "      <td>Мелодрама</td>\n",
       "      <td>2.468978</td>\n",
       "    </tr>\n",
       "    <tr>\n",
       "      <th>96</th>\n",
       "      <td>96</td>\n",
       "      <td>Драма</td>\n",
       "      <td>2.613664</td>\n",
       "    </tr>\n",
       "    <tr>\n",
       "      <th>97</th>\n",
       "      <td>97</td>\n",
       "      <td>Мелодрама</td>\n",
       "      <td>2.137705</td>\n",
       "    </tr>\n",
       "    <tr>\n",
       "      <th>98</th>\n",
       "      <td>98</td>\n",
       "      <td>Мелодрама</td>\n",
       "      <td>0.127096</td>\n",
       "    </tr>\n",
       "    <tr>\n",
       "      <th>99</th>\n",
       "      <td>99</td>\n",
       "      <td>Мелодрама</td>\n",
       "      <td>0.539457</td>\n",
       "    </tr>\n",
       "  </tbody>\n",
       "</table>\n",
       "<p>100 rows × 3 columns</p>\n",
       "</div>"
      ],
      "text/plain": [
       "    item_id       genre  mean_users_score\n",
       "0         0     Комедия          1.872701\n",
       "1         1       Драма          4.753572\n",
       "2         2   Мелодрама          3.659970\n",
       "3         3       Драма          2.993292\n",
       "4         4  Фантастика          0.780093\n",
       "..      ...         ...               ...\n",
       "95       95   Мелодрама          2.468978\n",
       "96       96       Драма          2.613664\n",
       "97       97   Мелодрама          2.137705\n",
       "98       98   Мелодрама          0.127096\n",
       "99       99   Мелодрама          0.539457\n",
       "\n",
       "[100 rows x 3 columns]"
      ]
     },
     "execution_count": 7,
     "metadata": {},
     "output_type": "execute_result"
    }
   ],
   "source": [
    "items"
   ]
  },
  {
   "cell_type": "code",
   "execution_count": 8,
   "metadata": {},
   "outputs": [
    {
     "data": {
      "application/vnd.microsoft.datawrangler.viewer.v0+json": {
       "columns": [
        {
         "name": "genre",
         "rawType": "object",
         "type": "string"
        },
        {
         "name": "count",
         "rawType": "int64",
         "type": "integer"
        }
       ],
       "ref": "5c9077c8-faf5-4f97-ae6d-3a9b2b2624b2",
       "rows": [
        [
         "Мелодрама",
         "27"
        ],
        [
         "Драма",
         "23"
        ],
        [
         "Триллер",
         "18"
        ],
        [
         "Комедия",
         "16"
        ],
        [
         "Фантастика",
         "16"
        ]
       ],
       "shape": {
        "columns": 1,
        "rows": 5
       }
      },
      "text/plain": [
       "genre\n",
       "Мелодрама     27\n",
       "Драма         23\n",
       "Триллер       18\n",
       "Комедия       16\n",
       "Фантастика    16\n",
       "Name: count, dtype: int64"
      ]
     },
     "execution_count": 8,
     "metadata": {},
     "output_type": "execute_result"
    }
   ],
   "source": [
    "items.value_counts(\"genre\")"
   ]
  },
  {
   "cell_type": "code",
   "execution_count": 9,
   "metadata": {},
   "outputs": [
    {
     "data": {
      "application/vnd.microsoft.datawrangler.viewer.v0+json": {
       "columns": [
        {
         "name": "index",
         "rawType": "int64",
         "type": "integer"
        },
        {
         "name": "user_id",
         "rawType": "int64",
         "type": "integer"
        },
        {
         "name": "sex_type",
         "rawType": "object",
         "type": "string"
        }
       ],
       "ref": "3cd83daf-646b-436a-921b-a05e0b1cc679",
       "rows": [
        [
         "0",
         "0",
         "M"
        ],
        [
         "1",
         "1",
         "F"
        ],
        [
         "2",
         "2",
         "M"
        ],
        [
         "3",
         "3",
         "M"
        ],
        [
         "4",
         "4",
         "M"
        ],
        [
         "5",
         "5",
         "M"
        ],
        [
         "6",
         "6",
         "F"
        ],
        [
         "7",
         "7",
         "M"
        ],
        [
         "8",
         "8",
         "F"
        ],
        [
         "9",
         "9",
         "F"
        ],
        [
         "10",
         "10",
         "F"
        ],
        [
         "11",
         "11",
         "M"
        ],
        [
         "12",
         "12",
         "M"
        ],
        [
         "13",
         "13",
         "F"
        ],
        [
         "14",
         "14",
         "M"
        ],
        [
         "15",
         "15",
         "M"
        ],
        [
         "16",
         "16",
         "M"
        ],
        [
         "17",
         "17",
         "M"
        ],
        [
         "18",
         "18",
         "F"
        ],
        [
         "19",
         "19",
         "F"
        ],
        [
         "20",
         "20",
         "F"
        ],
        [
         "21",
         "21",
         "F"
        ],
        [
         "22",
         "22",
         "F"
        ],
        [
         "23",
         "23",
         "F"
        ],
        [
         "24",
         "24",
         "M"
        ],
        [
         "25",
         "25",
         "F"
        ],
        [
         "26",
         "26",
         "F"
        ],
        [
         "27",
         "27",
         "F"
        ],
        [
         "28",
         "28",
         "F"
        ],
        [
         "29",
         "29",
         "F"
        ],
        [
         "30",
         "30",
         "M"
        ],
        [
         "31",
         "31",
         "M"
        ],
        [
         "32",
         "32",
         "F"
        ],
        [
         "33",
         "33",
         "M"
        ],
        [
         "34",
         "34",
         "F"
        ],
        [
         "35",
         "35",
         "M"
        ],
        [
         "36",
         "36",
         "F"
        ],
        [
         "37",
         "37",
         "F"
        ],
        [
         "38",
         "38",
         "M"
        ],
        [
         "39",
         "39",
         "F"
        ],
        [
         "40",
         "40",
         "F"
        ],
        [
         "41",
         "41",
         "F"
        ],
        [
         "42",
         "42",
         "M"
        ],
        [
         "43",
         "43",
         "F"
        ],
        [
         "44",
         "44",
         "F"
        ],
        [
         "45",
         "45",
         "M"
        ],
        [
         "46",
         "46",
         "M"
        ],
        [
         "47",
         "47",
         "F"
        ],
        [
         "48",
         "48",
         "F"
        ],
        [
         "49",
         "49",
         "M"
        ]
       ],
       "shape": {
        "columns": 2,
        "rows": 10000
       }
      },
      "text/html": [
       "<div>\n",
       "<style scoped>\n",
       "    .dataframe tbody tr th:only-of-type {\n",
       "        vertical-align: middle;\n",
       "    }\n",
       "\n",
       "    .dataframe tbody tr th {\n",
       "        vertical-align: top;\n",
       "    }\n",
       "\n",
       "    .dataframe thead th {\n",
       "        text-align: right;\n",
       "    }\n",
       "</style>\n",
       "<table border=\"1\" class=\"dataframe\">\n",
       "  <thead>\n",
       "    <tr style=\"text-align: right;\">\n",
       "      <th></th>\n",
       "      <th>user_id</th>\n",
       "      <th>sex_type</th>\n",
       "    </tr>\n",
       "  </thead>\n",
       "  <tbody>\n",
       "    <tr>\n",
       "      <th>0</th>\n",
       "      <td>0</td>\n",
       "      <td>M</td>\n",
       "    </tr>\n",
       "    <tr>\n",
       "      <th>1</th>\n",
       "      <td>1</td>\n",
       "      <td>F</td>\n",
       "    </tr>\n",
       "    <tr>\n",
       "      <th>2</th>\n",
       "      <td>2</td>\n",
       "      <td>M</td>\n",
       "    </tr>\n",
       "    <tr>\n",
       "      <th>3</th>\n",
       "      <td>3</td>\n",
       "      <td>M</td>\n",
       "    </tr>\n",
       "    <tr>\n",
       "      <th>4</th>\n",
       "      <td>4</td>\n",
       "      <td>M</td>\n",
       "    </tr>\n",
       "    <tr>\n",
       "      <th>...</th>\n",
       "      <td>...</td>\n",
       "      <td>...</td>\n",
       "    </tr>\n",
       "    <tr>\n",
       "      <th>9995</th>\n",
       "      <td>9995</td>\n",
       "      <td>M</td>\n",
       "    </tr>\n",
       "    <tr>\n",
       "      <th>9996</th>\n",
       "      <td>9996</td>\n",
       "      <td>F</td>\n",
       "    </tr>\n",
       "    <tr>\n",
       "      <th>9997</th>\n",
       "      <td>9997</td>\n",
       "      <td>M</td>\n",
       "    </tr>\n",
       "    <tr>\n",
       "      <th>9998</th>\n",
       "      <td>9998</td>\n",
       "      <td>M</td>\n",
       "    </tr>\n",
       "    <tr>\n",
       "      <th>9999</th>\n",
       "      <td>9999</td>\n",
       "      <td>M</td>\n",
       "    </tr>\n",
       "  </tbody>\n",
       "</table>\n",
       "<p>10000 rows × 2 columns</p>\n",
       "</div>"
      ],
      "text/plain": [
       "      user_id sex_type\n",
       "0           0        M\n",
       "1           1        F\n",
       "2           2        M\n",
       "3           3        M\n",
       "4           4        M\n",
       "...       ...      ...\n",
       "9995     9995        M\n",
       "9996     9996        F\n",
       "9997     9997        M\n",
       "9998     9998        M\n",
       "9999     9999        M\n",
       "\n",
       "[10000 rows x 2 columns]"
      ]
     },
     "execution_count": 9,
     "metadata": {},
     "output_type": "execute_result"
    }
   ],
   "source": [
    "users"
   ]
  },
  {
   "cell_type": "code",
   "execution_count": 10,
   "metadata": {},
   "outputs": [
    {
     "data": {
      "application/vnd.microsoft.datawrangler.viewer.v0+json": {
       "columns": [
        {
         "name": "sex_type",
         "rawType": "object",
         "type": "string"
        },
        {
         "name": "count",
         "rawType": "int64",
         "type": "integer"
        }
       ],
       "ref": "82fa26b1-398c-4b59-afe4-7d2b9913975e",
       "rows": [
        [
         "F",
         "5005"
        ],
        [
         "M",
         "4995"
        ]
       ],
       "shape": {
        "columns": 1,
        "rows": 2
       }
      },
      "text/plain": [
       "sex_type\n",
       "F    5005\n",
       "M    4995\n",
       "Name: count, dtype: int64"
      ]
     },
     "execution_count": 10,
     "metadata": {},
     "output_type": "execute_result"
    }
   ],
   "source": [
    "users.value_counts(\"sex_type\")"
   ]
  },
  {
   "cell_type": "markdown",
   "metadata": {},
   "source": [
    "# Готовим модели"
   ]
  },
  {
   "cell_type": "markdown",
   "metadata": {},
   "source": [
    "Разделим выборку на 2 части  по времени:\n",
    "\n",
    "\n",
    "На 1 - ой части мы будем обучать модели, доступные из коробки в rectools, а также считать фичи для катбуста\n",
    "\n",
    "На 2 - ой части мы будем стакать результаты моделей в катбуст"
   ]
  },
  {
   "cell_type": "code",
   "execution_count": 11,
   "metadata": {},
   "outputs": [],
   "source": [
    "interactions[\"weight\"] = 1.0\n",
    "\n",
    "def split_time(datetimes, test_size=0.5):\n",
    "    datetimes_sorted = datetimes.sort_values().reset_index(drop=True)\n",
    "    split_date = datetimes_sorted[int(datetimes_sorted.shape[0] * test_size)]\n",
    "    first_period = datetimes_sorted[datetimes_sorted < split_date].reset_index(drop=True)\n",
    "    second_period = datetimes_sorted[datetimes_sorted >= split_date].reset_index(drop=True)\n",
    "    return first_period, second_period\n",
    "    \n",
    "first_part, second_part = split_time(interactions[\"datetime\"])\n",
    "\n",
    "interactions_first_period = interactions[interactions[\"datetime\"].isin(first_part)]\n",
    "interactions_second_period = interactions[interactions[\"datetime\"].isin(second_part)]\n",
    "\n",
    "# Для некоторых моделе нужны только позитивные взаимодействия\n",
    "positive_interactions_first_period = interactions_first_period[interactions_first_period[\"action\"] == \"click\"]\n"
   ]
  },
  {
   "cell_type": "markdown",
   "metadata": {},
   "source": [
    "Инициируем рекоменедателные модели"
   ]
  },
  {
   "cell_type": "code",
   "execution_count": 12,
   "metadata": {},
   "outputs": [
    {
     "name": "stderr",
     "output_type": "stream",
     "text": [
      "GPU available: True (mps), used: True\n",
      "TPU available: False, using: 0 TPU cores\n",
      "HPU available: False, using: 0 HPUs\n"
     ]
    }
   ],
   "source": [
    "dataset = Dataset.construct(\n",
    "    interactions_df=positive_interactions_first_period,\n",
    ")\n",
    "\n",
    "sasrec = SASRecModel(\n",
    "    session_max_len=20,\n",
    "    loss=\"softmax\",\n",
    "    n_factors=64,\n",
    "    n_blocks=1,\n",
    "    n_heads=4,\n",
    "    dropout_rate=0.2,\n",
    "    lr=0.001,\n",
    "    batch_size=128,\n",
    "    epochs=1,\n",
    "    verbose=1,\n",
    "    deterministic=True,\n",
    ")\n",
    "ease = EASEModel()\n",
    "als = ImplicitALSWrapperModel(AlternatingLeastSquares(factors=32, num_threads=7))"
   ]
  },
  {
   "cell_type": "markdown",
   "metadata": {},
   "source": [
    "Посомтрим качество базовых моделей"
   ]
  },
  {
   "cell_type": "code",
   "execution_count": 13,
   "metadata": {},
   "outputs": [
    {
     "name": "stderr",
     "output_type": "stream",
     "text": [
      "\n",
      "  | Name        | Type                     | Params | Mode \n",
      "-----------------------------------------------------------------\n",
      "0 | torch_model | TransformerTorchBackbone | 33.1 K | train\n",
      "-----------------------------------------------------------------\n",
      "33.1 K    Trainable params\n",
      "0         Non-trainable params\n",
      "33.1 K    Total params\n",
      "0.132     Total estimated model params size (MB)\n",
      "23        Modules in train mode\n",
      "0         Modules in eval mode\n"
     ]
    },
    {
     "name": "stdout",
     "output_type": "stream",
     "text": [
      "Epoch 0: 100%|██████████| 42/42 [00:02<00:00, 19.77it/s, v_num=6, train_loss=nan.0]"
     ]
    },
    {
     "name": "stderr",
     "output_type": "stream",
     "text": [
      "`Trainer.fit` stopped: `max_epochs=1` reached.\n"
     ]
    },
    {
     "name": "stdout",
     "output_type": "stream",
     "text": [
      "Epoch 0: 100%|██████████| 42/42 [00:02<00:00, 19.75it/s, v_num=6, train_loss=nan.0]\n"
     ]
    },
    {
     "name": "stderr",
     "output_type": "stream",
     "text": [
      "\n",
      "  | Name        | Type                     | Params | Mode \n",
      "-----------------------------------------------------------------\n",
      "0 | torch_model | TransformerTorchBackbone | 33.1 K | train\n",
      "-----------------------------------------------------------------\n",
      "33.1 K    Trainable params\n",
      "0         Non-trainable params\n",
      "33.1 K    Total params\n",
      "0.132     Total estimated model params size (MB)\n",
      "23        Modules in train mode\n",
      "0         Modules in eval mode\n"
     ]
    },
    {
     "name": "stdout",
     "output_type": "stream",
     "text": [
      "Epoch 0: 100%|██████████| 51/51 [00:01<00:00, 27.21it/s, v_num=7, train_loss=nan.0]"
     ]
    },
    {
     "name": "stderr",
     "output_type": "stream",
     "text": [
      "`Trainer.fit` stopped: `max_epochs=1` reached.\n"
     ]
    },
    {
     "name": "stdout",
     "output_type": "stream",
     "text": [
      "Epoch 0: 100%|██████████| 51/51 [00:01<00:00, 27.18it/s, v_num=7, train_loss=nan.0]\n"
     ]
    },
    {
     "name": "stderr",
     "output_type": "stream",
     "text": [
      "\n",
      "  | Name        | Type                     | Params | Mode \n",
      "-----------------------------------------------------------------\n",
      "0 | torch_model | TransformerTorchBackbone | 33.1 K | train\n",
      "-----------------------------------------------------------------\n",
      "33.1 K    Trainable params\n",
      "0         Non-trainable params\n",
      "33.1 K    Total params\n",
      "0.132     Total estimated model params size (MB)\n",
      "23        Modules in train mode\n",
      "0         Modules in eval mode\n"
     ]
    },
    {
     "name": "stdout",
     "output_type": "stream",
     "text": [
      "Epoch 0: 100%|██████████| 59/59 [00:02<00:00, 29.20it/s, v_num=8, train_loss=nan.0]"
     ]
    },
    {
     "name": "stderr",
     "output_type": "stream",
     "text": [
      "`Trainer.fit` stopped: `max_epochs=1` reached.\n"
     ]
    },
    {
     "name": "stdout",
     "output_type": "stream",
     "text": [
      "Epoch 0: 100%|██████████| 59/59 [00:02<00:00, 29.18it/s, v_num=8, train_loss=nan.0]\n"
     ]
    },
    {
     "name": "stderr",
     "output_type": "stream",
     "text": [
      "\n",
      "  | Name        | Type                     | Params | Mode \n",
      "-----------------------------------------------------------------\n",
      "0 | torch_model | TransformerTorchBackbone | 33.1 K | train\n",
      "-----------------------------------------------------------------\n",
      "33.1 K    Trainable params\n",
      "0         Non-trainable params\n",
      "33.1 K    Total params\n",
      "0.132     Total estimated model params size (MB)\n",
      "23        Modules in train mode\n",
      "0         Modules in eval mode\n"
     ]
    },
    {
     "name": "stdout",
     "output_type": "stream",
     "text": [
      "Epoch 0: 100%|██████████| 64/64 [00:02<00:00, 28.26it/s, v_num=9, train_loss=nan.0]"
     ]
    },
    {
     "name": "stderr",
     "output_type": "stream",
     "text": [
      "`Trainer.fit` stopped: `max_epochs=1` reached.\n"
     ]
    },
    {
     "name": "stdout",
     "output_type": "stream",
     "text": [
      "Epoch 0: 100%|██████████| 64/64 [00:02<00:00, 28.24it/s, v_num=9, train_loss=nan.0]\n"
     ]
    },
    {
     "name": "stderr",
     "output_type": "stream",
     "text": [
      "\n",
      "  | Name        | Type                     | Params | Mode \n",
      "-----------------------------------------------------------------\n",
      "0 | torch_model | TransformerTorchBackbone | 33.1 K | train\n",
      "-----------------------------------------------------------------\n",
      "33.1 K    Trainable params\n",
      "0         Non-trainable params\n",
      "33.1 K    Total params\n",
      "0.132     Total estimated model params size (MB)\n",
      "23        Modules in train mode\n",
      "0         Modules in eval mode\n"
     ]
    },
    {
     "name": "stdout",
     "output_type": "stream",
     "text": [
      "Epoch 0: 100%|██████████| 68/68 [00:02<00:00, 27.59it/s, v_num=10, train_loss=nan.0]"
     ]
    },
    {
     "name": "stderr",
     "output_type": "stream",
     "text": [
      "`Trainer.fit` stopped: `max_epochs=1` reached.\n"
     ]
    },
    {
     "name": "stdout",
     "output_type": "stream",
     "text": [
      "Epoch 0: 100%|██████████| 68/68 [00:02<00:00, 27.57it/s, v_num=10, train_loss=nan.0]\n"
     ]
    },
    {
     "data": {
      "application/vnd.microsoft.datawrangler.viewer.v0+json": {
       "columns": [
        {
         "name": "model",
         "rawType": "object",
         "type": "string"
        },
        {
         "name": "HitRate@6",
         "rawType": "float64",
         "type": "float"
        },
        {
         "name": "NDCG@6",
         "rawType": "float64",
         "type": "float"
        },
        {
         "name": "CatalogCoverage@6",
         "rawType": "float64",
         "type": "float"
        },
        {
         "name": "AvgRecPopularity@6",
         "rawType": "float64",
         "type": "float"
        },
        {
         "name": "Serendipity@6",
         "rawType": "float64",
         "type": "float"
        },
        {
         "name": "Intersection@6_popular",
         "rawType": "float64",
         "type": "float"
        }
       ],
       "ref": "886adb50-b260-4c64-a06b-c815a17f3157",
       "rows": [
        [
         "popular",
         "0.09279172657408426",
         "0.015584437685101649",
         "0.09",
         "338.8832611585718",
         "1.606391918510277e-05",
         "1.0"
        ],
        [
         "ease",
         "0.09818420443029016",
         "0.01671221895123996",
         "1.0",
         "297.2866635051777",
         "0.0029961268910460664",
         "0.1161546889175726"
        ],
        [
         "sasrec",
         "0.08793937641652642",
         "0.01498515472779452",
         "0.504",
         "316.96665448583457",
         "0.0016499402546028808",
         "0.2512636514916385"
        ],
        [
         "als",
         "0.09302773510639542",
         "0.015777944720675296",
         "0.71",
         "303.385694118473",
         "0.002972341429244868",
         "0.05294302635865372"
        ]
       ],
       "shape": {
        "columns": 6,
        "rows": 4
       }
      },
      "text/html": [
       "<div>\n",
       "<style scoped>\n",
       "    .dataframe tbody tr th:only-of-type {\n",
       "        vertical-align: middle;\n",
       "    }\n",
       "\n",
       "    .dataframe tbody tr th {\n",
       "        vertical-align: top;\n",
       "    }\n",
       "\n",
       "    .dataframe thead th {\n",
       "        text-align: right;\n",
       "    }\n",
       "</style>\n",
       "<table border=\"1\" class=\"dataframe\">\n",
       "  <thead>\n",
       "    <tr style=\"text-align: right;\">\n",
       "      <th></th>\n",
       "      <th>HitRate@6</th>\n",
       "      <th>NDCG@6</th>\n",
       "      <th>CatalogCoverage@6</th>\n",
       "      <th>AvgRecPopularity@6</th>\n",
       "      <th>Serendipity@6</th>\n",
       "      <th>Intersection@6_popular</th>\n",
       "    </tr>\n",
       "    <tr>\n",
       "      <th>model</th>\n",
       "      <th></th>\n",
       "      <th></th>\n",
       "      <th></th>\n",
       "      <th></th>\n",
       "      <th></th>\n",
       "      <th></th>\n",
       "    </tr>\n",
       "  </thead>\n",
       "  <tbody>\n",
       "    <tr>\n",
       "      <th>popular</th>\n",
       "      <td>0.092792</td>\n",
       "      <td>0.015584</td>\n",
       "      <td>0.090</td>\n",
       "      <td>338.883261</td>\n",
       "      <td>0.000016</td>\n",
       "      <td>1.000000</td>\n",
       "    </tr>\n",
       "    <tr>\n",
       "      <th>ease</th>\n",
       "      <td>0.098184</td>\n",
       "      <td>0.016712</td>\n",
       "      <td>1.000</td>\n",
       "      <td>297.286664</td>\n",
       "      <td>0.002996</td>\n",
       "      <td>0.116155</td>\n",
       "    </tr>\n",
       "    <tr>\n",
       "      <th>sasrec</th>\n",
       "      <td>0.087939</td>\n",
       "      <td>0.014985</td>\n",
       "      <td>0.504</td>\n",
       "      <td>316.966654</td>\n",
       "      <td>0.001650</td>\n",
       "      <td>0.251264</td>\n",
       "    </tr>\n",
       "    <tr>\n",
       "      <th>als</th>\n",
       "      <td>0.093028</td>\n",
       "      <td>0.015778</td>\n",
       "      <td>0.710</td>\n",
       "      <td>303.385694</td>\n",
       "      <td>0.002972</td>\n",
       "      <td>0.052943</td>\n",
       "    </tr>\n",
       "  </tbody>\n",
       "</table>\n",
       "</div>"
      ],
      "text/plain": [
       "         HitRate@6    NDCG@6  CatalogCoverage@6  AvgRecPopularity@6  \\\n",
       "model                                                                 \n",
       "popular   0.092792  0.015584              0.090          338.883261   \n",
       "ease      0.098184  0.016712              1.000          297.286664   \n",
       "sasrec    0.087939  0.014985              0.504          316.966654   \n",
       "als       0.093028  0.015778              0.710          303.385694   \n",
       "\n",
       "         Serendipity@6  Intersection@6_popular  \n",
       "model                                           \n",
       "popular       0.000016                1.000000  \n",
       "ease          0.002996                0.116155  \n",
       "sasrec        0.001650                0.251264  \n",
       "als           0.002972                0.052943  "
      ]
     },
     "execution_count": 13,
     "metadata": {},
     "output_type": "execute_result"
    }
   ],
   "source": [
    "splitter = TimeRangeSplitter(\n",
    "    test_size=\"14D\",\n",
    "    n_splits=5,\n",
    "    filter_already_seen=True,\n",
    ")\n",
    "\n",
    "models = {\n",
    "    \"popular\": PopularModel(),\n",
    "    \"ease\": ease,\n",
    "    \"sasrec\": sasrec,\n",
    "    \"als\": als\n",
    "}\n",
    "\n",
    "metrics = {\n",
    "    \"HitRate@6\": HitRate(k=6),\n",
    "    \"NDCG@6\": NDCG(k=6),\n",
    "    # Процент объектов из каталога, которые попали в топ 6 рекомендаций хоть кому-то\n",
    "    \"CatalogCoverage@6\": CatalogCoverage(k=6, normalize=True),\n",
    "    # Средняя популярность по топ 6 объектам\n",
    "    \"AvgRecPopularity@6\": AvgRecPopularity(k=6),\n",
    "    # Процент объектов в рекомендациях, которая пересекается с топ 6\n",
    "    \"Intersection@6\": Intersection(k=6),\n",
    "    # Метрика, отражающая баланс \n",
    "    \"Serendipity@6\": Serendipity(k=6),\n",
    "}\n",
    "\n",
    "K_RECS = 10\n",
    "\n",
    "cv_results = cross_validate(\n",
    "    dataset=dataset,\n",
    "    splitter=splitter,\n",
    "    models=models,\n",
    "    metrics=metrics,\n",
    "    k=K_RECS,\n",
    "    filter_viewed=True,\n",
    "    ref_models=[\"popular\"],  # Модель с которой считаем пересечение\n",
    "    validate_ref_models=True\n",
    ")\n",
    "\n",
    "pivot_results = (\n",
    "    pd.DataFrame(cv_results[\"metrics\"])\n",
    "    .drop(columns=\"i_split\")\n",
    "    .groupby([\"model\"], sort=False)\n",
    "    .agg([\"mean\"])\n",
    ")\n",
    "pivot_results.columns = pivot_results.columns.droplevel(1)\n",
    "pivot_results"
   ]
  },
  {
   "cell_type": "markdown",
   "metadata": {},
   "source": [
    "Обучаем наши модели на 1-ой части данных"
   ]
  },
  {
   "cell_type": "code",
   "execution_count": 14,
   "metadata": {},
   "outputs": [
    {
     "name": "stderr",
     "output_type": "stream",
     "text": [
      "\n",
      "  | Name        | Type                     | Params | Mode \n",
      "-----------------------------------------------------------------\n",
      "0 | torch_model | TransformerTorchBackbone | 33.1 K | train\n",
      "-----------------------------------------------------------------\n",
      "33.1 K    Trainable params\n",
      "0         Non-trainable params\n",
      "33.1 K    Total params\n",
      "0.132     Total estimated model params size (MB)\n",
      "23        Modules in train mode\n",
      "0         Modules in eval mode\n"
     ]
    },
    {
     "name": "stdout",
     "output_type": "stream",
     "text": [
      "Epoch 0: 100%|██████████| 72/72 [00:02<00:00, 27.26it/s, v_num=11, train_loss=nan.0]"
     ]
    },
    {
     "name": "stderr",
     "output_type": "stream",
     "text": [
      "`Trainer.fit` stopped: `max_epochs=1` reached.\n"
     ]
    },
    {
     "name": "stdout",
     "output_type": "stream",
     "text": [
      "Epoch 0: 100%|██████████| 72/72 [00:02<00:00, 27.24it/s, v_num=11, train_loss=nan.0]\n",
      "CPU times: user 2.42 s, sys: 699 ms, total: 3.12 s\n",
      "Wall time: 3.19 s\n"
     ]
    },
    {
     "data": {
      "text/plain": [
       "<rectools.models.implicit_als.ImplicitALSWrapperModel at 0x17fdf5b80>"
      ]
     },
     "execution_count": 14,
     "metadata": {},
     "output_type": "execute_result"
    }
   ],
   "source": [
    "%%time\n",
    "sasrec.fit(dataset)\n",
    "ease.fit(dataset)\n",
    "als.fit(dataset)"
   ]
  },
  {
   "cell_type": "code",
   "execution_count": 15,
   "metadata": {},
   "outputs": [
    {
     "data": {
      "application/vnd.microsoft.datawrangler.viewer.v0+json": {
       "columns": [
        {
         "name": "index",
         "rawType": "int64",
         "type": "integer"
        },
        {
         "name": "user_id",
         "rawType": "int64",
         "type": "integer"
        },
        {
         "name": "item_id",
         "rawType": "float64",
         "type": "float"
        },
        {
         "name": "target",
         "rawType": "int64",
         "type": "integer"
        },
        {
         "name": "sex_type",
         "rawType": "object",
         "type": "string"
        },
        {
         "name": "genre",
         "rawType": "object",
         "type": "unknown"
        },
        {
         "name": "mean_users_score",
         "rawType": "float64",
         "type": "float"
        },
        {
         "name": "sasrec_score",
         "rawType": "float32",
         "type": "float"
        },
        {
         "name": "ease_score",
         "rawType": "float32",
         "type": "float"
        },
        {
         "name": "als_score",
         "rawType": "float32",
         "type": "float"
        }
       ],
       "ref": "364e9dd3-eec7-4d5d-b984-cdd6890c13cb",
       "rows": [
        [
         "0",
         "0",
         "11.0",
         "1",
         "M",
         "Триллер",
         "4.8495492608099715",
         "0.5968774",
         "0.060621865",
         "-0.013117754"
        ],
        [
         "1",
         "0",
         "73.0",
         "1",
         "M",
         "Триллер",
         "4.0773071422741705",
         "0.48232284",
         "0.064726055",
         "-0.06571667"
        ],
        [
         "2",
         "0",
         "31.0",
         "1",
         "M",
         "Триллер",
         "0.8526206184364576",
         "0.48483738",
         "0.066657126",
         "0.20663306"
        ],
        [
         "3",
         "0",
         "40.0",
         "1",
         "M",
         "Триллер",
         "0.6101911742238941",
         "0.07881184",
         "0.06362504",
         "0.14006324"
        ],
        [
         "4",
         "0",
         "83.0",
         "1",
         "M",
         "Триллер",
         "0.3177917514301182",
         "0.15336198",
         "0.063909106",
         "0.066737935"
        ],
        [
         "5",
         "1",
         "76.0",
         "1",
         "F",
         "Фантастика",
         "3.8563517334297286",
         "0.13703495",
         "0.0008794274",
         "-0.10071375"
        ],
        [
         "6",
         "1",
         "38.0",
         "1",
         "F",
         "Триллер",
         "3.4211651325607844",
         "0.32790506",
         "0.027856924",
         "0.08835398"
        ],
        [
         "7",
         "1",
         "18.0",
         "1",
         "F",
         "Драма",
         "2.1597250932105787",
         "0.14439826",
         "0.009442411",
         "-0.055281863"
        ],
        [
         "8",
         "1",
         "23.0",
         "1",
         "F",
         "Комедия",
         "1.8318092164684583",
         "0.43759215",
         "0.015268693",
         "-0.03635613"
        ],
        [
         "9",
         "1",
         "42.0",
         "1",
         "F",
         "Комедия",
         "0.1719426055760919",
         "-0.4219742",
         "0.01759857",
         "0.02202132"
        ],
        [
         "10",
         "2",
         "1.0",
         "1",
         "M",
         "Драма",
         "4.75357153204958",
         "0.5966985",
         "0.017328072",
         "-0.031310633"
        ],
        [
         "11",
         "2",
         "33.0",
         "1",
         "M",
         "Фантастика",
         "4.7444276862666666",
         "-0.12754591",
         "0.04397526",
         "0.06773843"
        ],
        [
         "12",
         "2",
         "75.0",
         "1",
         "M",
         "Мелодрама",
         "3.6450358402049368",
         "0.032484867",
         "0.023959953",
         "0.035099152"
        ],
        [
         "13",
         "2",
         "91.0",
         "1",
         "M",
         "Комедия",
         "3.566223936114975",
         "0.31006044",
         "0.024800755",
         "-0.07469403"
        ],
        [
         "14",
         "2",
         "18.0",
         "1",
         "M",
         "Драма",
         "2.1597250932105787",
         "0.25886515",
         "0.022672692",
         "0.05800845"
        ],
        [
         "15",
         "2",
         "19.0",
         "1",
         "M",
         "Мелодрама",
         "1.4561457009902097",
         "-0.111465186",
         "0.018453926",
         "0.007747064"
        ],
        [
         "16",
         "2",
         "71.0",
         "1",
         "M",
         "Мелодрама",
         "0.993578407670862",
         "-0.67655563",
         "0.008259231",
         "0.019236011"
        ],
        [
         "17",
         "2",
         "15.0",
         "1",
         "M",
         "Триллер",
         "0.9170225492671692",
         "0.3245783",
         "0.016548632",
         "0.024772337"
        ],
        [
         "18",
         "4",
         "34.0",
         "1",
         "M",
         "Фантастика",
         "4.828160165372797",
         "0.43910694",
         "0.014005161",
         "-0.0903972"
        ],
        [
         "19",
         "4",
         "1.0",
         "1",
         "M",
         "Драма",
         "4.75357153204958",
         "0.72793365",
         "0.016722161",
         "0.070474006"
        ],
        [
         "20",
         "4",
         "45.0",
         "1",
         "M",
         "Мелодрама",
         "3.31261142176991",
         "0.53100634",
         "0.028206557",
         "-0.18765824"
        ],
        [
         "21",
         "4",
         "93.0",
         "1",
         "M",
         "Триллер",
         "2.8063859878474813",
         "0.39356434",
         "0.05005263",
         "0.19560488"
        ],
        [
         "22",
         "4",
         "66.0",
         "1",
         "M",
         "Комедия",
         "0.7046211248738132",
         "0.4235749",
         "0.03410558",
         "-0.0012111997"
        ],
        [
         "23",
         "5",
         "41.0",
         "1",
         "M",
         "Мелодрама",
         "2.475884550556351",
         "0.11804495",
         "0.02591177",
         "0.18150732"
        ],
        [
         "24",
         "5",
         "97.0",
         "1",
         "M",
         "Мелодрама",
         "2.137705091792748",
         "0.4967172",
         "0.017013317",
         "-0.08206275"
        ],
        [
         "25",
         "5",
         "46.0",
         "1",
         "M",
         "Мелодрама",
         "1.5585553804470549",
         "-0.35016015",
         "0.02828043",
         "0.0064380136"
        ],
        [
         "26",
         "6",
         "55.0",
         "1",
         "F",
         "Фантастика",
         "4.609371175115584",
         "0.3088913",
         "0.022778334",
         "0.13034317"
        ],
        [
         "27",
         "6",
         "35.0",
         "1",
         "F",
         "Драма",
         "4.041986740582305",
         "0.47812402",
         "0.04562042",
         "0.0941762"
        ],
        [
         "28",
         "6",
         "16.0",
         "1",
         "F",
         "Драма",
         "1.5212112147976886",
         "0.3414439",
         "0.03169601",
         "-0.12284116"
        ],
        [
         "29",
         "6",
         "19.0",
         "1",
         "F",
         "Мелодрама",
         "1.4561457009902097",
         "-0.12260731",
         "0.023570715",
         "0.03668564"
        ],
        [
         "30",
         "6",
         "10.0",
         "1",
         "F",
         "Комедия",
         "0.1029224714790122",
         "0.12135003",
         "0.013466606",
         "-0.04152055"
        ],
        [
         "31",
         "6",
         "72.0",
         "1",
         "F",
         "Триллер",
         "0.0276105856180119",
         "-0.20217408",
         "0.011405686",
         "0.0047762496"
        ],
        [
         "32",
         "8",
         "17.0",
         "1",
         "F",
         "Фантастика",
         "2.6237821581611893",
         "0.50806135",
         "0.020440388",
         "-0.005218366"
        ],
        [
         "33",
         "8",
         "97.0",
         "1",
         "F",
         "Мелодрама",
         "2.137705091792748",
         "0.417616",
         "0.00977626",
         "0.060268886"
        ],
        [
         "34",
         "8",
         "4.0",
         "1",
         "F",
         "Фантастика",
         "0.7800932022121826",
         "-0.65455866",
         "0.0077220937",
         "0.012763041"
        ],
        [
         "35",
         "8",
         "10.0",
         "1",
         "F",
         "Комедия",
         "0.1029224714790122",
         "0.085244715",
         "0.018503813",
         "0.096177995"
        ],
        [
         "36",
         "9",
         "34.0",
         "1",
         "F",
         "Фантастика",
         "4.828160165372797",
         "0.6619711",
         "0.030795138",
         "-0.012741741"
        ],
        [
         "37",
         "9",
         "24.0",
         "1",
         "F",
         "Триллер",
         "2.28034992108518",
         "0.009018293",
         "0.035937354",
         "-0.08670836"
        ],
        [
         "38",
         "9",
         "23.0",
         "1",
         "F",
         "Комедия",
         "1.8318092164684583",
         "0.4592506",
         "0.046946377",
         "0.07597288"
        ],
        [
         "39",
         "10",
         "76.0",
         "1",
         "F",
         "Фантастика",
         "3.8563517334297286",
         "-0.0110912705",
         "0.020049512",
         "0.025759192"
        ],
        [
         "40",
         "10",
         "41.0",
         "1",
         "F",
         "Мелодрама",
         "2.475884550556351",
         "0.37297618",
         "0.03328593",
         "0.080678195"
        ],
        [
         "41",
         "10",
         "5.0",
         "1",
         "F",
         "Фантастика",
         "0.7799726016810132",
         "0.32925716",
         "0.018543113",
         "-0.059972964"
        ],
        [
         "42",
         "10",
         "6.0",
         "1",
         "F",
         "Фантастика",
         "0.2904180608409973",
         "0.012896263",
         "0.0006477516",
         "-0.031008784"
        ],
        [
         "43",
         "11",
         "65.0",
         "1",
         "M",
         "Комедия",
         "2.7134804157912424",
         "-0.704314",
         "0.04712135",
         "0.073857"
        ],
        [
         "44",
         "11",
         "17.0",
         "1",
         "M",
         "Фантастика",
         "2.6237821581611893",
         "0.3041991",
         "0.06795954",
         "-0.022515476"
        ],
        [
         "45",
         "11",
         "89.0",
         "1",
         "M",
         "Комедия",
         "2.3610746258097466",
         "0.4114203",
         "0.056075577",
         "-0.11855926"
        ],
        [
         "46",
         "11",
         "24.0",
         "1",
         "M",
         "Триллер",
         "2.28034992108518",
         "-0.24116373",
         "0.041626073",
         "0.12129977"
        ],
        [
         "47",
         "12",
         "7.0",
         "1",
         "M",
         "Драма",
         "4.330880728874676",
         "0.038599294",
         "0.019783683",
         "0.020509252"
        ],
        [
         "48",
         "12",
         "12.0",
         "1",
         "M",
         "Мелодрама",
         "4.162213204002109",
         "0.24721293",
         "0.014353407",
         "-0.0020912967"
        ],
        [
         "49",
         "13",
         "52.0",
         "1",
         "F",
         "Мелодрама",
         "4.697494707820946",
         "-0.06764185",
         "0.04736953",
         "0.042224012"
        ]
       ],
       "shape": {
        "columns": 9,
        "rows": 743740
       }
      },
      "text/html": [
       "<div>\n",
       "<style scoped>\n",
       "    .dataframe tbody tr th:only-of-type {\n",
       "        vertical-align: middle;\n",
       "    }\n",
       "\n",
       "    .dataframe tbody tr th {\n",
       "        vertical-align: top;\n",
       "    }\n",
       "\n",
       "    .dataframe thead th {\n",
       "        text-align: right;\n",
       "    }\n",
       "</style>\n",
       "<table border=\"1\" class=\"dataframe\">\n",
       "  <thead>\n",
       "    <tr style=\"text-align: right;\">\n",
       "      <th></th>\n",
       "      <th>user_id</th>\n",
       "      <th>item_id</th>\n",
       "      <th>target</th>\n",
       "      <th>sex_type</th>\n",
       "      <th>genre</th>\n",
       "      <th>mean_users_score</th>\n",
       "      <th>sasrec_score</th>\n",
       "      <th>ease_score</th>\n",
       "      <th>als_score</th>\n",
       "    </tr>\n",
       "  </thead>\n",
       "  <tbody>\n",
       "    <tr>\n",
       "      <th>0</th>\n",
       "      <td>0</td>\n",
       "      <td>11.0</td>\n",
       "      <td>1</td>\n",
       "      <td>M</td>\n",
       "      <td>Триллер</td>\n",
       "      <td>4.849549</td>\n",
       "      <td>0.596877</td>\n",
       "      <td>0.060622</td>\n",
       "      <td>-0.013118</td>\n",
       "    </tr>\n",
       "    <tr>\n",
       "      <th>1</th>\n",
       "      <td>0</td>\n",
       "      <td>73.0</td>\n",
       "      <td>1</td>\n",
       "      <td>M</td>\n",
       "      <td>Триллер</td>\n",
       "      <td>4.077307</td>\n",
       "      <td>0.482323</td>\n",
       "      <td>0.064726</td>\n",
       "      <td>-0.065717</td>\n",
       "    </tr>\n",
       "    <tr>\n",
       "      <th>2</th>\n",
       "      <td>0</td>\n",
       "      <td>31.0</td>\n",
       "      <td>1</td>\n",
       "      <td>M</td>\n",
       "      <td>Триллер</td>\n",
       "      <td>0.852621</td>\n",
       "      <td>0.484837</td>\n",
       "      <td>0.066657</td>\n",
       "      <td>0.206633</td>\n",
       "    </tr>\n",
       "    <tr>\n",
       "      <th>3</th>\n",
       "      <td>0</td>\n",
       "      <td>40.0</td>\n",
       "      <td>1</td>\n",
       "      <td>M</td>\n",
       "      <td>Триллер</td>\n",
       "      <td>0.610191</td>\n",
       "      <td>0.078812</td>\n",
       "      <td>0.063625</td>\n",
       "      <td>0.140063</td>\n",
       "    </tr>\n",
       "    <tr>\n",
       "      <th>4</th>\n",
       "      <td>0</td>\n",
       "      <td>83.0</td>\n",
       "      <td>1</td>\n",
       "      <td>M</td>\n",
       "      <td>Триллер</td>\n",
       "      <td>0.317792</td>\n",
       "      <td>0.153362</td>\n",
       "      <td>0.063909</td>\n",
       "      <td>0.066738</td>\n",
       "    </tr>\n",
       "    <tr>\n",
       "      <th>...</th>\n",
       "      <td>...</td>\n",
       "      <td>...</td>\n",
       "      <td>...</td>\n",
       "      <td>...</td>\n",
       "      <td>...</td>\n",
       "      <td>...</td>\n",
       "      <td>...</td>\n",
       "      <td>...</td>\n",
       "      <td>...</td>\n",
       "    </tr>\n",
       "    <tr>\n",
       "      <th>743735</th>\n",
       "      <td>9999</td>\n",
       "      <td>32.0</td>\n",
       "      <td>0</td>\n",
       "      <td>M</td>\n",
       "      <td>Драма</td>\n",
       "      <td>0.325258</td>\n",
       "      <td>0.033826</td>\n",
       "      <td>0.021824</td>\n",
       "      <td>0.035264</td>\n",
       "    </tr>\n",
       "    <tr>\n",
       "      <th>743736</th>\n",
       "      <td>9999</td>\n",
       "      <td>6.0</td>\n",
       "      <td>0</td>\n",
       "      <td>M</td>\n",
       "      <td>Фантастика</td>\n",
       "      <td>0.290418</td>\n",
       "      <td>0.267689</td>\n",
       "      <td>0.014991</td>\n",
       "      <td>-0.005380</td>\n",
       "    </tr>\n",
       "    <tr>\n",
       "      <th>743737</th>\n",
       "      <td>9999</td>\n",
       "      <td>29.0</td>\n",
       "      <td>0</td>\n",
       "      <td>M</td>\n",
       "      <td>Комедия</td>\n",
       "      <td>0.232252</td>\n",
       "      <td>-0.267568</td>\n",
       "      <td>0.005127</td>\n",
       "      <td>0.005757</td>\n",
       "    </tr>\n",
       "    <tr>\n",
       "      <th>743738</th>\n",
       "      <td>9999</td>\n",
       "      <td>58.0</td>\n",
       "      <td>0</td>\n",
       "      <td>M</td>\n",
       "      <td>Триллер</td>\n",
       "      <td>0.226136</td>\n",
       "      <td>0.266291</td>\n",
       "      <td>0.019095</td>\n",
       "      <td>0.026932</td>\n",
       "    </tr>\n",
       "    <tr>\n",
       "      <th>743739</th>\n",
       "      <td>9999</td>\n",
       "      <td>0.0</td>\n",
       "      <td>0</td>\n",
       "      <td>M</td>\n",
       "      <td>0</td>\n",
       "      <td>0.000000</td>\n",
       "      <td>0.000000</td>\n",
       "      <td>0.000000</td>\n",
       "      <td>0.000000</td>\n",
       "    </tr>\n",
       "  </tbody>\n",
       "</table>\n",
       "<p>743740 rows × 9 columns</p>\n",
       "</div>"
      ],
      "text/plain": [
       "        user_id  item_id  target sex_type       genre  mean_users_score  \\\n",
       "0             0     11.0       1        M     Триллер          4.849549   \n",
       "1             0     73.0       1        M     Триллер          4.077307   \n",
       "2             0     31.0       1        M     Триллер          0.852621   \n",
       "3             0     40.0       1        M     Триллер          0.610191   \n",
       "4             0     83.0       1        M     Триллер          0.317792   \n",
       "...         ...      ...     ...      ...         ...               ...   \n",
       "743735     9999     32.0       0        M       Драма          0.325258   \n",
       "743736     9999      6.0       0        M  Фантастика          0.290418   \n",
       "743737     9999     29.0       0        M     Комедия          0.232252   \n",
       "743738     9999     58.0       0        M     Триллер          0.226136   \n",
       "743739     9999      0.0       0        M           0          0.000000   \n",
       "\n",
       "        sasrec_score  ease_score  als_score  \n",
       "0           0.596877    0.060622  -0.013118  \n",
       "1           0.482323    0.064726  -0.065717  \n",
       "2           0.484837    0.066657   0.206633  \n",
       "3           0.078812    0.063625   0.140063  \n",
       "4           0.153362    0.063909   0.066738  \n",
       "...              ...         ...        ...  \n",
       "743735      0.033826    0.021824   0.035264  \n",
       "743736      0.267689    0.014991  -0.005380  \n",
       "743737     -0.267568    0.005127   0.005757  \n",
       "743738      0.266291    0.019095   0.026932  \n",
       "743739      0.000000    0.000000   0.000000  \n",
       "\n",
       "[743740 rows x 9 columns]"
      ]
     },
     "execution_count": 15,
     "metadata": {},
     "output_type": "execute_result"
    }
   ],
   "source": [
    "# Скорим базовые модели\n",
    "recom_sasrec = sasrec.recommend(users=dataset.user_id_map.external_ids,\n",
    "                                dataset=dataset,\n",
    "                                filter_viewed=True,\n",
    "                                k=100).drop(columns=['rank']).rename(columns={\"score\": \"sasrec_score\"})\n",
    "recom_ease = ease.recommend(users=dataset.user_id_map.external_ids,\n",
    "                            dataset=dataset,\n",
    "                            filter_viewed=True,\n",
    "                            k=100).drop(columns=['rank']).rename(columns={\"score\": \"ease_score\"})\n",
    "recom_als = als.recommend(users=dataset.user_id_map.external_ids,\n",
    "                          dataset=dataset,\n",
    "                          filter_viewed=True,\n",
    "                          k=100).drop(columns=['rank']).rename(columns={\"score\": \"als_score\"})\n",
    "\n",
    "# Обучаемся - на логах\n",
    "target_df = interactions_second_period[[\"user_id\", \"item_id\"]].drop_duplicates()\n",
    "target_df[\"target\"] = interactions_second_period[\"action\"].map({\"click\": 1, \"show\": 0})\n",
    "\n",
    "# Собираем общий датасет\n",
    "all_features = target_df\n",
    "all_features = all_features.merge(users, on=[\"user_id\"], how=\"left\")\n",
    "all_features = all_features.merge(items, on=[\"item_id\"], how=\"left\")\n",
    "all_features = all_features.merge(recom_sasrec, on=[\"user_id\", \"item_id\"], how=\"left\")\n",
    "all_features = all_features.merge(recom_ease, on=[\"user_id\", \"item_id\"], how=\"left\")\n",
    "all_features = all_features.merge(recom_als, on=[\"user_id\", \"item_id\"], how=\"left\")\n",
    "\n",
    "all_features = all_features.fillna(0)\n",
    "\n",
    "all_features"
   ]
  },
  {
   "cell_type": "code",
   "execution_count": 16,
   "metadata": {},
   "outputs": [],
   "source": [
    "# Разделяем пользователей на тренировочную и валидационную выборки - важно что бы пользователь полностью попал либо в трейн, kb,j d dfkblfwb.\n",
    "train_users, val_users = train_test_split(all_features[\"user_id\"].drop_duplicates(), \n",
    "                                          test_size=0.25,\n",
    "                                          random_state=42)\n",
    "\n",
    "data_train = all_features[all_features[\"user_id\"].isin(train_users)].sort_values(\"user_id\")\n",
    "data_val = all_features[all_features[\"user_id\"].isin(val_users)].sort_values(\"user_id\")\n",
    "\n",
    "X_train = data_train.drop(columns=\"target\")\n",
    "X_val = data_val.drop(columns=\"target\")\n",
    "y_train = data_train[\"target\"]\n",
    "y_val = data_val[\"target\"]"
   ]
  },
  {
   "cell_type": "code",
   "execution_count": 17,
   "metadata": {},
   "outputs": [
    {
     "name": "stdout",
     "output_type": "stream",
     "text": [
      "Groupwise loss function. OneHotMaxSize set to 10\n",
      "0:\ttest: 0.4104429\tbest: 0.4104429 (0)\ttotal: 233ms\tremaining: 23.1s\n",
      "1:\ttest: 0.5318633\tbest: 0.5318633 (1)\ttotal: 384ms\tremaining: 18.8s\n",
      "2:\ttest: 0.5590721\tbest: 0.5590721 (2)\ttotal: 529ms\tremaining: 17.1s\n",
      "3:\ttest: 0.5655959\tbest: 0.5655959 (3)\ttotal: 673ms\tremaining: 16.2s\n",
      "4:\ttest: 0.6012594\tbest: 0.6012594 (4)\ttotal: 812ms\tremaining: 15.4s\n",
      "5:\ttest: 0.6166224\tbest: 0.6166224 (5)\ttotal: 939ms\tremaining: 14.7s\n",
      "6:\ttest: 0.6306907\tbest: 0.6306907 (6)\ttotal: 1.08s\tremaining: 14.4s\n",
      "7:\ttest: 0.6356645\tbest: 0.6356645 (7)\ttotal: 1.22s\tremaining: 14.1s\n",
      "8:\ttest: 0.6559320\tbest: 0.6559320 (8)\ttotal: 1.37s\tremaining: 13.9s\n",
      "9:\ttest: 0.6619081\tbest: 0.6619081 (9)\ttotal: 1.5s\tremaining: 13.5s\n",
      "10:\ttest: 0.6660783\tbest: 0.6660783 (10)\ttotal: 1.64s\tremaining: 13.3s\n",
      "11:\ttest: 0.6724253\tbest: 0.6724253 (11)\ttotal: 1.77s\tremaining: 13s\n",
      "12:\ttest: 0.6764388\tbest: 0.6764388 (12)\ttotal: 1.9s\tremaining: 12.7s\n",
      "13:\ttest: 0.6791446\tbest: 0.6791446 (13)\ttotal: 2.02s\tremaining: 12.4s\n",
      "14:\ttest: 0.6823824\tbest: 0.6823824 (14)\ttotal: 2.15s\tremaining: 12.2s\n",
      "15:\ttest: 0.6814662\tbest: 0.6823824 (14)\ttotal: 2.28s\tremaining: 12s\n",
      "16:\ttest: 0.6815733\tbest: 0.6823824 (14)\ttotal: 2.41s\tremaining: 11.8s\n",
      "17:\ttest: 0.6802203\tbest: 0.6823824 (14)\ttotal: 2.53s\tremaining: 11.5s\n",
      "Stopped by overfitting detector  (3 iterations wait)\n",
      "\n",
      "bestTest = 0.6823823789\n",
      "bestIteration = 14\n",
      "\n",
      "Shrink model to first 15 iterations.\n"
     ]
    },
    {
     "data": {
      "text/plain": [
       "<catboost.core.CatBoostRanker at 0x33aef3830>"
      ]
     },
     "execution_count": 17,
     "metadata": {},
     "output_type": "execute_result"
    }
   ],
   "source": [
    "train_pool = Pool(data=X_train.drop(columns=[\"user_id\", \"item_id\"]),\n",
    "                  label=y_train,\n",
    "                  group_id=X_train[\"user_id\"],\n",
    "                  cat_features=['sex_type', 'genre'])\n",
    "\n",
    "val_pool = Pool(data=X_val.drop(columns=[\"user_id\", \"item_id\"]),\n",
    "                label=y_val,\n",
    "                group_id=X_val[\"user_id\"],\n",
    "                cat_features=['sex_type', 'genre'])\n",
    "\n",
    "\n",
    "model = CatBoostRanker(\n",
    "    iterations=100,             \n",
    "    learning_rate=0.1,          \n",
    "    depth=6,                    \n",
    "    early_stopping_rounds=3\n",
    ")\n",
    "\n",
    "model.fit(train_pool, eval_set=val_pool) \n"
   ]
  }
 ],
 "metadata": {
  "kernelspec": {
   "display_name": "yaMasterClass2026",
   "language": "python",
   "name": "python3"
  },
  "language_info": {
   "codemirror_mode": {
    "name": "ipython",
    "version": 3
   },
   "file_extension": ".py",
   "mimetype": "text/x-python",
   "name": "python",
   "nbconvert_exporter": "python",
   "pygments_lexer": "ipython3",
   "version": "3.12.7"
  }
 },
 "nbformat": 4,
 "nbformat_minor": 2
}
